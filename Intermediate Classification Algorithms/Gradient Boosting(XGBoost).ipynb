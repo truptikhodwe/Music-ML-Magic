{
 "cells": [
  {
   "cell_type": "code",
   "execution_count": 1,
   "id": "9124451e",
   "metadata": {},
   "outputs": [],
   "source": [
    "import os\n",
    "import pandas as pd\n",
    "import numpy as np\n",
    "import IPython.display as ipd\n",
    "import librosa\n",
    "import librosa.display\n",
    "import matplotlib.pyplot as plt\n",
    "%matplotlib inline"
   ]
  },
  {
   "cell_type": "code",
   "execution_count": 2,
   "id": "958fb70d",
   "metadata": {},
   "outputs": [],
   "source": [
    "audio_dataset_path = '/home/trupti/Desktop/Zense_Proj_ML/archive/Data/genres_original'\n",
    "metadata = pd.read_csv(r'/home/trupti/Desktop/Zense_Proj_ML/archive/Data/features_30_sec.csv')"
   ]
  },
  {
   "cell_type": "code",
   "execution_count": 3,
   "id": "6dec9178",
   "metadata": {},
   "outputs": [],
   "source": [
    "def feature_extractor(file):\n",
    "    audio, sample_rate = librosa.load(file_name, res_type = 'kaiser_fast')\n",
    "    mfccs_features = librosa.feature.mfcc(y = audio, sr = sample_rate, n_mfcc = 40)\n",
    "    mfccs_scaled_features = np.mean(mfccs_features.T, axis = 0)\n",
    "    return mfccs_scaled_features"
   ]
  },
  {
   "cell_type": "code",
   "execution_count": 4,
   "id": "570dd547",
   "metadata": {},
   "outputs": [],
   "source": [
    "from tqdm import tqdm"
   ]
  },
  {
   "cell_type": "code",
   "execution_count": 5,
   "id": "6de895ff",
   "metadata": {},
   "outputs": [
    {
     "name": "stderr",
     "output_type": "stream",
     "text": [
      "554it [00:23, 20.27it/s]/tmp/ipykernel_11622/1946415227.py:2: UserWarning: PySoundFile failed. Trying audioread instead.\n",
      "  audio, sample_rate = librosa.load(file_name, res_type = 'kaiser_fast')\n",
      "/home/trupti/Desktop/anaconda3/lib/python3.11/site-packages/librosa/core/audio.py:184: FutureWarning: librosa.core.audio.__audioread_load\n",
      "\tDeprecated as of librosa version 0.10.0.\n",
      "\tIt will be removed in librosa version 1.0.\n",
      "  y, sr_native = __audioread_load(path, offset, duration, dtype)\n",
      "557it [00:23, 18.63it/s]"
     ]
    },
    {
     "name": "stdout",
     "output_type": "stream",
     "text": [
      "Error: \n"
     ]
    },
    {
     "name": "stderr",
     "output_type": "stream",
     "text": [
      "1000it [00:47, 20.90it/s]\n"
     ]
    }
   ],
   "source": [
    "extracted_features = []\n",
    "for index_num, row in tqdm(metadata.iterrows()):\n",
    "    try:\n",
    "        final_class_labels = row[\"label\"]\n",
    "        file_name = os.path.join(os.path.abspath(audio_dataset_path), final_class_labels + '/', str(row[\"filename\"]))\n",
    "        data = feature_extractor(file_name)\n",
    "        extracted_features.append([data, final_class_labels])\n",
    "    except Exception as e:\n",
    "        print(f\"Error: {e}\")\n",
    "        continue"
   ]
  },
  {
   "cell_type": "code",
   "execution_count": 6,
   "id": "96c0a555",
   "metadata": {},
   "outputs": [],
   "source": [
    "extracted_features_df = pd.DataFrame(extracted_features, columns = ['feature', 'class'])"
   ]
  },
  {
   "cell_type": "code",
   "execution_count": 7,
   "id": "727c7586",
   "metadata": {},
   "outputs": [
    {
     "data": {
      "text/plain": [
       "blues        100\n",
       "classical    100\n",
       "country      100\n",
       "disco        100\n",
       "hiphop       100\n",
       "metal        100\n",
       "pop          100\n",
       "reggae       100\n",
       "rock         100\n",
       "jazz          99\n",
       "Name: class, dtype: int64"
      ]
     },
     "execution_count": 7,
     "metadata": {},
     "output_type": "execute_result"
    }
   ],
   "source": [
    "extracted_features_df['class'].value_counts()"
   ]
  },
  {
   "cell_type": "code",
   "execution_count": 8,
   "id": "19d38936",
   "metadata": {},
   "outputs": [],
   "source": [
    "X = np.array(extracted_features_df['feature'].tolist())\n",
    "y = np.array(extracted_features_df['class'].tolist())"
   ]
  },
  {
   "cell_type": "code",
   "execution_count": 9,
   "id": "f7aeddae",
   "metadata": {},
   "outputs": [
    {
     "name": "stdout",
     "output_type": "stream",
     "text": [
      "Shape of X_train: (799, 40)\n",
      "Shape of X_test: (200, 40)\n",
      "Shape of y_train: (799,)\n",
      "Shape of y_test: (200,)\n"
     ]
    }
   ],
   "source": [
    "from sklearn.model_selection import train_test_split\n",
    "\n",
    "# Split the data into training and testing sets\n",
    "X_train, X_test, y_train, y_test = train_test_split(X, y, test_size=0.2, random_state=42)\n",
    "\n",
    "# Print the shapes of the split datasets\n",
    "print(\"Shape of X_train:\", X_train.shape)\n",
    "print(\"Shape of X_test:\", X_test.shape)\n",
    "print(\"Shape of y_train:\", y_train.shape)\n",
    "print(\"Shape of y_test:\", y_test.shape)"
   ]
  },
  {
   "cell_type": "code",
   "execution_count": 10,
   "id": "b49f15ac",
   "metadata": {},
   "outputs": [],
   "source": [
    "from xgboost import XGBClassifier\n",
    "from sklearn.metrics import accuracy_score"
   ]
  },
  {
   "cell_type": "code",
   "execution_count": 11,
   "id": "d4bf782d",
   "metadata": {},
   "outputs": [],
   "source": [
    "#xgb_classifier = XGBClassifier(n_estimators=100, learning_rate=0.1, random_state=42)"
   ]
  },
  {
   "cell_type": "code",
   "execution_count": 12,
   "id": "d1d96eda",
   "metadata": {},
   "outputs": [],
   "source": [
    "#xgb_classifier.fit(X_train, y_train)"
   ]
  },
  {
   "cell_type": "code",
   "execution_count": 13,
   "id": "8b78a330",
   "metadata": {},
   "outputs": [],
   "source": [
    "from sklearn.preprocessing import LabelEncoder"
   ]
  },
  {
   "cell_type": "code",
   "execution_count": 14,
   "id": "b0928c99",
   "metadata": {},
   "outputs": [],
   "source": [
    "# Initialize LabelEncoder\n",
    "label_encoder = LabelEncoder()"
   ]
  },
  {
   "cell_type": "code",
   "execution_count": 15,
   "id": "2b8a839e",
   "metadata": {},
   "outputs": [],
   "source": [
    "# Encode the target labels\n",
    "y_train_encoded = label_encoder.fit_transform(y_train)"
   ]
  },
  {
   "cell_type": "code",
   "execution_count": 16,
   "id": "67fbbcb9",
   "metadata": {},
   "outputs": [
    {
     "data": {
      "text/plain": [
       "array([7, 2, 1, 9, 4, 9, 0, 1, 2, 8, 8, 3, 8, 5, 4, 2, 9, 3, 4, 0, 9, 2,\n",
       "       5, 7, 9, 5, 9, 9, 4, 9, 0, 0, 2, 7, 1, 3, 0, 2, 3, 5, 3, 1, 4, 0,\n",
       "       0, 4, 0, 5, 5, 3, 4, 9, 5, 4, 0, 1, 4, 2, 0, 8, 7, 0, 2, 3, 8, 4,\n",
       "       8, 4, 4, 7, 1, 8, 2, 9, 0, 1, 6, 0, 6, 6, 6, 2, 2, 2, 7, 3, 4, 2,\n",
       "       8, 3, 7, 4, 3, 4, 9, 3, 4, 0, 1, 8, 7, 6, 3, 7, 5, 3, 5, 9, 9, 6,\n",
       "       5, 5, 7, 5, 4, 2, 3, 8, 2, 0, 1, 3, 3, 7, 9, 9, 4, 9, 1, 5, 3, 6,\n",
       "       4, 0, 3, 7, 7, 3, 5, 5, 3, 1, 1, 5, 8, 9, 0, 9, 1, 2, 8, 0, 2, 1,\n",
       "       3, 4, 3, 1, 6, 6, 1, 4, 1, 0, 9, 1, 7, 6, 1, 4, 1, 1, 0, 9, 6, 0,\n",
       "       6, 4, 2, 1, 8, 2, 2, 5, 8, 1, 9, 4, 1, 0, 7, 1, 5, 0, 7, 4, 6, 8,\n",
       "       0, 7, 4, 5, 6, 6, 9, 3, 0, 5, 6, 9, 6, 2, 5, 7, 8, 5, 6, 4, 0, 7,\n",
       "       4, 5, 5, 3, 0, 0, 9, 2, 2, 3, 3, 9, 2, 0, 1, 3, 4, 9, 2, 8, 9, 5,\n",
       "       5, 5, 8, 1, 6, 6, 5, 5, 3, 1, 2, 6, 8, 6, 3, 4, 0, 1, 5, 5, 3, 1,\n",
       "       1, 4, 7, 4, 4, 0, 7, 0, 3, 9, 9, 9, 6, 8, 6, 0, 0, 3, 5, 0, 0, 3,\n",
       "       1, 4, 9, 5, 7, 1, 4, 1, 4, 4, 9, 8, 6, 1, 3, 6, 7, 9, 7, 3, 9, 6,\n",
       "       2, 5, 3, 6, 0, 3, 7, 2, 1, 9, 0, 3, 6, 9, 3, 4, 9, 8, 2, 6, 0, 5,\n",
       "       0, 6, 2, 8, 4, 1, 0, 8, 4, 1, 2, 2, 4, 1, 8, 5, 5, 5, 1, 1, 4, 6,\n",
       "       0, 6, 9, 3, 2, 0, 3, 1, 9, 8, 7, 2, 4, 9, 3, 3, 9, 1, 1, 7, 0, 3,\n",
       "       9, 1, 4, 3, 6, 3, 0, 8, 7, 8, 4, 5, 8, 0, 1, 2, 8, 6, 7, 8, 1, 2,\n",
       "       6, 5, 8, 0, 1, 3, 2, 6, 9, 1, 1, 6, 6, 1, 3, 7, 7, 7, 6, 6, 5, 9,\n",
       "       0, 9, 1, 7, 1, 0, 5, 0, 9, 8, 5, 6, 4, 2, 7, 6, 2, 0, 7, 4, 9, 3,\n",
       "       2, 0, 9, 3, 4, 9, 8, 7, 8, 1, 8, 8, 5, 9, 8, 5, 9, 1, 8, 1, 6, 9,\n",
       "       7, 1, 2, 6, 1, 4, 4, 7, 5, 8, 6, 1, 0, 1, 4, 9, 2, 6, 8, 7, 0, 8,\n",
       "       0, 4, 6, 2, 3, 7, 5, 6, 7, 7, 2, 6, 2, 4, 1, 7, 6, 8, 5, 7, 4, 1,\n",
       "       1, 8, 9, 8, 6, 3, 4, 3, 1, 1, 8, 6, 1, 9, 1, 6, 2, 2, 4, 1, 1, 2,\n",
       "       4, 2, 4, 9, 7, 9, 7, 8, 1, 6, 4, 7, 9, 7, 9, 2, 6, 9, 7, 9, 9, 6,\n",
       "       8, 7, 3, 9, 5, 2, 9, 4, 4, 1, 6, 2, 8, 6, 6, 3, 9, 8, 2, 7, 6, 3,\n",
       "       6, 4, 9, 7, 3, 2, 7, 6, 6, 2, 3, 3, 2, 9, 8, 4, 3, 5, 6, 9, 9, 9,\n",
       "       6, 8, 8, 6, 8, 5, 9, 5, 7, 0, 2, 6, 1, 5, 0, 5, 1, 6, 8, 8, 8, 9,\n",
       "       7, 0, 5, 2, 7, 5, 6, 4, 5, 8, 2, 3, 7, 3, 7, 8, 2, 0, 7, 6, 8, 6,\n",
       "       7, 5, 7, 6, 0, 8, 7, 5, 4, 5, 0, 0, 7, 8, 2, 1, 0, 8, 2, 4, 7, 3,\n",
       "       2, 4, 6, 3, 5, 4, 1, 0, 4, 6, 1, 9, 5, 8, 9, 0, 8, 0, 1, 0, 4, 3,\n",
       "       1, 7, 2, 7, 0, 8, 3, 7, 7, 7, 2, 7, 2, 7, 4, 4, 9, 8, 8, 2, 2, 1,\n",
       "       5, 7, 4, 7, 4, 8, 7, 1, 5, 3, 0, 9, 9, 5, 0, 2, 0, 7, 5, 4, 4, 3,\n",
       "       0, 3, 8, 5, 3, 7, 2, 0, 3, 6, 3, 2, 1, 8, 9, 6, 8, 4, 9, 5, 8, 2,\n",
       "       5, 8, 5, 6, 1, 7, 7, 4, 6, 5, 0, 4, 5, 8, 7, 2, 0, 3, 4, 1, 2, 9,\n",
       "       1, 3, 8, 4, 4, 3, 7, 3, 6, 1, 6, 8, 0, 3, 0, 4, 3, 2, 4, 1, 6, 0,\n",
       "       7, 0, 1, 2, 8, 4, 1])"
      ]
     },
     "execution_count": 16,
     "metadata": {},
     "output_type": "execute_result"
    }
   ],
   "source": [
    "y_train_encoded"
   ]
  },
  {
   "cell_type": "code",
   "execution_count": 62,
   "id": "557dd3bb",
   "metadata": {},
   "outputs": [
    {
     "data": {
      "text/html": [
       "<style>#sk-container-id-8 {color: black;}#sk-container-id-8 pre{padding: 0;}#sk-container-id-8 div.sk-toggleable {background-color: white;}#sk-container-id-8 label.sk-toggleable__label {cursor: pointer;display: block;width: 100%;margin-bottom: 0;padding: 0.3em;box-sizing: border-box;text-align: center;}#sk-container-id-8 label.sk-toggleable__label-arrow:before {content: \"▸\";float: left;margin-right: 0.25em;color: #696969;}#sk-container-id-8 label.sk-toggleable__label-arrow:hover:before {color: black;}#sk-container-id-8 div.sk-estimator:hover label.sk-toggleable__label-arrow:before {color: black;}#sk-container-id-8 div.sk-toggleable__content {max-height: 0;max-width: 0;overflow: hidden;text-align: left;background-color: #f0f8ff;}#sk-container-id-8 div.sk-toggleable__content pre {margin: 0.2em;color: black;border-radius: 0.25em;background-color: #f0f8ff;}#sk-container-id-8 input.sk-toggleable__control:checked~div.sk-toggleable__content {max-height: 200px;max-width: 100%;overflow: auto;}#sk-container-id-8 input.sk-toggleable__control:checked~label.sk-toggleable__label-arrow:before {content: \"▾\";}#sk-container-id-8 div.sk-estimator input.sk-toggleable__control:checked~label.sk-toggleable__label {background-color: #d4ebff;}#sk-container-id-8 div.sk-label input.sk-toggleable__control:checked~label.sk-toggleable__label {background-color: #d4ebff;}#sk-container-id-8 input.sk-hidden--visually {border: 0;clip: rect(1px 1px 1px 1px);clip: rect(1px, 1px, 1px, 1px);height: 1px;margin: -1px;overflow: hidden;padding: 0;position: absolute;width: 1px;}#sk-container-id-8 div.sk-estimator {font-family: monospace;background-color: #f0f8ff;border: 1px dotted black;border-radius: 0.25em;box-sizing: border-box;margin-bottom: 0.5em;}#sk-container-id-8 div.sk-estimator:hover {background-color: #d4ebff;}#sk-container-id-8 div.sk-parallel-item::after {content: \"\";width: 100%;border-bottom: 1px solid gray;flex-grow: 1;}#sk-container-id-8 div.sk-label:hover label.sk-toggleable__label {background-color: #d4ebff;}#sk-container-id-8 div.sk-serial::before {content: \"\";position: absolute;border-left: 1px solid gray;box-sizing: border-box;top: 0;bottom: 0;left: 50%;z-index: 0;}#sk-container-id-8 div.sk-serial {display: flex;flex-direction: column;align-items: center;background-color: white;padding-right: 0.2em;padding-left: 0.2em;position: relative;}#sk-container-id-8 div.sk-item {position: relative;z-index: 1;}#sk-container-id-8 div.sk-parallel {display: flex;align-items: stretch;justify-content: center;background-color: white;position: relative;}#sk-container-id-8 div.sk-item::before, #sk-container-id-8 div.sk-parallel-item::before {content: \"\";position: absolute;border-left: 1px solid gray;box-sizing: border-box;top: 0;bottom: 0;left: 50%;z-index: -1;}#sk-container-id-8 div.sk-parallel-item {display: flex;flex-direction: column;z-index: 1;position: relative;background-color: white;}#sk-container-id-8 div.sk-parallel-item:first-child::after {align-self: flex-end;width: 50%;}#sk-container-id-8 div.sk-parallel-item:last-child::after {align-self: flex-start;width: 50%;}#sk-container-id-8 div.sk-parallel-item:only-child::after {width: 0;}#sk-container-id-8 div.sk-dashed-wrapped {border: 1px dashed gray;margin: 0 0.4em 0.5em 0.4em;box-sizing: border-box;padding-bottom: 0.4em;background-color: white;}#sk-container-id-8 div.sk-label label {font-family: monospace;font-weight: bold;display: inline-block;line-height: 1.2em;}#sk-container-id-8 div.sk-label-container {text-align: center;}#sk-container-id-8 div.sk-container {/* jupyter's `normalize.less` sets `[hidden] { display: none; }` but bootstrap.min.css set `[hidden] { display: none !important; }` so we also need the `!important` here to be able to override the default hidden behavior on the sphinx rendered scikit-learn.org. See: https://github.com/scikit-learn/scikit-learn/issues/21755 */display: inline-block !important;position: relative;}#sk-container-id-8 div.sk-text-repr-fallback {display: none;}</style><div id=\"sk-container-id-8\" class=\"sk-top-container\"><div class=\"sk-text-repr-fallback\"><pre>XGBClassifier(base_score=None, booster=None, callbacks=None,\n",
       "              colsample_bylevel=None, colsample_bynode=None,\n",
       "              colsample_bytree=None, early_stopping_rounds=None,\n",
       "              enable_categorical=False, eval_metric=None, feature_types=None,\n",
       "              gamma=None, gpu_id=None, grow_policy=None, importance_type=None,\n",
       "              interaction_constraints=None, learning_rate=0.1, max_bin=None,\n",
       "              max_cat_threshold=None, max_cat_to_onehot=None,\n",
       "              max_delta_step=None, max_depth=None, max_leaves=None,\n",
       "              min_child_weight=None, missing=nan, monotone_constraints=None,\n",
       "              n_estimators=200, n_jobs=None, num_parallel_tree=None,\n",
       "              objective=&#x27;multi:softprob&#x27;, predictor=None, ...)</pre><b>In a Jupyter environment, please rerun this cell to show the HTML representation or trust the notebook. <br />On GitHub, the HTML representation is unable to render, please try loading this page with nbviewer.org.</b></div><div class=\"sk-container\" hidden><div class=\"sk-item\"><div class=\"sk-estimator sk-toggleable\"><input class=\"sk-toggleable__control sk-hidden--visually\" id=\"sk-estimator-id-8\" type=\"checkbox\" checked><label for=\"sk-estimator-id-8\" class=\"sk-toggleable__label sk-toggleable__label-arrow\">XGBClassifier</label><div class=\"sk-toggleable__content\"><pre>XGBClassifier(base_score=None, booster=None, callbacks=None,\n",
       "              colsample_bylevel=None, colsample_bynode=None,\n",
       "              colsample_bytree=None, early_stopping_rounds=None,\n",
       "              enable_categorical=False, eval_metric=None, feature_types=None,\n",
       "              gamma=None, gpu_id=None, grow_policy=None, importance_type=None,\n",
       "              interaction_constraints=None, learning_rate=0.1, max_bin=None,\n",
       "              max_cat_threshold=None, max_cat_to_onehot=None,\n",
       "              max_delta_step=None, max_depth=None, max_leaves=None,\n",
       "              min_child_weight=None, missing=nan, monotone_constraints=None,\n",
       "              n_estimators=200, n_jobs=None, num_parallel_tree=None,\n",
       "              objective=&#x27;multi:softprob&#x27;, predictor=None, ...)</pre></div></div></div></div></div>"
      ],
      "text/plain": [
       "XGBClassifier(base_score=None, booster=None, callbacks=None,\n",
       "              colsample_bylevel=None, colsample_bynode=None,\n",
       "              colsample_bytree=None, early_stopping_rounds=None,\n",
       "              enable_categorical=False, eval_metric=None, feature_types=None,\n",
       "              gamma=None, gpu_id=None, grow_policy=None, importance_type=None,\n",
       "              interaction_constraints=None, learning_rate=0.1, max_bin=None,\n",
       "              max_cat_threshold=None, max_cat_to_onehot=None,\n",
       "              max_delta_step=None, max_depth=None, max_leaves=None,\n",
       "              min_child_weight=None, missing=nan, monotone_constraints=None,\n",
       "              n_estimators=200, n_jobs=None, num_parallel_tree=None,\n",
       "              objective='multi:softprob', predictor=None, ...)"
      ]
     },
     "execution_count": 62,
     "metadata": {},
     "output_type": "execute_result"
    }
   ],
   "source": [
    "xgb_classifier = XGBClassifier(n_estimators=200, learning_rate=0.1, random_state=42)\n",
    "xgb_classifier.fit(X_train, y_train_encoded)"
   ]
  },
  {
   "cell_type": "code",
   "execution_count": 63,
   "id": "3c70030b",
   "metadata": {},
   "outputs": [],
   "source": [
    "y_pred = xgb_classifier.predict(X_test)"
   ]
  },
  {
   "cell_type": "code",
   "execution_count": 64,
   "id": "2785d952",
   "metadata": {},
   "outputs": [],
   "source": [
    "y_pred_labels = label_encoder.inverse_transform(y_pred)"
   ]
  },
  {
   "cell_type": "code",
   "execution_count": 65,
   "id": "a5c61c3e",
   "metadata": {},
   "outputs": [],
   "source": [
    "accuracy = accuracy_score(y_test, y_pred_labels)"
   ]
  },
  {
   "cell_type": "code",
   "execution_count": 66,
   "id": "134bb2da",
   "metadata": {},
   "outputs": [
    {
     "name": "stdout",
     "output_type": "stream",
     "text": [
      "Accuracy for testing data :  0.615\n"
     ]
    }
   ],
   "source": [
    "print(\"Accuracy for testing data : \", accuracy)"
   ]
  },
  {
   "cell_type": "code",
   "execution_count": 67,
   "id": "685208b8",
   "metadata": {},
   "outputs": [],
   "source": [
    "y_train_pred = xgb_classifier.predict(X_train)"
   ]
  },
  {
   "cell_type": "code",
   "execution_count": 68,
   "id": "41ec7b0d",
   "metadata": {},
   "outputs": [],
   "source": [
    "# Convert the encoded predictions back to original labels\n",
    "y_train_pred_labels = label_encoder.inverse_transform(y_train_pred)"
   ]
  },
  {
   "cell_type": "code",
   "execution_count": 69,
   "id": "346549a4",
   "metadata": {},
   "outputs": [],
   "source": [
    "# Calculate accuracy for training dataset\n",
    "train_accuracy = accuracy_score(y_train, y_train_pred_labels)"
   ]
  },
  {
   "cell_type": "code",
   "execution_count": 70,
   "id": "99558921",
   "metadata": {},
   "outputs": [
    {
     "name": "stdout",
     "output_type": "stream",
     "text": [
      "Accuracy for training data :  1.0\n"
     ]
    }
   ],
   "source": [
    "print(\"Accuracy for training data : \", train_accuracy)"
   ]
  }
 ],
 "metadata": {
  "kernelspec": {
   "display_name": "Python 3 (ipykernel)",
   "language": "python",
   "name": "python3"
  },
  "language_info": {
   "codemirror_mode": {
    "name": "ipython",
    "version": 3
   },
   "file_extension": ".py",
   "mimetype": "text/x-python",
   "name": "python",
   "nbconvert_exporter": "python",
   "pygments_lexer": "ipython3",
   "version": "3.11.3"
  }
 },
 "nbformat": 4,
 "nbformat_minor": 5
}
