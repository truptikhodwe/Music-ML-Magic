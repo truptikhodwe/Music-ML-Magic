{
 "cells": [
  {
   "cell_type": "code",
   "execution_count": null,
   "id": "f3b6c72f",
   "metadata": {},
   "outputs": [],
   "source": [
    "import numpy as np\n",
    "import librosa\n",
    "import joblib\n",
    "\n",
    "def feature_extractor(audio_file):\n",
    "    audio, sample_rate = librosa.load(audio_file, res_type='kaiser_fast')\n",
    "    mfccs_features = librosa.feature.mfcc(y=audio, sr=sample_rate, n_mfcc=40)\n",
    "    mfccs_scaled_features = np.mean(mfccs_features.T, axis=0)\n",
    "    return mfccs_scaled_features\n",
    "\n",
    "def predict_genre(audio_file_path, model_path):\n",
    "    # Load the trained model\n",
    "    model = joblib.load(model_path)\n",
    "    \n",
    "    # Extract features from the audio file\n",
    "    features = feature_extractor(audio_file_path)\n",
    "    \n",
    "    # Reshape features to match the model's input shape\n",
    "    features = features.reshape(1, -1)\n",
    "    \n",
    "    # Predict the genre using the trained model\n",
    "    predicted_genre = model.predict(features)\n",
    "    return predicted_genre[0]\n",
    "\n",
    "# Example usage\n",
    "model_path = \"/home/trupti/Desktop/Zense_Proj_ML/Intermediate Classification Algorithms/random_forest_model.pkl\"  # Change this to the path of your model\n",
    "audio_path = input(\"Enter the path to the audio file: \")\n",
    "predicted_genre = predict_genre(audio_path, model_path)\n",
    "print(\"Predicted Genre:\", predicted_genre)"
   ]
  },
  {
   "cell_type": "code",
   "execution_count": null,
   "id": "fabe3b2c",
   "metadata": {},
   "outputs": [],
   "source": []
  }
 ],
 "metadata": {
  "kernelspec": {
   "display_name": "Python 3 (ipykernel)",
   "language": "python",
   "name": "python3"
  },
  "language_info": {
   "codemirror_mode": {
    "name": "ipython",
    "version": 3
   },
   "file_extension": ".py",
   "mimetype": "text/x-python",
   "name": "python",
   "nbconvert_exporter": "python",
   "pygments_lexer": "ipython3",
   "version": "3.11.3"
  }
 },
 "nbformat": 4,
 "nbformat_minor": 5
}
