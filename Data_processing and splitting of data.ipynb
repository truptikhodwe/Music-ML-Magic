{
 "cells": [
  {
   "cell_type": "code",
   "execution_count": 1,
   "id": "87c5276e",
   "metadata": {},
   "outputs": [],
   "source": [
    "import os\n",
    "import pandas as pd\n",
    "import numpy as np\n",
    "import IPython.display as ipd\n",
    "import librosa\n",
    "import librosa.display\n",
    "import matplotlib.pyplot as plt\n",
    "%matplotlib inline"
   ]
  },
  {
   "cell_type": "code",
   "execution_count": 2,
   "id": "0a3b143e",
   "metadata": {},
   "outputs": [],
   "source": [
    "audio_dataset_path = '/home/trupti/Desktop/Zense_Proj_ML/archive/Data/genres_original'\n",
    "metadata = pd.read_csv(r'/home/trupti/Desktop/Zense_Proj_ML/archive/Data/features_30_sec.csv')"
   ]
  },
  {
   "cell_type": "code",
   "execution_count": 3,
   "id": "de629a9e",
   "metadata": {},
   "outputs": [
    {
     "data": {
      "text/html": [
       "<div>\n",
       "<style scoped>\n",
       "    .dataframe tbody tr th:only-of-type {\n",
       "        vertical-align: middle;\n",
       "    }\n",
       "\n",
       "    .dataframe tbody tr th {\n",
       "        vertical-align: top;\n",
       "    }\n",
       "\n",
       "    .dataframe thead th {\n",
       "        text-align: right;\n",
       "    }\n",
       "</style>\n",
       "<table border=\"1\" class=\"dataframe\">\n",
       "  <thead>\n",
       "    <tr style=\"text-align: right;\">\n",
       "      <th></th>\n",
       "      <th>filename</th>\n",
       "      <th>length</th>\n",
       "      <th>chroma_stft_mean</th>\n",
       "      <th>chroma_stft_var</th>\n",
       "      <th>rms_mean</th>\n",
       "      <th>rms_var</th>\n",
       "      <th>spectral_centroid_mean</th>\n",
       "      <th>spectral_centroid_var</th>\n",
       "      <th>spectral_bandwidth_mean</th>\n",
       "      <th>spectral_bandwidth_var</th>\n",
       "      <th>...</th>\n",
       "      <th>mfcc16_var</th>\n",
       "      <th>mfcc17_mean</th>\n",
       "      <th>mfcc17_var</th>\n",
       "      <th>mfcc18_mean</th>\n",
       "      <th>mfcc18_var</th>\n",
       "      <th>mfcc19_mean</th>\n",
       "      <th>mfcc19_var</th>\n",
       "      <th>mfcc20_mean</th>\n",
       "      <th>mfcc20_var</th>\n",
       "      <th>label</th>\n",
       "    </tr>\n",
       "  </thead>\n",
       "  <tbody>\n",
       "    <tr>\n",
       "      <th>0</th>\n",
       "      <td>blues.00000.wav</td>\n",
       "      <td>661794</td>\n",
       "      <td>0.350088</td>\n",
       "      <td>0.088757</td>\n",
       "      <td>0.130228</td>\n",
       "      <td>0.002827</td>\n",
       "      <td>1784.165850</td>\n",
       "      <td>129774.064525</td>\n",
       "      <td>2002.449060</td>\n",
       "      <td>85882.761315</td>\n",
       "      <td>...</td>\n",
       "      <td>52.420910</td>\n",
       "      <td>-1.690215</td>\n",
       "      <td>36.524071</td>\n",
       "      <td>-0.408979</td>\n",
       "      <td>41.597103</td>\n",
       "      <td>-2.303523</td>\n",
       "      <td>55.062923</td>\n",
       "      <td>1.221291</td>\n",
       "      <td>46.936035</td>\n",
       "      <td>blues</td>\n",
       "    </tr>\n",
       "    <tr>\n",
       "      <th>1</th>\n",
       "      <td>blues.00001.wav</td>\n",
       "      <td>661794</td>\n",
       "      <td>0.340914</td>\n",
       "      <td>0.094980</td>\n",
       "      <td>0.095948</td>\n",
       "      <td>0.002373</td>\n",
       "      <td>1530.176679</td>\n",
       "      <td>375850.073649</td>\n",
       "      <td>2039.036516</td>\n",
       "      <td>213843.755497</td>\n",
       "      <td>...</td>\n",
       "      <td>55.356403</td>\n",
       "      <td>-0.731125</td>\n",
       "      <td>60.314529</td>\n",
       "      <td>0.295073</td>\n",
       "      <td>48.120598</td>\n",
       "      <td>-0.283518</td>\n",
       "      <td>51.106190</td>\n",
       "      <td>0.531217</td>\n",
       "      <td>45.786282</td>\n",
       "      <td>blues</td>\n",
       "    </tr>\n",
       "    <tr>\n",
       "      <th>2</th>\n",
       "      <td>blues.00002.wav</td>\n",
       "      <td>661794</td>\n",
       "      <td>0.363637</td>\n",
       "      <td>0.085275</td>\n",
       "      <td>0.175570</td>\n",
       "      <td>0.002746</td>\n",
       "      <td>1552.811865</td>\n",
       "      <td>156467.643368</td>\n",
       "      <td>1747.702312</td>\n",
       "      <td>76254.192257</td>\n",
       "      <td>...</td>\n",
       "      <td>40.598766</td>\n",
       "      <td>-7.729093</td>\n",
       "      <td>47.639427</td>\n",
       "      <td>-1.816407</td>\n",
       "      <td>52.382141</td>\n",
       "      <td>-3.439720</td>\n",
       "      <td>46.639660</td>\n",
       "      <td>-2.231258</td>\n",
       "      <td>30.573025</td>\n",
       "      <td>blues</td>\n",
       "    </tr>\n",
       "    <tr>\n",
       "      <th>3</th>\n",
       "      <td>blues.00003.wav</td>\n",
       "      <td>661794</td>\n",
       "      <td>0.404785</td>\n",
       "      <td>0.093999</td>\n",
       "      <td>0.141093</td>\n",
       "      <td>0.006346</td>\n",
       "      <td>1070.106615</td>\n",
       "      <td>184355.942417</td>\n",
       "      <td>1596.412872</td>\n",
       "      <td>166441.494769</td>\n",
       "      <td>...</td>\n",
       "      <td>44.427753</td>\n",
       "      <td>-3.319597</td>\n",
       "      <td>50.206673</td>\n",
       "      <td>0.636965</td>\n",
       "      <td>37.319130</td>\n",
       "      <td>-0.619121</td>\n",
       "      <td>37.259739</td>\n",
       "      <td>-3.407448</td>\n",
       "      <td>31.949339</td>\n",
       "      <td>blues</td>\n",
       "    </tr>\n",
       "    <tr>\n",
       "      <th>4</th>\n",
       "      <td>blues.00004.wav</td>\n",
       "      <td>661794</td>\n",
       "      <td>0.308526</td>\n",
       "      <td>0.087841</td>\n",
       "      <td>0.091529</td>\n",
       "      <td>0.002303</td>\n",
       "      <td>1835.004266</td>\n",
       "      <td>343399.939274</td>\n",
       "      <td>1748.172116</td>\n",
       "      <td>88445.209036</td>\n",
       "      <td>...</td>\n",
       "      <td>86.099236</td>\n",
       "      <td>-5.454034</td>\n",
       "      <td>75.269707</td>\n",
       "      <td>-0.916874</td>\n",
       "      <td>53.613918</td>\n",
       "      <td>-4.404827</td>\n",
       "      <td>62.910812</td>\n",
       "      <td>-11.703234</td>\n",
       "      <td>55.195160</td>\n",
       "      <td>blues</td>\n",
       "    </tr>\n",
       "  </tbody>\n",
       "</table>\n",
       "<p>5 rows × 60 columns</p>\n",
       "</div>"
      ],
      "text/plain": [
       "          filename  length  chroma_stft_mean  chroma_stft_var  rms_mean  \\\n",
       "0  blues.00000.wav  661794          0.350088         0.088757  0.130228   \n",
       "1  blues.00001.wav  661794          0.340914         0.094980  0.095948   \n",
       "2  blues.00002.wav  661794          0.363637         0.085275  0.175570   \n",
       "3  blues.00003.wav  661794          0.404785         0.093999  0.141093   \n",
       "4  blues.00004.wav  661794          0.308526         0.087841  0.091529   \n",
       "\n",
       "    rms_var  spectral_centroid_mean  spectral_centroid_var  \\\n",
       "0  0.002827             1784.165850          129774.064525   \n",
       "1  0.002373             1530.176679          375850.073649   \n",
       "2  0.002746             1552.811865          156467.643368   \n",
       "3  0.006346             1070.106615          184355.942417   \n",
       "4  0.002303             1835.004266          343399.939274   \n",
       "\n",
       "   spectral_bandwidth_mean  spectral_bandwidth_var  ...  mfcc16_var  \\\n",
       "0              2002.449060            85882.761315  ...   52.420910   \n",
       "1              2039.036516           213843.755497  ...   55.356403   \n",
       "2              1747.702312            76254.192257  ...   40.598766   \n",
       "3              1596.412872           166441.494769  ...   44.427753   \n",
       "4              1748.172116            88445.209036  ...   86.099236   \n",
       "\n",
       "   mfcc17_mean  mfcc17_var  mfcc18_mean  mfcc18_var  mfcc19_mean  mfcc19_var  \\\n",
       "0    -1.690215   36.524071    -0.408979   41.597103    -2.303523   55.062923   \n",
       "1    -0.731125   60.314529     0.295073   48.120598    -0.283518   51.106190   \n",
       "2    -7.729093   47.639427    -1.816407   52.382141    -3.439720   46.639660   \n",
       "3    -3.319597   50.206673     0.636965   37.319130    -0.619121   37.259739   \n",
       "4    -5.454034   75.269707    -0.916874   53.613918    -4.404827   62.910812   \n",
       "\n",
       "   mfcc20_mean  mfcc20_var  label  \n",
       "0     1.221291   46.936035  blues  \n",
       "1     0.531217   45.786282  blues  \n",
       "2    -2.231258   30.573025  blues  \n",
       "3    -3.407448   31.949339  blues  \n",
       "4   -11.703234   55.195160  blues  \n",
       "\n",
       "[5 rows x 60 columns]"
      ]
     },
     "execution_count": 3,
     "metadata": {},
     "output_type": "execute_result"
    }
   ],
   "source": [
    "metadata.head()"
   ]
  },
  {
   "cell_type": "code",
   "execution_count": 4,
   "id": "5134c3ae",
   "metadata": {},
   "outputs": [],
   "source": [
    "def feature_extractor(file):\n",
    "    audio, sample_rate = librosa.load(file_name, res_type = 'kaiser_fast')\n",
    "    mfccs_features = librosa.feature.mfcc(y = audio, sr = sample_rate, n_mfcc = 40)\n",
    "    mfccs_scaled_features = np.mean(mfccs_features.T, axis = 0)\n",
    "    return mfccs_scaled_features"
   ]
  },
  {
   "cell_type": "code",
   "execution_count": 5,
   "id": "8f4e69f2",
   "metadata": {},
   "outputs": [],
   "source": [
    "#metadata.drop(labels = 552, axis = 0, inplace = True)"
   ]
  },
  {
   "cell_type": "code",
   "execution_count": 6,
   "id": "2a653470",
   "metadata": {},
   "outputs": [],
   "source": [
    "from tqdm import tqdm"
   ]
  },
  {
   "cell_type": "code",
   "execution_count": 8,
   "id": "b53981b7",
   "metadata": {},
   "outputs": [
    {
     "name": "stderr",
     "output_type": "stream",
     "text": [
      "552it [00:22, 23.58it/s]/tmp/ipykernel_78500/1946415227.py:2: UserWarning: PySoundFile failed. Trying audioread instead.\n",
      "  audio, sample_rate = librosa.load(file_name, res_type = 'kaiser_fast')\n",
      "/home/trupti/Desktop/anaconda3/lib/python3.11/site-packages/librosa/core/audio.py:184: FutureWarning: librosa.core.audio.__audioread_load\n",
      "\tDeprecated as of librosa version 0.10.0.\n",
      "\tIt will be removed in librosa version 1.0.\n",
      "  y, sr_native = __audioread_load(path, offset, duration, dtype)\n",
      "558it [00:23, 20.87it/s]"
     ]
    },
    {
     "name": "stdout",
     "output_type": "stream",
     "text": [
      "Error: \n"
     ]
    },
    {
     "name": "stderr",
     "output_type": "stream",
     "text": [
      "999it [00:43, 23.02it/s]\n"
     ]
    }
   ],
   "source": [
    "extracted_features = []\n",
    "for index_num, row in tqdm(metadata.iterrows()):\n",
    "    try:\n",
    "        final_class_labels = row[\"label\"]\n",
    "        file_name = os.path.join(os.path.abspath(audio_dataset_path), final_class_labels + '/', str(row[\"filename\"]))\n",
    "        data = feature_extractor(file_name)\n",
    "        extracted_features.append([data, final_class_labels])\n",
    "    except Exception as e:\n",
    "        print(f\"Error: {e}\")\n",
    "        continue"
   ]
  },
  {
   "cell_type": "code",
   "execution_count": 9,
   "id": "13cb4cbf",
   "metadata": {},
   "outputs": [
    {
     "data": {
      "text/html": [
       "<div>\n",
       "<style scoped>\n",
       "    .dataframe tbody tr th:only-of-type {\n",
       "        vertical-align: middle;\n",
       "    }\n",
       "\n",
       "    .dataframe tbody tr th {\n",
       "        vertical-align: top;\n",
       "    }\n",
       "\n",
       "    .dataframe thead th {\n",
       "        text-align: right;\n",
       "    }\n",
       "</style>\n",
       "<table border=\"1\" class=\"dataframe\">\n",
       "  <thead>\n",
       "    <tr style=\"text-align: right;\">\n",
       "      <th></th>\n",
       "      <th>feature</th>\n",
       "      <th>class</th>\n",
       "    </tr>\n",
       "  </thead>\n",
       "  <tbody>\n",
       "    <tr>\n",
       "      <th>0</th>\n",
       "      <td>[-113.59882, 121.57067, -19.162258, 42.363937,...</td>\n",
       "      <td>blues</td>\n",
       "    </tr>\n",
       "    <tr>\n",
       "      <th>1</th>\n",
       "      <td>[-207.52383, 123.98514, 8.947024, 35.867146, 2...</td>\n",
       "      <td>blues</td>\n",
       "    </tr>\n",
       "    <tr>\n",
       "      <th>2</th>\n",
       "      <td>[-90.757164, 140.44089, -29.084547, 31.686693,...</td>\n",
       "      <td>blues</td>\n",
       "    </tr>\n",
       "    <tr>\n",
       "      <th>3</th>\n",
       "      <td>[-199.57513, 150.08612, 5.663406, 26.855278, 1...</td>\n",
       "      <td>blues</td>\n",
       "    </tr>\n",
       "    <tr>\n",
       "      <th>4</th>\n",
       "      <td>[-160.35417, 126.209496, -35.581394, 22.139254...</td>\n",
       "      <td>blues</td>\n",
       "    </tr>\n",
       "  </tbody>\n",
       "</table>\n",
       "</div>"
      ],
      "text/plain": [
       "                                             feature  class\n",
       "0  [-113.59882, 121.57067, -19.162258, 42.363937,...  blues\n",
       "1  [-207.52383, 123.98514, 8.947024, 35.867146, 2...  blues\n",
       "2  [-90.757164, 140.44089, -29.084547, 31.686693,...  blues\n",
       "3  [-199.57513, 150.08612, 5.663406, 26.855278, 1...  blues\n",
       "4  [-160.35417, 126.209496, -35.581394, 22.139254...  blues"
      ]
     },
     "execution_count": 9,
     "metadata": {},
     "output_type": "execute_result"
    }
   ],
   "source": [
    "extracted_features_df = pd.DataFrame(extracted_features, columns = ['feature', 'class'])\n",
    "extracted_features_df.head()"
   ]
  },
  {
   "cell_type": "code",
   "execution_count": 10,
   "id": "876678d8",
   "metadata": {},
   "outputs": [
    {
     "data": {
      "text/plain": [
       "blues        100\n",
       "classical    100\n",
       "country      100\n",
       "disco        100\n",
       "hiphop       100\n",
       "metal        100\n",
       "pop          100\n",
       "reggae       100\n",
       "rock         100\n",
       "jazz          98\n",
       "Name: class, dtype: int64"
      ]
     },
     "execution_count": 10,
     "metadata": {},
     "output_type": "execute_result"
    }
   ],
   "source": [
    "extracted_features_df['class'].value_counts()"
   ]
  },
  {
   "cell_type": "code",
   "execution_count": 11,
   "id": "fed88a85",
   "metadata": {},
   "outputs": [],
   "source": [
    "X = np.array(extracted_features_df['feature'].tolist())\n",
    "y = np.array(extracted_features_df['class'].tolist())"
   ]
  },
  {
   "cell_type": "code",
   "execution_count": 12,
   "id": "d9bf1eb9",
   "metadata": {},
   "outputs": [
    {
     "data": {
      "text/plain": [
       "(998, 40)"
      ]
     },
     "execution_count": 12,
     "metadata": {},
     "output_type": "execute_result"
    }
   ],
   "source": [
    "X.shape"
   ]
  },
  {
   "cell_type": "code",
   "execution_count": 13,
   "id": "4fba306f",
   "metadata": {},
   "outputs": [
    {
     "data": {
      "text/plain": [
       "(998,)"
      ]
     },
     "execution_count": 13,
     "metadata": {},
     "output_type": "execute_result"
    }
   ],
   "source": [
    "y.shape"
   ]
  },
  {
   "cell_type": "code",
   "execution_count": 153,
   "id": "9ff1bcb5",
   "metadata": {},
   "outputs": [
    {
     "name": "stdout",
     "output_type": "stream",
     "text": [
      "Shape of X_train: (798, 40)\n",
      "Shape of X_test: (200, 40)\n",
      "Shape of y_train: (798,)\n",
      "Shape of y_test: (200,)\n"
     ]
    }
   ],
   "source": [
    "from sklearn.model_selection import train_test_split\n",
    "\n",
    "# Split the data into training and testing sets\n",
    "X_train, X_test, y_train, y_test = train_test_split(X, y, test_size=0.2, random_state=42)\n",
    "\n",
    "# Print the shapes of the split datasets\n",
    "print(\"Shape of X_train:\", X_train.shape)\n",
    "print(\"Shape of X_test:\", X_test.shape)\n",
    "print(\"Shape of y_train:\", y_train.shape)\n",
    "print(\"Shape of y_test:\", y_test.shape)"
   ]
  },
  {
   "cell_type": "code",
   "execution_count": 154,
   "id": "bb9e38f3",
   "metadata": {},
   "outputs": [
    {
     "data": {
      "text/plain": [
       "array([[-7.1623047e+01,  8.1108299e+01,  1.6360794e+01, ...,\n",
       "        -3.3711376e+00, -6.8292708e+00, -1.3781474e+00],\n",
       "       [-1.2242892e+02,  1.1149043e+02, -1.3700005e+01, ...,\n",
       "        -1.2905551e+00,  4.6981841e-01, -2.3442950e+00],\n",
       "       [-4.2159470e+02,  1.7278941e+02,  2.8069195e+01, ...,\n",
       "        -1.0533409e+00, -6.0324651e-01, -3.6284623e-01],\n",
       "       ...,\n",
       "       [-2.6569849e+02,  8.0639633e+01,  9.7376337e+00, ...,\n",
       "         2.5353398e+00,  2.6059792e+00, -1.3607571e+00],\n",
       "       [-1.0084442e+02,  6.4227585e+01,  1.2814461e+01, ...,\n",
       "         2.2403882e+00,  1.4522368e+00,  6.2251014e-01],\n",
       "       [-2.3530266e+02,  1.4111952e+02, -3.4681889e+01, ...,\n",
       "        -6.0326366e+00, -4.1950731e+00,  1.0247830e+00]], dtype=float32)"
      ]
     },
     "execution_count": 154,
     "metadata": {},
     "output_type": "execute_result"
    }
   ],
   "source": [
    "X_train"
   ]
  },
  {
   "cell_type": "code",
   "execution_count": 155,
   "id": "56f9f247",
   "metadata": {},
   "outputs": [],
   "source": [
    "from sklearn.svm import SVC\n",
    "from sklearn.metrics import accuracy_score"
   ]
  },
  {
   "cell_type": "code",
   "execution_count": 156,
   "id": "42fe41d6",
   "metadata": {},
   "outputs": [],
   "source": [
    "svm_model = SVC()"
   ]
  },
  {
   "cell_type": "code",
   "execution_count": 157,
   "id": "6fcb6e8a",
   "metadata": {},
   "outputs": [
    {
     "data": {
      "text/html": [
       "<style>#sk-container-id-22 {color: black;}#sk-container-id-22 pre{padding: 0;}#sk-container-id-22 div.sk-toggleable {background-color: white;}#sk-container-id-22 label.sk-toggleable__label {cursor: pointer;display: block;width: 100%;margin-bottom: 0;padding: 0.3em;box-sizing: border-box;text-align: center;}#sk-container-id-22 label.sk-toggleable__label-arrow:before {content: \"▸\";float: left;margin-right: 0.25em;color: #696969;}#sk-container-id-22 label.sk-toggleable__label-arrow:hover:before {color: black;}#sk-container-id-22 div.sk-estimator:hover label.sk-toggleable__label-arrow:before {color: black;}#sk-container-id-22 div.sk-toggleable__content {max-height: 0;max-width: 0;overflow: hidden;text-align: left;background-color: #f0f8ff;}#sk-container-id-22 div.sk-toggleable__content pre {margin: 0.2em;color: black;border-radius: 0.25em;background-color: #f0f8ff;}#sk-container-id-22 input.sk-toggleable__control:checked~div.sk-toggleable__content {max-height: 200px;max-width: 100%;overflow: auto;}#sk-container-id-22 input.sk-toggleable__control:checked~label.sk-toggleable__label-arrow:before {content: \"▾\";}#sk-container-id-22 div.sk-estimator input.sk-toggleable__control:checked~label.sk-toggleable__label {background-color: #d4ebff;}#sk-container-id-22 div.sk-label input.sk-toggleable__control:checked~label.sk-toggleable__label {background-color: #d4ebff;}#sk-container-id-22 input.sk-hidden--visually {border: 0;clip: rect(1px 1px 1px 1px);clip: rect(1px, 1px, 1px, 1px);height: 1px;margin: -1px;overflow: hidden;padding: 0;position: absolute;width: 1px;}#sk-container-id-22 div.sk-estimator {font-family: monospace;background-color: #f0f8ff;border: 1px dotted black;border-radius: 0.25em;box-sizing: border-box;margin-bottom: 0.5em;}#sk-container-id-22 div.sk-estimator:hover {background-color: #d4ebff;}#sk-container-id-22 div.sk-parallel-item::after {content: \"\";width: 100%;border-bottom: 1px solid gray;flex-grow: 1;}#sk-container-id-22 div.sk-label:hover label.sk-toggleable__label {background-color: #d4ebff;}#sk-container-id-22 div.sk-serial::before {content: \"\";position: absolute;border-left: 1px solid gray;box-sizing: border-box;top: 0;bottom: 0;left: 50%;z-index: 0;}#sk-container-id-22 div.sk-serial {display: flex;flex-direction: column;align-items: center;background-color: white;padding-right: 0.2em;padding-left: 0.2em;position: relative;}#sk-container-id-22 div.sk-item {position: relative;z-index: 1;}#sk-container-id-22 div.sk-parallel {display: flex;align-items: stretch;justify-content: center;background-color: white;position: relative;}#sk-container-id-22 div.sk-item::before, #sk-container-id-22 div.sk-parallel-item::before {content: \"\";position: absolute;border-left: 1px solid gray;box-sizing: border-box;top: 0;bottom: 0;left: 50%;z-index: -1;}#sk-container-id-22 div.sk-parallel-item {display: flex;flex-direction: column;z-index: 1;position: relative;background-color: white;}#sk-container-id-22 div.sk-parallel-item:first-child::after {align-self: flex-end;width: 50%;}#sk-container-id-22 div.sk-parallel-item:last-child::after {align-self: flex-start;width: 50%;}#sk-container-id-22 div.sk-parallel-item:only-child::after {width: 0;}#sk-container-id-22 div.sk-dashed-wrapped {border: 1px dashed gray;margin: 0 0.4em 0.5em 0.4em;box-sizing: border-box;padding-bottom: 0.4em;background-color: white;}#sk-container-id-22 div.sk-label label {font-family: monospace;font-weight: bold;display: inline-block;line-height: 1.2em;}#sk-container-id-22 div.sk-label-container {text-align: center;}#sk-container-id-22 div.sk-container {/* jupyter's `normalize.less` sets `[hidden] { display: none; }` but bootstrap.min.css set `[hidden] { display: none !important; }` so we also need the `!important` here to be able to override the default hidden behavior on the sphinx rendered scikit-learn.org. See: https://github.com/scikit-learn/scikit-learn/issues/21755 */display: inline-block !important;position: relative;}#sk-container-id-22 div.sk-text-repr-fallback {display: none;}</style><div id=\"sk-container-id-22\" class=\"sk-top-container\"><div class=\"sk-text-repr-fallback\"><pre>SVC()</pre><b>In a Jupyter environment, please rerun this cell to show the HTML representation or trust the notebook. <br />On GitHub, the HTML representation is unable to render, please try loading this page with nbviewer.org.</b></div><div class=\"sk-container\" hidden><div class=\"sk-item\"><div class=\"sk-estimator sk-toggleable\"><input class=\"sk-toggleable__control sk-hidden--visually\" id=\"sk-estimator-id-22\" type=\"checkbox\" checked><label for=\"sk-estimator-id-22\" class=\"sk-toggleable__label sk-toggleable__label-arrow\">SVC</label><div class=\"sk-toggleable__content\"><pre>SVC()</pre></div></div></div></div></div>"
      ],
      "text/plain": [
       "SVC()"
      ]
     },
     "execution_count": 157,
     "metadata": {},
     "output_type": "execute_result"
    }
   ],
   "source": [
    "svm_model.fit(X_train, y_train)"
   ]
  },
  {
   "cell_type": "code",
   "execution_count": 158,
   "id": "907408f6",
   "metadata": {},
   "outputs": [],
   "source": [
    "y_pred = svm_model.predict(X_test)"
   ]
  },
  {
   "cell_type": "code",
   "execution_count": 159,
   "id": "821c9ea2",
   "metadata": {},
   "outputs": [
    {
     "data": {
      "text/plain": [
       "array(['reggae', 'pop', 'pop', 'pop', 'reggae', 'hiphop', 'pop', 'jazz',\n",
       "       'reggae', 'metal', 'pop', 'metal', 'country', 'metal', 'reggae',\n",
       "       'rock', 'reggae', 'hiphop', 'disco', 'pop', 'jazz', 'metal',\n",
       "       'disco', 'reggae', 'rock', 'metal', 'classical', 'rock', 'reggae',\n",
       "       'pop', 'classical', 'pop', 'metal', 'jazz', 'metal', 'metal',\n",
       "       'classical', 'classical', 'metal', 'jazz', 'pop', 'blues', 'pop',\n",
       "       'metal', 'classical', 'reggae', 'rock', 'pop', 'metal', 'hiphop',\n",
       "       'metal', 'classical', 'pop', 'jazz', 'blues', 'reggae', 'jazz',\n",
       "       'jazz', 'jazz', 'pop', 'metal', 'rock', 'metal', 'classical',\n",
       "       'pop', 'disco', 'jazz', 'pop', 'blues', 'jazz', 'jazz',\n",
       "       'classical', 'metal', 'classical', 'blues', 'jazz', 'jazz', 'pop',\n",
       "       'jazz', 'rock', 'rock', 'jazz', 'rock', 'hiphop', 'metal', 'pop',\n",
       "       'metal', 'blues', 'pop', 'hiphop', 'hiphop', 'hiphop', 'blues',\n",
       "       'jazz', 'pop', 'country', 'disco', 'reggae', 'metal', 'blues',\n",
       "       'hiphop', 'reggae', 'country', 'metal', 'jazz', 'reggae', 'hiphop',\n",
       "       'jazz', 'metal', 'metal', 'blues', 'classical', 'blues', 'rock',\n",
       "       'pop', 'pop', 'jazz', 'pop', 'pop', 'hiphop', 'country', 'blues',\n",
       "       'pop', 'country', 'reggae', 'hiphop', 'classical', 'metal', 'rock',\n",
       "       'hiphop', 'rock', 'rock', 'jazz', 'metal', 'classical', 'pop',\n",
       "       'jazz', 'rock', 'metal', 'rock', 'jazz', 'rock', 'rock', 'country',\n",
       "       'classical', 'pop', 'metal', 'reggae', 'blues', 'pop', 'metal',\n",
       "       'pop', 'pop', 'pop', 'rock', 'metal', 'metal', 'jazz', 'hiphop',\n",
       "       'rock', 'jazz', 'jazz', 'rock', 'metal', 'pop', 'metal', 'reggae',\n",
       "       'rock', 'jazz', 'classical', 'hiphop', 'disco', 'metal', 'metal',\n",
       "       'metal', 'pop', 'country', 'metal', 'rock', 'hiphop', 'hiphop',\n",
       "       'classical', 'pop', 'hiphop', 'rock', 'jazz', 'rock', 'pop',\n",
       "       'rock', 'reggae', 'pop', 'blues', 'pop', 'reggae', 'rock', 'metal',\n",
       "       'blues', 'rock', 'blues', 'metal'], dtype='<U9')"
      ]
     },
     "execution_count": 159,
     "metadata": {},
     "output_type": "execute_result"
    }
   ],
   "source": [
    "y_pred"
   ]
  },
  {
   "cell_type": "code",
   "execution_count": 160,
   "id": "504fe64e",
   "metadata": {},
   "outputs": [],
   "source": [
    "accuracy = accuracy_score(y_test, y_pred)"
   ]
  },
  {
   "cell_type": "code",
   "execution_count": 161,
   "id": "7a226871",
   "metadata": {},
   "outputs": [
    {
     "name": "stdout",
     "output_type": "stream",
     "text": [
      "Accuracy: 0.455\n"
     ]
    }
   ],
   "source": [
    "print(\"Accuracy:\", accuracy)"
   ]
  },
  {
   "cell_type": "markdown",
   "id": "f698256f",
   "metadata": {},
   "source": [
    "**Random Forest**"
   ]
  },
  {
   "cell_type": "code",
   "execution_count": 162,
   "id": "3bafbf1f",
   "metadata": {},
   "outputs": [],
   "source": [
    "from sklearn.ensemble import RandomForestClassifier\n",
    "from sklearn.metrics import accuracy_score"
   ]
  },
  {
   "cell_type": "code",
   "execution_count": 163,
   "id": "4e4c344c",
   "metadata": {},
   "outputs": [],
   "source": [
    "rf_classifier = RandomForestClassifier(n_estimators=300, random_state=8)"
   ]
  },
  {
   "cell_type": "code",
   "execution_count": 164,
   "id": "60f767f9",
   "metadata": {},
   "outputs": [
    {
     "data": {
      "text/html": [
       "<style>#sk-container-id-23 {color: black;}#sk-container-id-23 pre{padding: 0;}#sk-container-id-23 div.sk-toggleable {background-color: white;}#sk-container-id-23 label.sk-toggleable__label {cursor: pointer;display: block;width: 100%;margin-bottom: 0;padding: 0.3em;box-sizing: border-box;text-align: center;}#sk-container-id-23 label.sk-toggleable__label-arrow:before {content: \"▸\";float: left;margin-right: 0.25em;color: #696969;}#sk-container-id-23 label.sk-toggleable__label-arrow:hover:before {color: black;}#sk-container-id-23 div.sk-estimator:hover label.sk-toggleable__label-arrow:before {color: black;}#sk-container-id-23 div.sk-toggleable__content {max-height: 0;max-width: 0;overflow: hidden;text-align: left;background-color: #f0f8ff;}#sk-container-id-23 div.sk-toggleable__content pre {margin: 0.2em;color: black;border-radius: 0.25em;background-color: #f0f8ff;}#sk-container-id-23 input.sk-toggleable__control:checked~div.sk-toggleable__content {max-height: 200px;max-width: 100%;overflow: auto;}#sk-container-id-23 input.sk-toggleable__control:checked~label.sk-toggleable__label-arrow:before {content: \"▾\";}#sk-container-id-23 div.sk-estimator input.sk-toggleable__control:checked~label.sk-toggleable__label {background-color: #d4ebff;}#sk-container-id-23 div.sk-label input.sk-toggleable__control:checked~label.sk-toggleable__label {background-color: #d4ebff;}#sk-container-id-23 input.sk-hidden--visually {border: 0;clip: rect(1px 1px 1px 1px);clip: rect(1px, 1px, 1px, 1px);height: 1px;margin: -1px;overflow: hidden;padding: 0;position: absolute;width: 1px;}#sk-container-id-23 div.sk-estimator {font-family: monospace;background-color: #f0f8ff;border: 1px dotted black;border-radius: 0.25em;box-sizing: border-box;margin-bottom: 0.5em;}#sk-container-id-23 div.sk-estimator:hover {background-color: #d4ebff;}#sk-container-id-23 div.sk-parallel-item::after {content: \"\";width: 100%;border-bottom: 1px solid gray;flex-grow: 1;}#sk-container-id-23 div.sk-label:hover label.sk-toggleable__label {background-color: #d4ebff;}#sk-container-id-23 div.sk-serial::before {content: \"\";position: absolute;border-left: 1px solid gray;box-sizing: border-box;top: 0;bottom: 0;left: 50%;z-index: 0;}#sk-container-id-23 div.sk-serial {display: flex;flex-direction: column;align-items: center;background-color: white;padding-right: 0.2em;padding-left: 0.2em;position: relative;}#sk-container-id-23 div.sk-item {position: relative;z-index: 1;}#sk-container-id-23 div.sk-parallel {display: flex;align-items: stretch;justify-content: center;background-color: white;position: relative;}#sk-container-id-23 div.sk-item::before, #sk-container-id-23 div.sk-parallel-item::before {content: \"\";position: absolute;border-left: 1px solid gray;box-sizing: border-box;top: 0;bottom: 0;left: 50%;z-index: -1;}#sk-container-id-23 div.sk-parallel-item {display: flex;flex-direction: column;z-index: 1;position: relative;background-color: white;}#sk-container-id-23 div.sk-parallel-item:first-child::after {align-self: flex-end;width: 50%;}#sk-container-id-23 div.sk-parallel-item:last-child::after {align-self: flex-start;width: 50%;}#sk-container-id-23 div.sk-parallel-item:only-child::after {width: 0;}#sk-container-id-23 div.sk-dashed-wrapped {border: 1px dashed gray;margin: 0 0.4em 0.5em 0.4em;box-sizing: border-box;padding-bottom: 0.4em;background-color: white;}#sk-container-id-23 div.sk-label label {font-family: monospace;font-weight: bold;display: inline-block;line-height: 1.2em;}#sk-container-id-23 div.sk-label-container {text-align: center;}#sk-container-id-23 div.sk-container {/* jupyter's `normalize.less` sets `[hidden] { display: none; }` but bootstrap.min.css set `[hidden] { display: none !important; }` so we also need the `!important` here to be able to override the default hidden behavior on the sphinx rendered scikit-learn.org. See: https://github.com/scikit-learn/scikit-learn/issues/21755 */display: inline-block !important;position: relative;}#sk-container-id-23 div.sk-text-repr-fallback {display: none;}</style><div id=\"sk-container-id-23\" class=\"sk-top-container\"><div class=\"sk-text-repr-fallback\"><pre>RandomForestClassifier(n_estimators=300, random_state=8)</pre><b>In a Jupyter environment, please rerun this cell to show the HTML representation or trust the notebook. <br />On GitHub, the HTML representation is unable to render, please try loading this page with nbviewer.org.</b></div><div class=\"sk-container\" hidden><div class=\"sk-item\"><div class=\"sk-estimator sk-toggleable\"><input class=\"sk-toggleable__control sk-hidden--visually\" id=\"sk-estimator-id-23\" type=\"checkbox\" checked><label for=\"sk-estimator-id-23\" class=\"sk-toggleable__label sk-toggleable__label-arrow\">RandomForestClassifier</label><div class=\"sk-toggleable__content\"><pre>RandomForestClassifier(n_estimators=300, random_state=8)</pre></div></div></div></div></div>"
      ],
      "text/plain": [
       "RandomForestClassifier(n_estimators=300, random_state=8)"
      ]
     },
     "execution_count": 164,
     "metadata": {},
     "output_type": "execute_result"
    }
   ],
   "source": [
    "rf_classifier.fit(X_train, y_train)"
   ]
  },
  {
   "cell_type": "code",
   "execution_count": 165,
   "id": "7509918f",
   "metadata": {},
   "outputs": [],
   "source": [
    "rf_predictions = rf_classifier.predict(X_test)"
   ]
  },
  {
   "cell_type": "code",
   "execution_count": 166,
   "id": "3ecbf82c",
   "metadata": {},
   "outputs": [
    {
     "data": {
      "text/plain": [
       "array(['pop', 'pop', 'disco', 'disco', 'country', 'jazz', 'pop', 'jazz',\n",
       "       'reggae', 'metal', 'disco', 'disco', 'pop', 'metal', 'reggae',\n",
       "       'rock', 'reggae', 'hiphop', 'rock', 'country', 'jazz', 'disco',\n",
       "       'disco', 'hiphop', 'hiphop', 'blues', 'classical', 'classical',\n",
       "       'reggae', 'disco', 'jazz', 'disco', 'metal', 'jazz', 'metal',\n",
       "       'metal', 'classical', 'classical', 'metal', 'jazz', 'pop', 'rock',\n",
       "       'disco', 'hiphop', 'classical', 'jazz', 'country', 'pop', 'metal',\n",
       "       'reggae', 'metal', 'jazz', 'pop', 'blues', 'blues', 'reggae',\n",
       "       'classical', 'jazz', 'jazz', 'pop', 'blues', 'disco', 'metal',\n",
       "       'classical', 'pop', 'disco', 'jazz', 'pop', 'country', 'classical',\n",
       "       'country', 'classical', 'metal', 'classical', 'disco', 'reggae',\n",
       "       'blues', 'pop', 'jazz', 'rock', 'rock', 'jazz', 'blues', 'reggae',\n",
       "       'rock', 'hiphop', 'metal', 'jazz', 'hiphop', 'hiphop', 'hiphop',\n",
       "       'hiphop', 'reggae', 'classical', 'pop', 'blues', 'blues', 'reggae',\n",
       "       'metal', 'reggae', 'metal', 'hiphop', 'country', 'metal', 'jazz',\n",
       "       'jazz', 'reggae', 'jazz', 'metal', 'metal', 'rock', 'classical',\n",
       "       'blues', 'rock', 'disco', 'pop', 'jazz', 'disco', 'pop', 'country',\n",
       "       'country', 'blues', 'pop', 'pop', 'disco', 'hiphop', 'classical',\n",
       "       'metal', 'hiphop', 'country', 'metal', 'rock', 'jazz', 'blues',\n",
       "       'classical', 'pop', 'blues', 'blues', 'blues', 'country', 'jazz',\n",
       "       'rock', 'country', 'country', 'classical', 'pop', 'disco',\n",
       "       'reggae', 'country', 'pop', 'rock', 'pop', 'pop', 'pop', 'rock',\n",
       "       'blues', 'metal', 'jazz', 'reggae', 'disco', 'hiphop', 'rock',\n",
       "       'jazz', 'metal', 'disco', 'metal', 'reggae', 'reggae', 'country',\n",
       "       'classical', 'hiphop', 'hiphop', 'metal', 'rock', 'metal', 'pop',\n",
       "       'country', 'disco', 'rock', 'hiphop', 'country', 'classical',\n",
       "       'pop', 'hiphop', 'country', 'jazz', 'metal', 'country', 'rock',\n",
       "       'reggae', 'disco', 'rock', 'pop', 'country', 'disco', 'rock',\n",
       "       'blues', 'country', 'country', 'metal'], dtype='<U9')"
      ]
     },
     "execution_count": 166,
     "metadata": {},
     "output_type": "execute_result"
    }
   ],
   "source": [
    "rf_predictions"
   ]
  },
  {
   "cell_type": "code",
   "execution_count": 167,
   "id": "53ca263b",
   "metadata": {},
   "outputs": [
    {
     "name": "stdout",
     "output_type": "stream",
     "text": [
      "Random Forest Accuracy: 0.66\n"
     ]
    }
   ],
   "source": [
    "rf_accuracy = accuracy_score(y_test, rf_predictions)\n",
    "print(\"Random Forest Accuracy:\", rf_accuracy)"
   ]
  },
  {
   "cell_type": "markdown",
   "id": "e718f399",
   "metadata": {},
   "source": [
    "**KNN**"
   ]
  },
  {
   "cell_type": "code",
   "execution_count": 168,
   "id": "7d31c6c1",
   "metadata": {},
   "outputs": [],
   "source": [
    "from sklearn.neighbors import KNeighborsClassifier\n",
    "from sklearn.metrics import accuracy_score"
   ]
  },
  {
   "cell_type": "code",
   "execution_count": 169,
   "id": "83b61030",
   "metadata": {},
   "outputs": [],
   "source": [
    "knn_classifier = KNeighborsClassifier(n_neighbors=3)"
   ]
  },
  {
   "cell_type": "code",
   "execution_count": 170,
   "id": "e9eb5ce4",
   "metadata": {},
   "outputs": [
    {
     "data": {
      "text/html": [
       "<style>#sk-container-id-24 {color: black;}#sk-container-id-24 pre{padding: 0;}#sk-container-id-24 div.sk-toggleable {background-color: white;}#sk-container-id-24 label.sk-toggleable__label {cursor: pointer;display: block;width: 100%;margin-bottom: 0;padding: 0.3em;box-sizing: border-box;text-align: center;}#sk-container-id-24 label.sk-toggleable__label-arrow:before {content: \"▸\";float: left;margin-right: 0.25em;color: #696969;}#sk-container-id-24 label.sk-toggleable__label-arrow:hover:before {color: black;}#sk-container-id-24 div.sk-estimator:hover label.sk-toggleable__label-arrow:before {color: black;}#sk-container-id-24 div.sk-toggleable__content {max-height: 0;max-width: 0;overflow: hidden;text-align: left;background-color: #f0f8ff;}#sk-container-id-24 div.sk-toggleable__content pre {margin: 0.2em;color: black;border-radius: 0.25em;background-color: #f0f8ff;}#sk-container-id-24 input.sk-toggleable__control:checked~div.sk-toggleable__content {max-height: 200px;max-width: 100%;overflow: auto;}#sk-container-id-24 input.sk-toggleable__control:checked~label.sk-toggleable__label-arrow:before {content: \"▾\";}#sk-container-id-24 div.sk-estimator input.sk-toggleable__control:checked~label.sk-toggleable__label {background-color: #d4ebff;}#sk-container-id-24 div.sk-label input.sk-toggleable__control:checked~label.sk-toggleable__label {background-color: #d4ebff;}#sk-container-id-24 input.sk-hidden--visually {border: 0;clip: rect(1px 1px 1px 1px);clip: rect(1px, 1px, 1px, 1px);height: 1px;margin: -1px;overflow: hidden;padding: 0;position: absolute;width: 1px;}#sk-container-id-24 div.sk-estimator {font-family: monospace;background-color: #f0f8ff;border: 1px dotted black;border-radius: 0.25em;box-sizing: border-box;margin-bottom: 0.5em;}#sk-container-id-24 div.sk-estimator:hover {background-color: #d4ebff;}#sk-container-id-24 div.sk-parallel-item::after {content: \"\";width: 100%;border-bottom: 1px solid gray;flex-grow: 1;}#sk-container-id-24 div.sk-label:hover label.sk-toggleable__label {background-color: #d4ebff;}#sk-container-id-24 div.sk-serial::before {content: \"\";position: absolute;border-left: 1px solid gray;box-sizing: border-box;top: 0;bottom: 0;left: 50%;z-index: 0;}#sk-container-id-24 div.sk-serial {display: flex;flex-direction: column;align-items: center;background-color: white;padding-right: 0.2em;padding-left: 0.2em;position: relative;}#sk-container-id-24 div.sk-item {position: relative;z-index: 1;}#sk-container-id-24 div.sk-parallel {display: flex;align-items: stretch;justify-content: center;background-color: white;position: relative;}#sk-container-id-24 div.sk-item::before, #sk-container-id-24 div.sk-parallel-item::before {content: \"\";position: absolute;border-left: 1px solid gray;box-sizing: border-box;top: 0;bottom: 0;left: 50%;z-index: -1;}#sk-container-id-24 div.sk-parallel-item {display: flex;flex-direction: column;z-index: 1;position: relative;background-color: white;}#sk-container-id-24 div.sk-parallel-item:first-child::after {align-self: flex-end;width: 50%;}#sk-container-id-24 div.sk-parallel-item:last-child::after {align-self: flex-start;width: 50%;}#sk-container-id-24 div.sk-parallel-item:only-child::after {width: 0;}#sk-container-id-24 div.sk-dashed-wrapped {border: 1px dashed gray;margin: 0 0.4em 0.5em 0.4em;box-sizing: border-box;padding-bottom: 0.4em;background-color: white;}#sk-container-id-24 div.sk-label label {font-family: monospace;font-weight: bold;display: inline-block;line-height: 1.2em;}#sk-container-id-24 div.sk-label-container {text-align: center;}#sk-container-id-24 div.sk-container {/* jupyter's `normalize.less` sets `[hidden] { display: none; }` but bootstrap.min.css set `[hidden] { display: none !important; }` so we also need the `!important` here to be able to override the default hidden behavior on the sphinx rendered scikit-learn.org. See: https://github.com/scikit-learn/scikit-learn/issues/21755 */display: inline-block !important;position: relative;}#sk-container-id-24 div.sk-text-repr-fallback {display: none;}</style><div id=\"sk-container-id-24\" class=\"sk-top-container\"><div class=\"sk-text-repr-fallback\"><pre>KNeighborsClassifier(n_neighbors=3)</pre><b>In a Jupyter environment, please rerun this cell to show the HTML representation or trust the notebook. <br />On GitHub, the HTML representation is unable to render, please try loading this page with nbviewer.org.</b></div><div class=\"sk-container\" hidden><div class=\"sk-item\"><div class=\"sk-estimator sk-toggleable\"><input class=\"sk-toggleable__control sk-hidden--visually\" id=\"sk-estimator-id-24\" type=\"checkbox\" checked><label for=\"sk-estimator-id-24\" class=\"sk-toggleable__label sk-toggleable__label-arrow\">KNeighborsClassifier</label><div class=\"sk-toggleable__content\"><pre>KNeighborsClassifier(n_neighbors=3)</pre></div></div></div></div></div>"
      ],
      "text/plain": [
       "KNeighborsClassifier(n_neighbors=3)"
      ]
     },
     "execution_count": 170,
     "metadata": {},
     "output_type": "execute_result"
    }
   ],
   "source": [
    "knn_classifier.fit(X_train, y_train)"
   ]
  },
  {
   "cell_type": "code",
   "execution_count": 171,
   "id": "ee322d1c",
   "metadata": {},
   "outputs": [
    {
     "name": "stderr",
     "output_type": "stream",
     "text": [
      "Exception ignored on calling ctypes callback function: <function _ThreadpoolInfo._find_modules_with_dl_iterate_phdr.<locals>.match_module_callback at 0x7fc583e5f380>\n",
      "Traceback (most recent call last):\n",
      "  File \"/home/trupti/Desktop/anaconda3/lib/python3.11/site-packages/threadpoolctl.py\", line 400, in match_module_callback\n",
      "    self._make_module_from_path(filepath)\n",
      "  File \"/home/trupti/Desktop/anaconda3/lib/python3.11/site-packages/threadpoolctl.py\", line 515, in _make_module_from_path\n",
      "    module = module_class(filepath, prefix, user_api, internal_api)\n",
      "             ^^^^^^^^^^^^^^^^^^^^^^^^^^^^^^^^^^^^^^^^^^^^^^^^^^^^^^\n",
      "  File \"/home/trupti/Desktop/anaconda3/lib/python3.11/site-packages/threadpoolctl.py\", line 606, in __init__\n",
      "    self.version = self.get_version()\n",
      "                   ^^^^^^^^^^^^^^^^^^\n",
      "  File \"/home/trupti/Desktop/anaconda3/lib/python3.11/site-packages/threadpoolctl.py\", line 646, in get_version\n",
      "    config = get_config().split()\n",
      "             ^^^^^^^^^^^^^^^^^^\n",
      "AttributeError: 'NoneType' object has no attribute 'split'\n"
     ]
    }
   ],
   "source": [
    "knn_predictions = knn_classifier.predict(X_test)"
   ]
  },
  {
   "cell_type": "code",
   "execution_count": 172,
   "id": "942a9eb8",
   "metadata": {},
   "outputs": [],
   "source": [
    "knn_accuracy = accuracy_score(y_test, knn_predictions)"
   ]
  },
  {
   "cell_type": "code",
   "execution_count": 173,
   "id": "b81d32a3",
   "metadata": {},
   "outputs": [
    {
     "name": "stdout",
     "output_type": "stream",
     "text": [
      "KNN Accuracy: 0.525\n"
     ]
    }
   ],
   "source": [
    "print(\"KNN Accuracy:\", knn_accuracy)"
   ]
  },
  {
   "cell_type": "markdown",
   "id": "2b65ea26",
   "metadata": {},
   "source": [
    "observation : as the number of neighbours increases in while calculating KNN, accuracy decreases."
   ]
  },
  {
   "cell_type": "markdown",
   "id": "f07d9719",
   "metadata": {},
   "source": [
    "**Gradient Boosting(XGBoost)**"
   ]
  },
  {
   "cell_type": "code",
   "execution_count": 174,
   "id": "221d1da8",
   "metadata": {},
   "outputs": [],
   "source": [
    "from xgboost import XGBClassifier\n",
    "from sklearn.metrics import accuracy_score\n"
   ]
  },
  {
   "cell_type": "code",
   "execution_count": 175,
   "id": "aa2810ef",
   "metadata": {},
   "outputs": [],
   "source": [
    "#pip install xgboost"
   ]
  },
  {
   "cell_type": "code",
   "execution_count": 176,
   "id": "5b62d4bc",
   "metadata": {},
   "outputs": [],
   "source": [
    "xgb_classifier = XGBClassifier(n_estimators=100, learning_rate=0.1, random_state=42)\n"
   ]
  },
  {
   "cell_type": "code",
   "execution_count": 177,
   "id": "ff24edf2",
   "metadata": {},
   "outputs": [
    {
     "name": "stderr",
     "output_type": "stream",
     "text": [
      "/home/trupti/Desktop/anaconda3/lib/python3.11/site-packages/xgboost/sklearn.py:1438: FutureWarning: elementwise comparison failed; returning scalar instead, but in the future will perform elementwise comparison\n",
      "  or not (self.classes_ == expected_classes).all()\n"
     ]
    },
    {
     "ename": "AttributeError",
     "evalue": "'bool' object has no attribute 'all'",
     "output_type": "error",
     "traceback": [
      "\u001b[0;31m---------------------------------------------------------------------------\u001b[0m",
      "\u001b[0;31mAttributeError\u001b[0m                            Traceback (most recent call last)",
      "Cell \u001b[0;32mIn[177], line 1\u001b[0m\n\u001b[0;32m----> 1\u001b[0m xgb_classifier\u001b[38;5;241m.\u001b[39mfit(X_train, y_train)\n",
      "File \u001b[0;32m~/Desktop/anaconda3/lib/python3.11/site-packages/xgboost/core.py:620\u001b[0m, in \u001b[0;36mrequire_keyword_args.<locals>.throw_if.<locals>.inner_f\u001b[0;34m(*args, **kwargs)\u001b[0m\n\u001b[1;32m    618\u001b[0m \u001b[38;5;28;01mfor\u001b[39;00m k, arg \u001b[38;5;129;01min\u001b[39;00m \u001b[38;5;28mzip\u001b[39m(sig\u001b[38;5;241m.\u001b[39mparameters, args):\n\u001b[1;32m    619\u001b[0m     kwargs[k] \u001b[38;5;241m=\u001b[39m arg\n\u001b[0;32m--> 620\u001b[0m \u001b[38;5;28;01mreturn\u001b[39;00m func(\u001b[38;5;241m*\u001b[39m\u001b[38;5;241m*\u001b[39mkwargs)\n",
      "File \u001b[0;32m~/Desktop/anaconda3/lib/python3.11/site-packages/xgboost/sklearn.py:1438\u001b[0m, in \u001b[0;36mXGBClassifier.fit\u001b[0;34m(self, X, y, sample_weight, base_margin, eval_set, eval_metric, early_stopping_rounds, verbose, xgb_model, sample_weight_eval_set, base_margin_eval_set, feature_weights, callbacks)\u001b[0m\n\u001b[1;32m   1434\u001b[0m     \u001b[38;5;28mself\u001b[39m\u001b[38;5;241m.\u001b[39mn_classes_ \u001b[38;5;241m=\u001b[39m \u001b[38;5;28mlen\u001b[39m(\u001b[38;5;28mself\u001b[39m\u001b[38;5;241m.\u001b[39mclasses_)\n\u001b[1;32m   1435\u001b[0m     expected_classes \u001b[38;5;241m=\u001b[39m np\u001b[38;5;241m.\u001b[39marange(\u001b[38;5;28mself\u001b[39m\u001b[38;5;241m.\u001b[39mn_classes_)\n\u001b[1;32m   1436\u001b[0m \u001b[38;5;28;01mif\u001b[39;00m (\n\u001b[1;32m   1437\u001b[0m     \u001b[38;5;28mself\u001b[39m\u001b[38;5;241m.\u001b[39mclasses_\u001b[38;5;241m.\u001b[39mshape \u001b[38;5;241m!=\u001b[39m expected_classes\u001b[38;5;241m.\u001b[39mshape\n\u001b[0;32m-> 1438\u001b[0m     \u001b[38;5;129;01mor\u001b[39;00m \u001b[38;5;129;01mnot\u001b[39;00m (\u001b[38;5;28mself\u001b[39m\u001b[38;5;241m.\u001b[39mclasses_ \u001b[38;5;241m==\u001b[39m expected_classes)\u001b[38;5;241m.\u001b[39mall()\n\u001b[1;32m   1439\u001b[0m ):\n\u001b[1;32m   1440\u001b[0m     \u001b[38;5;28;01mraise\u001b[39;00m \u001b[38;5;167;01mValueError\u001b[39;00m(\n\u001b[1;32m   1441\u001b[0m         \u001b[38;5;124mf\u001b[39m\u001b[38;5;124m\"\u001b[39m\u001b[38;5;124mInvalid classes inferred from unique values of `y`.  \u001b[39m\u001b[38;5;124m\"\u001b[39m\n\u001b[1;32m   1442\u001b[0m         \u001b[38;5;124mf\u001b[39m\u001b[38;5;124m\"\u001b[39m\u001b[38;5;124mExpected: \u001b[39m\u001b[38;5;132;01m{\u001b[39;00mexpected_classes\u001b[38;5;132;01m}\u001b[39;00m\u001b[38;5;124m, got \u001b[39m\u001b[38;5;132;01m{\u001b[39;00m\u001b[38;5;28mself\u001b[39m\u001b[38;5;241m.\u001b[39mclasses_\u001b[38;5;132;01m}\u001b[39;00m\u001b[38;5;124m\"\u001b[39m\n\u001b[1;32m   1443\u001b[0m     )\n\u001b[1;32m   1445\u001b[0m params \u001b[38;5;241m=\u001b[39m \u001b[38;5;28mself\u001b[39m\u001b[38;5;241m.\u001b[39mget_xgb_params()\n",
      "\u001b[0;31mAttributeError\u001b[0m: 'bool' object has no attribute 'all'"
     ]
    }
   ],
   "source": [
    "xgb_classifier.fit(X_train, y_train)"
   ]
  },
  {
   "cell_type": "code",
   "execution_count": 178,
   "id": "c9dfc32a",
   "metadata": {},
   "outputs": [
    {
     "data": {
      "text/plain": [
       "array(['pop', 'country', 'classical', 'rock', 'hiphop', 'rock', 'blues',\n",
       "       'classical', 'country', 'reggae', 'reggae', 'disco', 'pop', 'jazz',\n",
       "       'hiphop', 'country', 'rock', 'disco', 'hiphop', 'blues', 'reggae',\n",
       "       'country', 'jazz', 'pop', 'rock', 'jazz', 'reggae', 'rock',\n",
       "       'hiphop', 'reggae', 'blues', 'blues', 'country', 'pop',\n",
       "       'classical', 'disco', 'blues', 'country', 'disco', 'jazz', 'disco',\n",
       "       'classical', 'hiphop', 'blues', 'blues', 'hiphop', 'blues', 'jazz',\n",
       "       'jazz', 'disco', 'hiphop', 'rock', 'jazz', 'hiphop', 'blues',\n",
       "       'classical', 'hiphop', 'country', 'blues', 'rock', 'pop', 'blues',\n",
       "       'country', 'disco', 'reggae', 'hiphop', 'reggae', 'hiphop',\n",
       "       'hiphop', 'pop', 'classical', 'reggae', 'country', 'reggae',\n",
       "       'blues', 'classical', 'metal', 'blues', 'metal', 'metal', 'metal',\n",
       "       'country', 'country', 'country', 'pop', 'disco', 'hiphop',\n",
       "       'country', 'reggae', 'disco', 'reggae', 'hiphop', 'disco',\n",
       "       'hiphop', 'rock', 'disco', 'hiphop', 'blues', 'classical',\n",
       "       'reggae', 'reggae', 'metal', 'disco', 'rock', 'metal', 'disco',\n",
       "       'jazz', 'rock', 'rock', 'metal', 'jazz', 'jazz', 'pop', 'jazz',\n",
       "       'hiphop', 'country', 'disco', 'reggae', 'country', 'blues',\n",
       "       'classical', 'disco', 'disco', 'pop', 'rock', 'rock', 'hiphop',\n",
       "       'rock', 'classical', 'jazz', 'disco', 'metal', 'hiphop', 'blues',\n",
       "       'disco', 'pop', 'pop', 'disco', 'jazz', 'jazz', 'disco',\n",
       "       'classical', 'classical', 'jazz', 'rock', 'rock', 'blues', 'rock',\n",
       "       'classical', 'country', 'reggae', 'blues', 'country', 'classical',\n",
       "       'disco', 'hiphop', 'disco', 'classical', 'metal', 'metal',\n",
       "       'classical', 'hiphop', 'classical', 'blues', 'rock', 'classical',\n",
       "       'pop', 'metal', 'classical', 'hiphop', 'classical', 'classical',\n",
       "       'blues', 'rock', 'metal', 'blues', 'reggae', 'hiphop', 'country',\n",
       "       'classical', 'pop', 'country', 'country', 'jazz', 'reggae',\n",
       "       'classical', 'rock', 'hiphop', 'classical', 'blues', 'pop',\n",
       "       'classical', 'jazz', 'blues', 'metal', 'hiphop', 'metal', 'reggae',\n",
       "       'blues', 'pop', 'hiphop', 'jazz', 'metal', 'metal', 'rock',\n",
       "       'disco', 'blues', 'jazz', 'metal', 'rock', 'metal', 'country',\n",
       "       'jazz', 'pop', 'metal', 'jazz', 'metal', 'hiphop', 'blues', 'pop',\n",
       "       'hiphop', 'jazz', 'jazz', 'disco', 'blues', 'blues', 'rock',\n",
       "       'country', 'country', 'disco', 'disco', 'rock', 'country', 'blues',\n",
       "       'classical', 'disco', 'hiphop', 'rock', 'country', 'metal',\n",
       "       'metal', 'jazz', 'jazz', 'jazz', 'pop', 'classical', 'metal',\n",
       "       'metal', 'jazz', 'jazz', 'disco', 'classical', 'country', 'metal',\n",
       "       'reggae', 'metal', 'disco', 'hiphop', 'blues', 'classical', 'jazz',\n",
       "       'jazz', 'disco', 'classical', 'classical', 'hiphop', 'pop',\n",
       "       'hiphop', 'hiphop', 'blues', 'pop', 'blues', 'disco', 'rock',\n",
       "       'rock', 'rock', 'metal', 'reggae', 'metal', 'blues', 'blues',\n",
       "       'disco', 'jazz', 'blues', 'blues', 'disco', 'classical', 'hiphop',\n",
       "       'reggae', 'jazz', 'pop', 'classical', 'hiphop', 'classical',\n",
       "       'hiphop', 'hiphop', 'rock', 'reggae', 'metal', 'classical',\n",
       "       'disco', 'reggae', 'reggae', 'rock', 'metal', 'disco', 'rock',\n",
       "       'metal', 'country', 'jazz', 'disco', 'metal', 'blues', 'disco',\n",
       "       'pop', 'country', 'classical', 'rock', 'blues', 'disco', 'metal',\n",
       "       'reggae', 'disco', 'hiphop', 'reggae', 'rock', 'country', 'metal',\n",
       "       'blues', 'jazz', 'blues', 'metal', 'country', 'reggae', 'hiphop',\n",
       "       'classical', 'blues', 'pop', 'hiphop', 'classical', 'country',\n",
       "       'country', 'hiphop', 'classical', 'reggae', 'jazz', 'jazz', 'jazz',\n",
       "       'classical', 'classical', 'hiphop', 'pop', 'blues', 'metal',\n",
       "       'rock', 'disco', 'country', 'blues', 'disco', 'classical', 'rock',\n",
       "       'reggae', 'pop', 'country', 'hiphop', 'metal', 'disco', 'disco',\n",
       "       'rock', 'classical', 'classical', 'pop', 'blues', 'disco', 'rock',\n",
       "       'classical', 'hiphop', 'disco', 'metal', 'disco', 'blues',\n",
       "       'reggae', 'pop', 'reggae', 'hiphop', 'jazz', 'pop', 'blues',\n",
       "       'classical', 'country', 'reggae', 'metal', 'pop', 'reggae',\n",
       "       'classical', 'country', 'metal', 'jazz', 'pop', 'blues',\n",
       "       'classical', 'disco', 'country', 'metal', 'rock', 'classical',\n",
       "       'classical', 'metal', 'metal', 'classical', 'disco', 'pop', 'pop',\n",
       "       'pop', 'rock', 'metal', 'jazz', 'rock', 'blues', 'rock',\n",
       "       'classical', 'reggae', 'classical', 'blues', 'jazz', 'blues',\n",
       "       'rock', 'reggae', 'jazz', 'metal', 'hiphop', 'country', 'pop',\n",
       "       'metal', 'country', 'blues', 'pop', 'hiphop', 'rock', 'disco',\n",
       "       'country', 'blues', 'rock', 'disco', 'hiphop', 'rock', 'reggae',\n",
       "       'rock', 'pop', 'classical', 'reggae', 'rock', 'jazz', 'rock',\n",
       "       'reggae', 'jazz', 'rock', 'classical', 'rock', 'classical',\n",
       "       'metal', 'pop', 'pop', 'classical', 'country', 'rock', 'classical',\n",
       "       'hiphop', 'hiphop', 'reggae', 'jazz', 'pop', 'classical', 'blues',\n",
       "       'classical', 'hiphop', 'rock', 'country', 'metal', 'reggae', 'pop',\n",
       "       'blues', 'rock', 'blues', 'hiphop', 'metal', 'country', 'disco',\n",
       "       'pop', 'jazz', 'metal', 'pop', 'pop', 'country', 'metal',\n",
       "       'country', 'hiphop', 'classical', 'pop', 'metal', 'reggae', 'jazz',\n",
       "       'pop', 'hiphop', 'classical', 'classical', 'pop', 'rock', 'pop',\n",
       "       'metal', 'disco', 'hiphop', 'disco', 'classical', 'classical',\n",
       "       'reggae', 'metal', 'classical', 'rock', 'classical', 'metal',\n",
       "       'country', 'country', 'hiphop', 'classical', 'classical',\n",
       "       'country', 'hiphop', 'country', 'hiphop', 'pop', 'reggae', 'rock',\n",
       "       'reggae', 'reggae', 'classical', 'metal', 'hiphop', 'rock',\n",
       "       'reggae', 'pop', 'rock', 'country', 'metal', 'rock', 'pop',\n",
       "       'reggae', 'rock', 'metal', 'reggae', 'pop', 'disco', 'rock',\n",
       "       'jazz', 'country', 'reggae', 'hiphop', 'hiphop', 'classical',\n",
       "       'metal', 'country', 'reggae', 'metal', 'metal', 'disco', 'rock',\n",
       "       'rock', 'country', 'pop', 'metal', 'disco', 'metal', 'hiphop',\n",
       "       'reggae', 'pop', 'disco', 'country', 'pop', 'metal', 'metal',\n",
       "       'country', 'disco', 'disco', 'country', 'rock', 'rock', 'hiphop',\n",
       "       'disco', 'jazz', 'metal', 'rock', 'rock', 'rock', 'metal',\n",
       "       'reggae', 'reggae', 'metal', 'reggae', 'jazz', 'rock', 'jazz',\n",
       "       'pop', 'blues', 'country', 'pop', 'classical', 'jazz', 'blues',\n",
       "       'jazz', 'classical', 'metal', 'reggae', 'reggae', 'reggae', 'rock',\n",
       "       'pop', 'blues', 'jazz', 'country', 'pop', 'jazz', 'metal',\n",
       "       'hiphop', 'jazz', 'reggae', 'country', 'disco', 'pop', 'disco',\n",
       "       'pop', 'reggae', 'country', 'blues', 'pop', 'metal', 'reggae',\n",
       "       'metal', 'pop', 'jazz', 'pop', 'metal', 'blues', 'reggae', 'pop',\n",
       "       'jazz', 'hiphop', 'jazz', 'blues', 'blues', 'pop', 'reggae',\n",
       "       'country', 'classical', 'blues', 'reggae', 'country', 'hiphop',\n",
       "       'pop', 'disco', 'country', 'hiphop', 'metal', 'disco', 'jazz',\n",
       "       'hiphop', 'classical', 'blues', 'hiphop', 'metal', 'classical',\n",
       "       'rock', 'jazz', 'reggae', 'rock', 'blues', 'reggae', 'blues',\n",
       "       'classical', 'blues', 'hiphop', 'disco', 'classical', 'pop',\n",
       "       'country', 'pop', 'blues', 'reggae', 'disco', 'pop', 'pop', 'pop',\n",
       "       'country', 'pop', 'country', 'pop', 'hiphop', 'hiphop', 'rock',\n",
       "       'reggae', 'reggae', 'country', 'country', 'classical', 'jazz',\n",
       "       'pop', 'hiphop', 'pop', 'hiphop', 'reggae', 'pop', 'classical',\n",
       "       'jazz', 'disco', 'blues', 'rock', 'rock', 'jazz', 'blues',\n",
       "       'country', 'blues', 'pop', 'jazz', 'hiphop', 'hiphop', 'disco',\n",
       "       'blues', 'disco', 'reggae', 'jazz', 'disco', 'pop', 'country',\n",
       "       'blues', 'disco', 'metal', 'disco', 'country', 'classical',\n",
       "       'reggae', 'rock', 'metal', 'reggae', 'hiphop', 'rock', 'jazz',\n",
       "       'reggae', 'country', 'jazz', 'reggae', 'jazz', 'metal',\n",
       "       'classical', 'pop', 'pop', 'hiphop', 'metal', 'jazz', 'blues',\n",
       "       'hiphop', 'jazz', 'reggae', 'pop', 'country', 'blues', 'disco',\n",
       "       'hiphop', 'classical', 'country', 'rock', 'classical', 'disco',\n",
       "       'reggae', 'hiphop', 'hiphop', 'disco', 'pop', 'disco', 'metal',\n",
       "       'classical', 'metal', 'reggae', 'blues', 'disco', 'blues',\n",
       "       'hiphop', 'disco', 'country', 'hiphop', 'classical', 'metal',\n",
       "       'blues', 'pop', 'blues', 'classical', 'country', 'reggae',\n",
       "       'hiphop', 'classical'], dtype='<U9')"
      ]
     },
     "execution_count": 178,
     "metadata": {},
     "output_type": "execute_result"
    }
   ],
   "source": [
    "y_train"
   ]
  },
  {
   "cell_type": "code",
   "execution_count": 179,
   "id": "ca94942f",
   "metadata": {},
   "outputs": [
    {
     "name": "stdout",
     "output_type": "stream",
     "text": [
      "[7 2 1 9 4 9 0 1 2 8 8 3 7 5 4 2 9 3 4 0 8 2 5 7 9 5 8 9 4 8 0 0 2 7 1 3 0\n",
      " 2 3 5 3 1 4 0 0 4 0 5 5 3 4 9 5 4 0 1 4 2 0 9 7 0 2 3 8 4 8 4 4 7 1 8 2 8\n",
      " 0 1 6 0 6 6 6 2 2 2 7 3 4 2 8 3 8 4 3 4 9 3 4 0 1 8 8 6 3 9 6 3 5 9 9 6 5\n",
      " 5 7 5 4 2 3 8 2 0 1 3 3 7 9 9 4 9 1 5 3 6 4 0 3 7 7 3 5 5 3 1 1 5 9 9 0 9\n",
      " 1 2 8 0 2 1 3 4 3 1 6 6 1 4 1 0 9 1 7 6 1 4 1 1 0 9 6 0 8 4 2 1 7 2 2 5 8\n",
      " 1 9 4 1 0 7 1 5 0 6 4 6 8 0 7 4 5 6 6 9 3 0 5 6 9 6 2 5 7 6 5 6 4 0 7 4 5\n",
      " 5 3 0 0 9 2 2 3 3 9 2 0 1 3 4 9 2 6 6 5 5 5 7 1 6 6 5 5 3 1 2 6 8 6 3 4 0\n",
      " 1 5 5 3 1 1 4 7 4 4 0 7 0 3 9 9 9 6 8 6 0 0 3 5 0 0 3 1 4 8 5 7 1 4 1 4 4\n",
      " 9 8 6 1 3 8 8 9 6 3 9 6 2 5 3 6 0 3 7 2 1 9 0 3 6 8 3 4 8 9 2 6 0 5 0 6 2\n",
      " 8 4 1 0 7 4 1 2 2 4 1 8 5 5 5 1 1 4 7 0 6 9 3 2 0 3 1 9 8 7 2 4 6 3 3 9 1\n",
      " 1 7 0 3 9 1 4 3 6 3 0 8 7 8 4 5 7 0 1 2 8 6 7 8 1 2 6 5 7 0 1 3 2 6 9 1 1\n",
      " 6 6 1 3 7 7 7 9 6 5 9 0 9 1 8 1 0 5 0 9 8 5 6 4 2 7 6 2 0 7 4 9 3 2 0 9 3\n",
      " 4 9 8 9 7 1 8 9 5 9 8 5 9 1 9 1 6 7 7 1 2 9 1 4 4 8 5 7 1 0 1 4 9 2 6 8 7\n",
      " 0 9 0 4 6 2 3 7 5 6 7 7 2 6 2 4 1 7 6 8 5 7 4 1 1 7 9 7 6 3 4 3 1 1 8 6 1\n",
      " 9 1 6 2 2 4 1 1 2 4 2 4 7 8 9 8 8 1 6 4 9 8 7 9 2 6 9 7 8 9 6 8 7 3 9 5 2\n",
      " 8 4 4 1 6 2 8 6 6 3 9 9 2 7 6 3 6 4 8 7 3 2 7 6 6 2 3 3 2 9 9 4 3 5 6 9 9\n",
      " 9 6 8 8 6 8 5 9 5 7 0 2 7 1 5 0 5 1 6 8 8 8 9 7 0 5 2 7 5 6 4 5 8 2 3 7 3\n",
      " 7 8 2 0 7 6 8 6 7 5 7 6 0 8 7 5 4 5 0 0 7 8 2 1 0 8 2 4 7 3 2 4 6 3 5 4 1\n",
      " 0 4 6 1 9 5 8 9 0 8 0 1 0 4 3 1 7 2 7 0 8 3 7 7 7 2 7 2 7 4 4 9 8 8 2 2 1\n",
      " 5 7 4 7 4 8 7 1 5 3 0 9 9 5 0 2 0 7 5 4 4 3 0 3 8 5 3 7 2 0 3 6 3 2 1 8 9\n",
      " 6 8 4 9 5 8 2 5 8 5 6 1 7 7 4 6 5 0 4 5 8 7 2 0 3 4 1 2 9 1 3 8 4 4 3 7 3\n",
      " 6 1 6 8 0 3 0 4 3 2 4 1 6 0 7 0 1 2 8 4 1]\n"
     ]
    }
   ],
   "source": [
    "from sklearn.preprocessing import LabelEncoder\n",
    "\n",
    "# Create a LabelEncoder instance\n",
    "label_encoder = LabelEncoder()\n",
    "\n",
    "# Fit and transform the label encoder on y_train\n",
    "y_train_encoded = label_encoder.fit_transform(y_train)\n",
    "\n",
    "# Now, y_train_encoded contains integer labels corresponding to your genre names\n",
    "print(y_train_encoded)"
   ]
  },
  {
   "cell_type": "code",
   "execution_count": 180,
   "id": "734e9f7c",
   "metadata": {},
   "outputs": [
    {
     "data": {
      "text/html": [
       "<style>#sk-container-id-25 {color: black;}#sk-container-id-25 pre{padding: 0;}#sk-container-id-25 div.sk-toggleable {background-color: white;}#sk-container-id-25 label.sk-toggleable__label {cursor: pointer;display: block;width: 100%;margin-bottom: 0;padding: 0.3em;box-sizing: border-box;text-align: center;}#sk-container-id-25 label.sk-toggleable__label-arrow:before {content: \"▸\";float: left;margin-right: 0.25em;color: #696969;}#sk-container-id-25 label.sk-toggleable__label-arrow:hover:before {color: black;}#sk-container-id-25 div.sk-estimator:hover label.sk-toggleable__label-arrow:before {color: black;}#sk-container-id-25 div.sk-toggleable__content {max-height: 0;max-width: 0;overflow: hidden;text-align: left;background-color: #f0f8ff;}#sk-container-id-25 div.sk-toggleable__content pre {margin: 0.2em;color: black;border-radius: 0.25em;background-color: #f0f8ff;}#sk-container-id-25 input.sk-toggleable__control:checked~div.sk-toggleable__content {max-height: 200px;max-width: 100%;overflow: auto;}#sk-container-id-25 input.sk-toggleable__control:checked~label.sk-toggleable__label-arrow:before {content: \"▾\";}#sk-container-id-25 div.sk-estimator input.sk-toggleable__control:checked~label.sk-toggleable__label {background-color: #d4ebff;}#sk-container-id-25 div.sk-label input.sk-toggleable__control:checked~label.sk-toggleable__label {background-color: #d4ebff;}#sk-container-id-25 input.sk-hidden--visually {border: 0;clip: rect(1px 1px 1px 1px);clip: rect(1px, 1px, 1px, 1px);height: 1px;margin: -1px;overflow: hidden;padding: 0;position: absolute;width: 1px;}#sk-container-id-25 div.sk-estimator {font-family: monospace;background-color: #f0f8ff;border: 1px dotted black;border-radius: 0.25em;box-sizing: border-box;margin-bottom: 0.5em;}#sk-container-id-25 div.sk-estimator:hover {background-color: #d4ebff;}#sk-container-id-25 div.sk-parallel-item::after {content: \"\";width: 100%;border-bottom: 1px solid gray;flex-grow: 1;}#sk-container-id-25 div.sk-label:hover label.sk-toggleable__label {background-color: #d4ebff;}#sk-container-id-25 div.sk-serial::before {content: \"\";position: absolute;border-left: 1px solid gray;box-sizing: border-box;top: 0;bottom: 0;left: 50%;z-index: 0;}#sk-container-id-25 div.sk-serial {display: flex;flex-direction: column;align-items: center;background-color: white;padding-right: 0.2em;padding-left: 0.2em;position: relative;}#sk-container-id-25 div.sk-item {position: relative;z-index: 1;}#sk-container-id-25 div.sk-parallel {display: flex;align-items: stretch;justify-content: center;background-color: white;position: relative;}#sk-container-id-25 div.sk-item::before, #sk-container-id-25 div.sk-parallel-item::before {content: \"\";position: absolute;border-left: 1px solid gray;box-sizing: border-box;top: 0;bottom: 0;left: 50%;z-index: -1;}#sk-container-id-25 div.sk-parallel-item {display: flex;flex-direction: column;z-index: 1;position: relative;background-color: white;}#sk-container-id-25 div.sk-parallel-item:first-child::after {align-self: flex-end;width: 50%;}#sk-container-id-25 div.sk-parallel-item:last-child::after {align-self: flex-start;width: 50%;}#sk-container-id-25 div.sk-parallel-item:only-child::after {width: 0;}#sk-container-id-25 div.sk-dashed-wrapped {border: 1px dashed gray;margin: 0 0.4em 0.5em 0.4em;box-sizing: border-box;padding-bottom: 0.4em;background-color: white;}#sk-container-id-25 div.sk-label label {font-family: monospace;font-weight: bold;display: inline-block;line-height: 1.2em;}#sk-container-id-25 div.sk-label-container {text-align: center;}#sk-container-id-25 div.sk-container {/* jupyter's `normalize.less` sets `[hidden] { display: none; }` but bootstrap.min.css set `[hidden] { display: none !important; }` so we also need the `!important` here to be able to override the default hidden behavior on the sphinx rendered scikit-learn.org. See: https://github.com/scikit-learn/scikit-learn/issues/21755 */display: inline-block !important;position: relative;}#sk-container-id-25 div.sk-text-repr-fallback {display: none;}</style><div id=\"sk-container-id-25\" class=\"sk-top-container\"><div class=\"sk-text-repr-fallback\"><pre>XGBClassifier(base_score=None, booster=None, callbacks=None,\n",
       "              colsample_bylevel=None, colsample_bynode=None,\n",
       "              colsample_bytree=None, early_stopping_rounds=None,\n",
       "              enable_categorical=False, eval_metric=None, feature_types=None,\n",
       "              gamma=None, gpu_id=None, grow_policy=None, importance_type=None,\n",
       "              interaction_constraints=None, learning_rate=0.1, max_bin=None,\n",
       "              max_cat_threshold=None, max_cat_to_onehot=None,\n",
       "              max_delta_step=None, max_depth=None, max_leaves=None,\n",
       "              min_child_weight=None, missing=nan, monotone_constraints=None,\n",
       "              n_estimators=100, n_jobs=None, num_parallel_tree=None,\n",
       "              objective=&#x27;multi:softprob&#x27;, predictor=None, ...)</pre><b>In a Jupyter environment, please rerun this cell to show the HTML representation or trust the notebook. <br />On GitHub, the HTML representation is unable to render, please try loading this page with nbviewer.org.</b></div><div class=\"sk-container\" hidden><div class=\"sk-item\"><div class=\"sk-estimator sk-toggleable\"><input class=\"sk-toggleable__control sk-hidden--visually\" id=\"sk-estimator-id-25\" type=\"checkbox\" checked><label for=\"sk-estimator-id-25\" class=\"sk-toggleable__label sk-toggleable__label-arrow\">XGBClassifier</label><div class=\"sk-toggleable__content\"><pre>XGBClassifier(base_score=None, booster=None, callbacks=None,\n",
       "              colsample_bylevel=None, colsample_bynode=None,\n",
       "              colsample_bytree=None, early_stopping_rounds=None,\n",
       "              enable_categorical=False, eval_metric=None, feature_types=None,\n",
       "              gamma=None, gpu_id=None, grow_policy=None, importance_type=None,\n",
       "              interaction_constraints=None, learning_rate=0.1, max_bin=None,\n",
       "              max_cat_threshold=None, max_cat_to_onehot=None,\n",
       "              max_delta_step=None, max_depth=None, max_leaves=None,\n",
       "              min_child_weight=None, missing=nan, monotone_constraints=None,\n",
       "              n_estimators=100, n_jobs=None, num_parallel_tree=None,\n",
       "              objective=&#x27;multi:softprob&#x27;, predictor=None, ...)</pre></div></div></div></div></div>"
      ],
      "text/plain": [
       "XGBClassifier(base_score=None, booster=None, callbacks=None,\n",
       "              colsample_bylevel=None, colsample_bynode=None,\n",
       "              colsample_bytree=None, early_stopping_rounds=None,\n",
       "              enable_categorical=False, eval_metric=None, feature_types=None,\n",
       "              gamma=None, gpu_id=None, grow_policy=None, importance_type=None,\n",
       "              interaction_constraints=None, learning_rate=0.1, max_bin=None,\n",
       "              max_cat_threshold=None, max_cat_to_onehot=None,\n",
       "              max_delta_step=None, max_depth=None, max_leaves=None,\n",
       "              min_child_weight=None, missing=nan, monotone_constraints=None,\n",
       "              n_estimators=100, n_jobs=None, num_parallel_tree=None,\n",
       "              objective='multi:softprob', predictor=None, ...)"
      ]
     },
     "execution_count": 180,
     "metadata": {},
     "output_type": "execute_result"
    }
   ],
   "source": [
    "# Create an instance of the XGBClassifier with your desired parameters\n",
    "xgb_classifier = XGBClassifier(n_estimators=100, learning_rate=0.1, random_state=42)\n",
    "\n",
    "# Fit the model to your training data with integer labels\n",
    "xgb_classifier.fit(X_train, y_train_encoded)\n"
   ]
  },
  {
   "cell_type": "code",
   "execution_count": 181,
   "id": "be21e0b1",
   "metadata": {},
   "outputs": [
    {
     "data": {
      "text/plain": [
       "array(['pop', 'country', 'classical', 'rock', 'hiphop', 'rock', 'blues',\n",
       "       'classical', 'country', 'reggae', 'reggae', 'disco', 'pop', 'jazz',\n",
       "       'hiphop', 'country', 'rock', 'disco', 'hiphop', 'blues', 'reggae',\n",
       "       'country', 'jazz', 'pop', 'rock', 'jazz', 'reggae', 'rock',\n",
       "       'hiphop', 'reggae', 'blues', 'blues', 'country', 'pop',\n",
       "       'classical', 'disco', 'blues', 'country', 'disco', 'jazz', 'disco',\n",
       "       'classical', 'hiphop', 'blues', 'blues', 'hiphop', 'blues', 'jazz',\n",
       "       'jazz', 'disco', 'hiphop', 'rock', 'jazz', 'hiphop', 'blues',\n",
       "       'classical', 'hiphop', 'country', 'blues', 'rock', 'pop', 'blues',\n",
       "       'country', 'disco', 'reggae', 'hiphop', 'reggae', 'hiphop',\n",
       "       'hiphop', 'pop', 'classical', 'reggae', 'country', 'reggae',\n",
       "       'blues', 'classical', 'metal', 'blues', 'metal', 'metal', 'metal',\n",
       "       'country', 'country', 'country', 'pop', 'disco', 'hiphop',\n",
       "       'country', 'reggae', 'disco', 'reggae', 'hiphop', 'disco',\n",
       "       'hiphop', 'rock', 'disco', 'hiphop', 'blues', 'classical',\n",
       "       'reggae', 'reggae', 'metal', 'disco', 'rock', 'metal', 'disco',\n",
       "       'jazz', 'rock', 'rock', 'metal', 'jazz', 'jazz', 'pop', 'jazz',\n",
       "       'hiphop', 'country', 'disco', 'reggae', 'country', 'blues',\n",
       "       'classical', 'disco', 'disco', 'pop', 'rock', 'rock', 'hiphop',\n",
       "       'rock', 'classical', 'jazz', 'disco', 'metal', 'hiphop', 'blues',\n",
       "       'disco', 'pop', 'pop', 'disco', 'jazz', 'jazz', 'disco',\n",
       "       'classical', 'classical', 'jazz', 'rock', 'rock', 'blues', 'rock',\n",
       "       'classical', 'country', 'reggae', 'blues', 'country', 'classical',\n",
       "       'disco', 'hiphop', 'disco', 'classical', 'metal', 'metal',\n",
       "       'classical', 'hiphop', 'classical', 'blues', 'rock', 'classical',\n",
       "       'pop', 'metal', 'classical', 'hiphop', 'classical', 'classical',\n",
       "       'blues', 'rock', 'metal', 'blues', 'reggae', 'hiphop', 'country',\n",
       "       'classical', 'pop', 'country', 'country', 'jazz', 'reggae',\n",
       "       'classical', 'rock', 'hiphop', 'classical', 'blues', 'pop',\n",
       "       'classical', 'jazz', 'blues', 'metal', 'hiphop', 'metal', 'reggae',\n",
       "       'blues', 'pop', 'hiphop', 'jazz', 'metal', 'metal', 'rock',\n",
       "       'disco', 'blues', 'jazz', 'metal', 'rock', 'metal', 'country',\n",
       "       'jazz', 'pop', 'metal', 'jazz', 'metal', 'hiphop', 'blues', 'pop',\n",
       "       'hiphop', 'jazz', 'jazz', 'disco', 'blues', 'blues', 'rock',\n",
       "       'country', 'country', 'disco', 'disco', 'rock', 'country', 'blues',\n",
       "       'classical', 'disco', 'hiphop', 'rock', 'country', 'metal',\n",
       "       'metal', 'jazz', 'jazz', 'jazz', 'pop', 'classical', 'metal',\n",
       "       'metal', 'jazz', 'jazz', 'disco', 'classical', 'country', 'metal',\n",
       "       'reggae', 'metal', 'disco', 'hiphop', 'blues', 'classical', 'jazz',\n",
       "       'jazz', 'disco', 'classical', 'classical', 'hiphop', 'pop',\n",
       "       'hiphop', 'hiphop', 'blues', 'pop', 'blues', 'disco', 'rock',\n",
       "       'rock', 'rock', 'metal', 'reggae', 'metal', 'blues', 'blues',\n",
       "       'disco', 'jazz', 'blues', 'blues', 'disco', 'classical', 'hiphop',\n",
       "       'reggae', 'jazz', 'pop', 'classical', 'hiphop', 'classical',\n",
       "       'hiphop', 'hiphop', 'rock', 'reggae', 'metal', 'classical',\n",
       "       'disco', 'reggae', 'reggae', 'rock', 'metal', 'disco', 'rock',\n",
       "       'metal', 'country', 'jazz', 'disco', 'metal', 'blues', 'disco',\n",
       "       'pop', 'country', 'classical', 'rock', 'blues', 'disco', 'metal',\n",
       "       'reggae', 'disco', 'hiphop', 'reggae', 'rock', 'country', 'metal',\n",
       "       'blues', 'jazz', 'blues', 'metal', 'country', 'reggae', 'hiphop',\n",
       "       'classical', 'blues', 'pop', 'hiphop', 'classical', 'country',\n",
       "       'country', 'hiphop', 'classical', 'reggae', 'jazz', 'jazz', 'jazz',\n",
       "       'classical', 'classical', 'hiphop', 'pop', 'blues', 'metal',\n",
       "       'rock', 'disco', 'country', 'blues', 'disco', 'classical', 'rock',\n",
       "       'reggae', 'pop', 'country', 'hiphop', 'metal', 'disco', 'disco',\n",
       "       'rock', 'classical', 'classical', 'pop', 'blues', 'disco', 'rock',\n",
       "       'classical', 'hiphop', 'disco', 'metal', 'disco', 'blues',\n",
       "       'reggae', 'pop', 'reggae', 'hiphop', 'jazz', 'pop', 'blues',\n",
       "       'classical', 'country', 'reggae', 'metal', 'pop', 'reggae',\n",
       "       'classical', 'country', 'metal', 'jazz', 'pop', 'blues',\n",
       "       'classical', 'disco', 'country', 'metal', 'rock', 'classical',\n",
       "       'classical', 'metal', 'metal', 'classical', 'disco', 'pop', 'pop',\n",
       "       'pop', 'rock', 'metal', 'jazz', 'rock', 'blues', 'rock',\n",
       "       'classical', 'reggae', 'classical', 'blues', 'jazz', 'blues',\n",
       "       'rock', 'reggae', 'jazz', 'metal', 'hiphop', 'country', 'pop',\n",
       "       'metal', 'country', 'blues', 'pop', 'hiphop', 'rock', 'disco',\n",
       "       'country', 'blues', 'rock', 'disco', 'hiphop', 'rock', 'reggae',\n",
       "       'rock', 'pop', 'classical', 'reggae', 'rock', 'jazz', 'rock',\n",
       "       'reggae', 'jazz', 'rock', 'classical', 'rock', 'classical',\n",
       "       'metal', 'pop', 'pop', 'classical', 'country', 'rock', 'classical',\n",
       "       'hiphop', 'hiphop', 'reggae', 'jazz', 'pop', 'classical', 'blues',\n",
       "       'classical', 'hiphop', 'rock', 'country', 'metal', 'reggae', 'pop',\n",
       "       'blues', 'rock', 'blues', 'hiphop', 'metal', 'country', 'disco',\n",
       "       'pop', 'jazz', 'metal', 'pop', 'pop', 'country', 'metal',\n",
       "       'country', 'hiphop', 'classical', 'pop', 'metal', 'reggae', 'jazz',\n",
       "       'pop', 'hiphop', 'classical', 'classical', 'pop', 'rock', 'pop',\n",
       "       'metal', 'disco', 'hiphop', 'disco', 'classical', 'classical',\n",
       "       'reggae', 'metal', 'classical', 'rock', 'classical', 'metal',\n",
       "       'country', 'country', 'hiphop', 'classical', 'classical',\n",
       "       'country', 'hiphop', 'country', 'hiphop', 'pop', 'reggae', 'rock',\n",
       "       'reggae', 'reggae', 'classical', 'metal', 'hiphop', 'rock',\n",
       "       'reggae', 'pop', 'rock', 'country', 'metal', 'rock', 'pop',\n",
       "       'reggae', 'rock', 'metal', 'reggae', 'pop', 'disco', 'rock',\n",
       "       'jazz', 'country', 'reggae', 'hiphop', 'hiphop', 'classical',\n",
       "       'metal', 'country', 'reggae', 'metal', 'metal', 'disco', 'rock',\n",
       "       'rock', 'country', 'pop', 'metal', 'disco', 'metal', 'hiphop',\n",
       "       'reggae', 'pop', 'disco', 'country', 'pop', 'metal', 'metal',\n",
       "       'country', 'disco', 'disco', 'country', 'rock', 'rock', 'hiphop',\n",
       "       'disco', 'jazz', 'metal', 'rock', 'rock', 'rock', 'metal',\n",
       "       'reggae', 'reggae', 'metal', 'reggae', 'jazz', 'rock', 'jazz',\n",
       "       'pop', 'blues', 'country', 'pop', 'classical', 'jazz', 'blues',\n",
       "       'jazz', 'classical', 'metal', 'reggae', 'reggae', 'reggae', 'rock',\n",
       "       'pop', 'blues', 'jazz', 'country', 'pop', 'jazz', 'metal',\n",
       "       'hiphop', 'jazz', 'reggae', 'country', 'disco', 'pop', 'disco',\n",
       "       'pop', 'reggae', 'country', 'blues', 'pop', 'metal', 'reggae',\n",
       "       'metal', 'pop', 'jazz', 'pop', 'metal', 'blues', 'reggae', 'pop',\n",
       "       'jazz', 'hiphop', 'jazz', 'blues', 'blues', 'pop', 'reggae',\n",
       "       'country', 'classical', 'blues', 'reggae', 'country', 'hiphop',\n",
       "       'pop', 'disco', 'country', 'hiphop', 'metal', 'disco', 'jazz',\n",
       "       'hiphop', 'classical', 'blues', 'hiphop', 'metal', 'classical',\n",
       "       'rock', 'jazz', 'reggae', 'rock', 'blues', 'reggae', 'blues',\n",
       "       'classical', 'blues', 'hiphop', 'disco', 'classical', 'pop',\n",
       "       'country', 'pop', 'blues', 'reggae', 'disco', 'pop', 'pop', 'pop',\n",
       "       'country', 'pop', 'country', 'pop', 'hiphop', 'hiphop', 'rock',\n",
       "       'reggae', 'reggae', 'country', 'country', 'classical', 'jazz',\n",
       "       'pop', 'hiphop', 'pop', 'hiphop', 'reggae', 'pop', 'classical',\n",
       "       'jazz', 'disco', 'blues', 'rock', 'rock', 'jazz', 'blues',\n",
       "       'country', 'blues', 'pop', 'jazz', 'hiphop', 'hiphop', 'disco',\n",
       "       'blues', 'disco', 'reggae', 'jazz', 'disco', 'pop', 'country',\n",
       "       'blues', 'disco', 'metal', 'disco', 'country', 'classical',\n",
       "       'reggae', 'rock', 'metal', 'reggae', 'hiphop', 'rock', 'jazz',\n",
       "       'reggae', 'country', 'jazz', 'reggae', 'jazz', 'metal',\n",
       "       'classical', 'pop', 'pop', 'hiphop', 'metal', 'jazz', 'blues',\n",
       "       'hiphop', 'jazz', 'reggae', 'pop', 'country', 'blues', 'disco',\n",
       "       'hiphop', 'classical', 'country', 'rock', 'classical', 'disco',\n",
       "       'reggae', 'hiphop', 'hiphop', 'disco', 'pop', 'disco', 'metal',\n",
       "       'classical', 'metal', 'reggae', 'blues', 'disco', 'blues',\n",
       "       'hiphop', 'disco', 'country', 'hiphop', 'classical', 'metal',\n",
       "       'blues', 'pop', 'blues', 'classical', 'country', 'reggae',\n",
       "       'hiphop', 'classical'], dtype='<U9')"
      ]
     },
     "execution_count": 181,
     "metadata": {},
     "output_type": "execute_result"
    }
   ],
   "source": [
    "y_train"
   ]
  },
  {
   "cell_type": "code",
   "execution_count": 182,
   "id": "51285f10",
   "metadata": {},
   "outputs": [],
   "source": [
    "xgb_predictions = xgb_classifier.predict(X_test)"
   ]
  },
  {
   "cell_type": "code",
   "execution_count": 183,
   "id": "00bf68e6",
   "metadata": {},
   "outputs": [
    {
     "name": "stdout",
     "output_type": "stream",
     "text": [
      "XGBoost Accuracy: 0.0\n"
     ]
    },
    {
     "name": "stderr",
     "output_type": "stream",
     "text": [
      "/home/trupti/Desktop/anaconda3/lib/python3.11/site-packages/sklearn/metrics/_classification.py:226: FutureWarning: elementwise comparison failed; returning scalar instead, but in the future will perform elementwise comparison\n",
      "  score = y_true == y_pred\n"
     ]
    }
   ],
   "source": [
    "xgb_accuracy = accuracy_score(y_test, xgb_predictions)\n",
    "print(\"XGBoost Accuracy:\", xgb_accuracy)"
   ]
  },
  {
   "cell_type": "code",
   "execution_count": 184,
   "id": "06edef7b",
   "metadata": {},
   "outputs": [
    {
     "ename": "NameError",
     "evalue": "name 'y_true' is not defined",
     "output_type": "error",
     "traceback": [
      "\u001b[0;31m---------------------------------------------------------------------------\u001b[0m",
      "\u001b[0;31mNameError\u001b[0m                                 Traceback (most recent call last)",
      "Cell \u001b[0;32mIn[184], line 4\u001b[0m\n\u001b[1;32m      1\u001b[0m \u001b[38;5;28;01mimport\u001b[39;00m \u001b[38;5;21;01mnumpy\u001b[39;00m \u001b[38;5;28;01mas\u001b[39;00m \u001b[38;5;21;01mnp\u001b[39;00m\n\u001b[1;32m      3\u001b[0m \u001b[38;5;66;03m# Assuming y_true and y_pred are arrays or lists\u001b[39;00m\n\u001b[0;32m----> 4\u001b[0m y_true \u001b[38;5;241m=\u001b[39m np\u001b[38;5;241m.\u001b[39marray(y_true)\n\u001b[1;32m      5\u001b[0m y_pred \u001b[38;5;241m=\u001b[39m np\u001b[38;5;241m.\u001b[39marray(y_pred)\n\u001b[1;32m      7\u001b[0m \u001b[38;5;66;03m# Now perform elementwise comparison and calculate accuracy\u001b[39;00m\n",
      "\u001b[0;31mNameError\u001b[0m: name 'y_true' is not defined"
     ]
    }
   ],
   "source": [
    "import numpy as np\n",
    "\n",
    "# Assuming y_true and y_pred are arrays or lists\n",
    "y_true = np.array(y_true)\n",
    "y_pred = np.array(y_pred)\n",
    "\n",
    "# Now perform elementwise comparison and calculate accuracy\n",
    "score = y_true == y_pred\n",
    "accuracy = np.mean(score)\n",
    "\n",
    "print(f\"Accuracy: {accuracy}\")"
   ]
  },
  {
   "cell_type": "code",
   "execution_count": 185,
   "id": "5e57f090",
   "metadata": {},
   "outputs": [
    {
     "data": {
      "text/html": [
       "<style>#sk-container-id-26 {color: black;}#sk-container-id-26 pre{padding: 0;}#sk-container-id-26 div.sk-toggleable {background-color: white;}#sk-container-id-26 label.sk-toggleable__label {cursor: pointer;display: block;width: 100%;margin-bottom: 0;padding: 0.3em;box-sizing: border-box;text-align: center;}#sk-container-id-26 label.sk-toggleable__label-arrow:before {content: \"▸\";float: left;margin-right: 0.25em;color: #696969;}#sk-container-id-26 label.sk-toggleable__label-arrow:hover:before {color: black;}#sk-container-id-26 div.sk-estimator:hover label.sk-toggleable__label-arrow:before {color: black;}#sk-container-id-26 div.sk-toggleable__content {max-height: 0;max-width: 0;overflow: hidden;text-align: left;background-color: #f0f8ff;}#sk-container-id-26 div.sk-toggleable__content pre {margin: 0.2em;color: black;border-radius: 0.25em;background-color: #f0f8ff;}#sk-container-id-26 input.sk-toggleable__control:checked~div.sk-toggleable__content {max-height: 200px;max-width: 100%;overflow: auto;}#sk-container-id-26 input.sk-toggleable__control:checked~label.sk-toggleable__label-arrow:before {content: \"▾\";}#sk-container-id-26 div.sk-estimator input.sk-toggleable__control:checked~label.sk-toggleable__label {background-color: #d4ebff;}#sk-container-id-26 div.sk-label input.sk-toggleable__control:checked~label.sk-toggleable__label {background-color: #d4ebff;}#sk-container-id-26 input.sk-hidden--visually {border: 0;clip: rect(1px 1px 1px 1px);clip: rect(1px, 1px, 1px, 1px);height: 1px;margin: -1px;overflow: hidden;padding: 0;position: absolute;width: 1px;}#sk-container-id-26 div.sk-estimator {font-family: monospace;background-color: #f0f8ff;border: 1px dotted black;border-radius: 0.25em;box-sizing: border-box;margin-bottom: 0.5em;}#sk-container-id-26 div.sk-estimator:hover {background-color: #d4ebff;}#sk-container-id-26 div.sk-parallel-item::after {content: \"\";width: 100%;border-bottom: 1px solid gray;flex-grow: 1;}#sk-container-id-26 div.sk-label:hover label.sk-toggleable__label {background-color: #d4ebff;}#sk-container-id-26 div.sk-serial::before {content: \"\";position: absolute;border-left: 1px solid gray;box-sizing: border-box;top: 0;bottom: 0;left: 50%;z-index: 0;}#sk-container-id-26 div.sk-serial {display: flex;flex-direction: column;align-items: center;background-color: white;padding-right: 0.2em;padding-left: 0.2em;position: relative;}#sk-container-id-26 div.sk-item {position: relative;z-index: 1;}#sk-container-id-26 div.sk-parallel {display: flex;align-items: stretch;justify-content: center;background-color: white;position: relative;}#sk-container-id-26 div.sk-item::before, #sk-container-id-26 div.sk-parallel-item::before {content: \"\";position: absolute;border-left: 1px solid gray;box-sizing: border-box;top: 0;bottom: 0;left: 50%;z-index: -1;}#sk-container-id-26 div.sk-parallel-item {display: flex;flex-direction: column;z-index: 1;position: relative;background-color: white;}#sk-container-id-26 div.sk-parallel-item:first-child::after {align-self: flex-end;width: 50%;}#sk-container-id-26 div.sk-parallel-item:last-child::after {align-self: flex-start;width: 50%;}#sk-container-id-26 div.sk-parallel-item:only-child::after {width: 0;}#sk-container-id-26 div.sk-dashed-wrapped {border: 1px dashed gray;margin: 0 0.4em 0.5em 0.4em;box-sizing: border-box;padding-bottom: 0.4em;background-color: white;}#sk-container-id-26 div.sk-label label {font-family: monospace;font-weight: bold;display: inline-block;line-height: 1.2em;}#sk-container-id-26 div.sk-label-container {text-align: center;}#sk-container-id-26 div.sk-container {/* jupyter's `normalize.less` sets `[hidden] { display: none; }` but bootstrap.min.css set `[hidden] { display: none !important; }` so we also need the `!important` here to be able to override the default hidden behavior on the sphinx rendered scikit-learn.org. See: https://github.com/scikit-learn/scikit-learn/issues/21755 */display: inline-block !important;position: relative;}#sk-container-id-26 div.sk-text-repr-fallback {display: none;}</style><div id=\"sk-container-id-26\" class=\"sk-top-container\"><div class=\"sk-text-repr-fallback\"><pre>DecisionTreeClassifier()</pre><b>In a Jupyter environment, please rerun this cell to show the HTML representation or trust the notebook. <br />On GitHub, the HTML representation is unable to render, please try loading this page with nbviewer.org.</b></div><div class=\"sk-container\" hidden><div class=\"sk-item\"><div class=\"sk-estimator sk-toggleable\"><input class=\"sk-toggleable__control sk-hidden--visually\" id=\"sk-estimator-id-26\" type=\"checkbox\" checked><label for=\"sk-estimator-id-26\" class=\"sk-toggleable__label sk-toggleable__label-arrow\">DecisionTreeClassifier</label><div class=\"sk-toggleable__content\"><pre>DecisionTreeClassifier()</pre></div></div></div></div></div>"
      ],
      "text/plain": [
       "DecisionTreeClassifier()"
      ]
     },
     "execution_count": 185,
     "metadata": {},
     "output_type": "execute_result"
    }
   ],
   "source": [
    "from sklearn.tree import DecisionTreeClassifier\n",
    "classifier = DecisionTreeClassifier(criterion = 'gini')\n",
    "classifier.fit(X_train, y_train)"
   ]
  },
  {
   "cell_type": "code",
   "execution_count": 186,
   "id": "06d0faeb",
   "metadata": {},
   "outputs": [
    {
     "data": {
      "text/plain": [
       "array(['pop', 'pop', 'disco', 'disco', 'jazz', 'jazz', 'pop', 'jazz',\n",
       "       'jazz', 'metal', 'disco', 'rock', 'hiphop', 'metal', 'reggae',\n",
       "       'rock', 'reggae', 'hiphop', 'hiphop', 'disco', 'jazz', 'disco',\n",
       "       'country', 'hiphop', 'hiphop', 'blues', 'classical', 'disco',\n",
       "       'reggae', 'disco', 'jazz', 'jazz', 'metal', 'jazz', 'rock',\n",
       "       'disco', 'classical', 'classical', 'metal', 'jazz', 'hiphop',\n",
       "       'country', 'jazz', 'hiphop', 'blues', 'disco', 'metal', 'pop',\n",
       "       'blues', 'country', 'metal', 'jazz', 'hiphop', 'disco', 'blues',\n",
       "       'reggae', 'disco', 'reggae', 'disco', 'reggae', 'metal', 'rock',\n",
       "       'metal', 'classical', 'pop', 'disco', 'jazz', 'disco', 'reggae',\n",
       "       'jazz', 'jazz', 'classical', 'metal', 'classical', 'rock',\n",
       "       'country', 'blues', 'reggae', 'jazz', 'disco', 'rock', 'country',\n",
       "       'rock', 'reggae', 'metal', 'country', 'metal', 'country', 'reggae',\n",
       "       'reggae', 'hiphop', 'hiphop', 'disco', 'classical', 'pop',\n",
       "       'country', 'country', 'reggae', 'rock', 'reggae', 'metal', 'pop',\n",
       "       'country', 'blues', 'jazz', 'jazz', 'jazz', 'blues', 'metal',\n",
       "       'hiphop', 'rock', 'classical', 'reggae', 'country', 'classical',\n",
       "       'country', 'jazz', 'disco', 'pop', 'jazz', 'jazz', 'jazz', 'pop',\n",
       "       'country', 'rock', 'country', 'classical', 'rock', 'disco', 'jazz',\n",
       "       'country', 'metal', 'jazz', 'metal', 'classical', 'rock', 'pop',\n",
       "       'jazz', 'blues', 'disco', 'rock', 'disco', 'country', 'hiphop',\n",
       "       'classical', 'pop', 'metal', 'reggae', 'jazz', 'pop', 'disco',\n",
       "       'rock', 'hiphop', 'pop', 'rock', 'blues', 'metal', 'reggae', 'pop',\n",
       "       'disco', 'country', 'rock', 'blues', 'rock', 'disco', 'metal',\n",
       "       'hiphop', 'rock', 'reggae', 'classical', 'hiphop', 'hiphop',\n",
       "       'hiphop', 'blues', 'country', 'pop', 'reggae', 'hiphop', 'country',\n",
       "       'hiphop', 'jazz', 'classical', 'hiphop', 'hiphop', 'jazz', 'pop',\n",
       "       'hiphop', 'country', 'disco', 'hiphop', 'disco', 'disco', 'disco',\n",
       "       'country', 'disco', 'rock', 'blues', 'rock', 'reggae', 'hiphop'],\n",
       "      dtype='<U9')"
      ]
     },
     "execution_count": 186,
     "metadata": {},
     "output_type": "execute_result"
    }
   ],
   "source": [
    "classifier.predict(X_test)"
   ]
  },
  {
   "cell_type": "code",
   "execution_count": 187,
   "id": "d83688aa",
   "metadata": {},
   "outputs": [
    {
     "data": {
      "text/plain": [
       "0.4"
      ]
     },
     "execution_count": 187,
     "metadata": {},
     "output_type": "execute_result"
    }
   ],
   "source": [
    "classifier.score(X_test, y_test)"
   ]
  },
  {
   "cell_type": "code",
   "execution_count": 188,
   "id": "555502d4",
   "metadata": {},
   "outputs": [
    {
     "data": {
      "text/plain": [
       "[Text(0.3814631740805169, 0.9705882352941176, 'x[0] <= -258.467\\ngini = 0.9\\nsamples = 798\\nvalue = [79, 88, 76, 78, 85, 71, 82, 83, 78, 78]'),\n",
       " Text(0.04771371769383698, 0.9117647058823529, 'x[5] <= 9.369\\ngini = 0.57\\nsamples = 106\\nvalue = [10, 66, 6, 1, 1, 18, 0, 1, 3, 0]'),\n",
       " Text(0.02982107355864811, 0.8529411764705882, 'x[6] <= 1.443\\ngini = 0.294\\nsamples = 67\\nvalue = [1, 56, 1, 1, 1, 5, 0, 1, 1, 0]'),\n",
       " Text(0.015904572564612324, 0.7941176470588235, 'x[10] <= -13.722\\ngini = 0.102\\nsamples = 57\\nvalue = [0, 54, 1, 1, 0, 0, 0, 0, 1, 0]'),\n",
       " Text(0.007952286282306162, 0.7352941176470589, 'x[32] <= -0.984\\ngini = 0.5\\nsamples = 2\\nvalue = [0, 0, 0, 1, 0, 0, 0, 0, 1, 0]'),\n",
       " Text(0.003976143141153081, 0.6764705882352942, 'gini = 0.0\\nsamples = 1\\nvalue = [0, 0, 0, 0, 0, 0, 0, 0, 1, 0]'),\n",
       " Text(0.011928429423459244, 0.6764705882352942, 'gini = 0.0\\nsamples = 1\\nvalue = [0, 0, 0, 1, 0, 0, 0, 0, 0, 0]'),\n",
       " Text(0.02385685884691849, 0.7352941176470589, 'x[22] <= -9.126\\ngini = 0.036\\nsamples = 55\\nvalue = [0, 54, 1, 0, 0, 0, 0, 0, 0, 0]'),\n",
       " Text(0.019880715705765408, 0.6764705882352942, 'gini = 0.0\\nsamples = 1\\nvalue = [0, 0, 1, 0, 0, 0, 0, 0, 0, 0]'),\n",
       " Text(0.027833001988071572, 0.6764705882352942, 'gini = 0.0\\nsamples = 54\\nvalue = [0, 54, 0, 0, 0, 0, 0, 0, 0, 0]'),\n",
       " Text(0.0437375745526839, 0.7941176470588235, 'x[23] <= 1.224\\ngini = 0.68\\nsamples = 10\\nvalue = [1, 2, 0, 0, 1, 5, 0, 1, 0, 0]'),\n",
       " Text(0.039761431411530816, 0.7352941176470589, 'x[1] <= 123.667\\ngini = 0.72\\nsamples = 5\\nvalue = [1, 2, 0, 0, 1, 0, 0, 1, 0, 0]'),\n",
       " Text(0.03578528827037773, 0.6764705882352942, 'x[29] <= -2.611\\ngini = 0.667\\nsamples = 3\\nvalue = [1, 0, 0, 0, 1, 0, 0, 1, 0, 0]'),\n",
       " Text(0.03180914512922465, 0.6176470588235294, 'gini = 0.0\\nsamples = 1\\nvalue = [0, 0, 0, 0, 0, 0, 0, 1, 0, 0]'),\n",
       " Text(0.039761431411530816, 0.6176470588235294, 'x[15] <= 0.677\\ngini = 0.5\\nsamples = 2\\nvalue = [1, 0, 0, 0, 1, 0, 0, 0, 0, 0]'),\n",
       " Text(0.03578528827037773, 0.5588235294117647, 'gini = 0.0\\nsamples = 1\\nvalue = [0, 0, 0, 0, 1, 0, 0, 0, 0, 0]'),\n",
       " Text(0.0437375745526839, 0.5588235294117647, 'gini = 0.0\\nsamples = 1\\nvalue = [1, 0, 0, 0, 0, 0, 0, 0, 0, 0]'),\n",
       " Text(0.0437375745526839, 0.6764705882352942, 'gini = 0.0\\nsamples = 2\\nvalue = [0, 2, 0, 0, 0, 0, 0, 0, 0, 0]'),\n",
       " Text(0.04771371769383698, 0.7352941176470589, 'gini = 0.0\\nsamples = 5\\nvalue = [0, 0, 0, 0, 0, 5, 0, 0, 0, 0]'),\n",
       " Text(0.06560636182902585, 0.8529411764705882, 'x[2] <= -24.034\\ngini = 0.751\\nsamples = 39\\nvalue = [9, 10, 5, 0, 0, 13, 0, 0, 2, 0]'),\n",
       " Text(0.061630218687872766, 0.7941176470588235, 'gini = 0.0\\nsamples = 8\\nvalue = [0, 8, 0, 0, 0, 0, 0, 0, 0, 0]'),\n",
       " Text(0.06958250497017893, 0.7941176470588235, 'x[28] <= -0.129\\ngini = 0.706\\nsamples = 31\\nvalue = [9, 2, 5, 0, 0, 13, 0, 0, 2, 0]'),\n",
       " Text(0.05964214711729622, 0.7352941176470589, 'x[22] <= -3.908\\ngini = 0.586\\nsamples = 23\\nvalue = [5, 0, 5, 0, 0, 13, 0, 0, 0, 0]'),\n",
       " Text(0.05168986083499006, 0.6764705882352942, 'x[18] <= -3.956\\ngini = 0.49\\nsamples = 7\\nvalue = [4, 0, 3, 0, 0, 0, 0, 0, 0, 0]'),\n",
       " Text(0.04771371769383698, 0.6176470588235294, 'gini = 0.0\\nsamples = 4\\nvalue = [4, 0, 0, 0, 0, 0, 0, 0, 0, 0]'),\n",
       " Text(0.055666003976143144, 0.6176470588235294, 'gini = 0.0\\nsamples = 3\\nvalue = [0, 0, 3, 0, 0, 0, 0, 0, 0, 0]'),\n",
       " Text(0.06759443339960239, 0.6764705882352942, 'x[20] <= -4.428\\ngini = 0.32\\nsamples = 16\\nvalue = [1, 0, 2, 0, 0, 13, 0, 0, 0, 0]'),\n",
       " Text(0.0636182902584493, 0.6176470588235294, 'x[30] <= -1.068\\ngini = 0.444\\nsamples = 3\\nvalue = [1, 0, 2, 0, 0, 0, 0, 0, 0, 0]'),\n",
       " Text(0.05964214711729622, 0.5588235294117647, 'gini = 0.0\\nsamples = 1\\nvalue = [1, 0, 0, 0, 0, 0, 0, 0, 0, 0]'),\n",
       " Text(0.06759443339960239, 0.5588235294117647, 'gini = 0.0\\nsamples = 2\\nvalue = [0, 0, 2, 0, 0, 0, 0, 0, 0, 0]'),\n",
       " Text(0.07157057654075547, 0.6176470588235294, 'gini = 0.0\\nsamples = 13\\nvalue = [0, 0, 0, 0, 0, 13, 0, 0, 0, 0]'),\n",
       " Text(0.07952286282306163, 0.7352941176470589, 'x[1] <= 96.855\\ngini = 0.625\\nsamples = 8\\nvalue = [4, 2, 0, 0, 0, 0, 0, 0, 2, 0]'),\n",
       " Text(0.07554671968190854, 0.6764705882352942, 'gini = 0.0\\nsamples = 2\\nvalue = [0, 0, 0, 0, 0, 0, 0, 0, 2, 0]'),\n",
       " Text(0.08349900596421471, 0.6764705882352942, 'x[10] <= -2.387\\ngini = 0.444\\nsamples = 6\\nvalue = [4, 2, 0, 0, 0, 0, 0, 0, 0, 0]'),\n",
       " Text(0.07952286282306163, 0.6176470588235294, 'gini = 0.0\\nsamples = 2\\nvalue = [0, 2, 0, 0, 0, 0, 0, 0, 0, 0]'),\n",
       " Text(0.0874751491053678, 0.6176470588235294, 'gini = 0.0\\nsamples = 4\\nvalue = [4, 0, 0, 0, 0, 0, 0, 0, 0, 0]'),\n",
       " Text(0.7152126304671969, 0.9117647058823529, 'x[8] <= 0.593\\ngini = 0.893\\nsamples = 692\\nvalue = [69, 22, 70, 77, 84, 53, 82, 82, 75, 78]'),\n",
       " Text(0.5257284418489065, 0.8529411764705882, 'x[3] <= 52.992\\ngini = 0.886\\nsamples = 537\\nvalue = [69, 21, 63, 67, 60, 45, 79, 15, 47, 71]'),\n",
       " Text(0.3022024105367793, 0.7941176470588235, 'x[0] <= -130.263\\ngini = 0.884\\nsamples = 419\\nvalue = [44, 21, 59, 63, 50, 43, 20, 15, 43, 61]'),\n",
       " Text(0.1336046222664016, 0.7352941176470589, 'x[6] <= -19.774\\ngini = 0.857\\nsamples = 191\\nvalue = [28, 15, 37, 10, 11, 34, 1, 4, 34, 17]'),\n",
       " Text(0.09940357852882704, 0.6764705882352942, 'x[17] <= -0.657\\ngini = 0.18\\nsamples = 10\\nvalue = [9, 0, 0, 0, 0, 0, 0, 0, 0, 1]'),\n",
       " Text(0.09542743538767395, 0.6176470588235294, 'gini = 0.0\\nsamples = 9\\nvalue = [9, 0, 0, 0, 0, 0, 0, 0, 0, 0]'),\n",
       " Text(0.10337972166998012, 0.6176470588235294, 'gini = 0.0\\nsamples = 1\\nvalue = [0, 0, 0, 0, 0, 0, 0, 0, 0, 1]'),\n",
       " Text(0.16780566600397614, 0.6764705882352942, 'x[2] <= -28.622\\ngini = 0.855\\nsamples = 181\\nvalue = [19, 15, 37, 10, 11, 34, 1, 4, 34, 16]'),\n",
       " Text(0.11133200795228629, 0.6176470588235294, 'x[3] <= 40.634\\ngini = 0.649\\nsamples = 22\\nvalue = [0, 12, 0, 1, 2, 4, 0, 0, 1, 2]'),\n",
       " Text(0.10337972166998012, 0.5588235294117647, 'x[16] <= -6.906\\ngini = 0.347\\nsamples = 15\\nvalue = [0, 12, 0, 0, 1, 1, 0, 0, 1, 0]'),\n",
       " Text(0.09940357852882704, 0.5, 'x[9] <= -2.452\\ngini = 0.667\\nsamples = 3\\nvalue = [0, 0, 0, 0, 1, 1, 0, 0, 1, 0]'),\n",
       " Text(0.09542743538767395, 0.4411764705882353, 'gini = 0.0\\nsamples = 1\\nvalue = [0, 0, 0, 0, 0, 1, 0, 0, 0, 0]'),\n",
       " Text(0.10337972166998012, 0.4411764705882353, 'x[28] <= -0.285\\ngini = 0.5\\nsamples = 2\\nvalue = [0, 0, 0, 0, 1, 0, 0, 0, 1, 0]'),\n",
       " Text(0.09940357852882704, 0.38235294117647056, 'gini = 0.0\\nsamples = 1\\nvalue = [0, 0, 0, 0, 1, 0, 0, 0, 0, 0]'),\n",
       " Text(0.1073558648111332, 0.38235294117647056, 'gini = 0.0\\nsamples = 1\\nvalue = [0, 0, 0, 0, 0, 0, 0, 0, 1, 0]'),\n",
       " Text(0.1073558648111332, 0.5, 'gini = 0.0\\nsamples = 12\\nvalue = [0, 12, 0, 0, 0, 0, 0, 0, 0, 0]'),\n",
       " Text(0.11928429423459244, 0.5588235294117647, 'x[31] <= -2.008\\ngini = 0.694\\nsamples = 7\\nvalue = [0, 0, 0, 1, 1, 3, 0, 0, 0, 2]'),\n",
       " Text(0.11530815109343936, 0.5, 'gini = 0.0\\nsamples = 3\\nvalue = [0, 0, 0, 0, 0, 3, 0, 0, 0, 0]'),\n",
       " Text(0.12326043737574553, 0.5, 'x[6] <= -17.81\\ngini = 0.625\\nsamples = 4\\nvalue = [0, 0, 0, 1, 1, 0, 0, 0, 0, 2]'),\n",
       " Text(0.11928429423459244, 0.4411764705882353, 'gini = 0.0\\nsamples = 2\\nvalue = [0, 0, 0, 0, 0, 0, 0, 0, 0, 2]'),\n",
       " Text(0.1272365805168986, 0.4411764705882353, 'x[13] <= 8.454\\ngini = 0.5\\nsamples = 2\\nvalue = [0, 0, 0, 1, 1, 0, 0, 0, 0, 0]'),\n",
       " Text(0.12326043737574553, 0.38235294117647056, 'gini = 0.0\\nsamples = 1\\nvalue = [0, 0, 0, 0, 1, 0, 0, 0, 0, 0]'),\n",
       " Text(0.1312127236580517, 0.38235294117647056, 'gini = 0.0\\nsamples = 1\\nvalue = [0, 0, 0, 1, 0, 0, 0, 0, 0, 0]'),\n",
       " Text(0.224279324055666, 0.6176470588235294, 'x[5] <= 18.527\\ngini = 0.838\\nsamples = 159\\nvalue = [19, 3, 37, 9, 9, 30, 1, 4, 33, 14]'),\n",
       " Text(0.16774353876739562, 0.5588235294117647, 'x[20] <= -4.074\\ngini = 0.79\\nsamples = 89\\nvalue = [8, 3, 31, 1, 4, 22, 1, 4, 8, 7]'),\n",
       " Text(0.13916500994035785, 0.5, 'x[10] <= -3.949\\ngini = 0.318\\nsamples = 22\\nvalue = [0, 0, 18, 0, 0, 2, 1, 0, 1, 0]'),\n",
       " Text(0.13518886679920478, 0.4411764705882353, 'gini = 0.0\\nsamples = 18\\nvalue = [0, 0, 18, 0, 0, 0, 0, 0, 0, 0]'),\n",
       " Text(0.14314115308151093, 0.4411764705882353, 'x[32] <= -5.0\\ngini = 0.625\\nsamples = 4\\nvalue = [0, 0, 0, 0, 0, 2, 1, 0, 1, 0]'),\n",
       " Text(0.13916500994035785, 0.38235294117647056, 'x[16] <= -7.032\\ngini = 0.5\\nsamples = 2\\nvalue = [0, 0, 0, 0, 0, 0, 1, 0, 1, 0]'),\n",
       " Text(0.13518886679920478, 0.3235294117647059, 'gini = 0.0\\nsamples = 1\\nvalue = [0, 0, 0, 0, 0, 0, 1, 0, 0, 0]'),\n",
       " Text(0.14314115308151093, 0.3235294117647059, 'gini = 0.0\\nsamples = 1\\nvalue = [0, 0, 0, 0, 0, 0, 0, 0, 1, 0]'),\n",
       " Text(0.147117296222664, 0.38235294117647056, 'gini = 0.0\\nsamples = 2\\nvalue = [0, 0, 0, 0, 0, 2, 0, 0, 0, 0]'),\n",
       " Text(0.1963220675944334, 0.5, 'x[4] <= 1.435\\ngini = 0.828\\nsamples = 67\\nvalue = [8, 3, 13, 1, 4, 20, 0, 4, 7, 7]'),\n",
       " Text(0.16003976143141152, 0.4411764705882353, 'x[23] <= -4.214\\ngini = 0.701\\nsamples = 34\\nvalue = [1, 3, 6, 1, 1, 17, 0, 2, 2, 1]'),\n",
       " Text(0.15606361829025844, 0.38235294117647056, 'gini = 0.0\\nsamples = 4\\nvalue = [0, 0, 4, 0, 0, 0, 0, 0, 0, 0]'),\n",
       " Text(0.16401590457256462, 0.38235294117647056, 'x[9] <= -4.514\\ngini = 0.651\\nsamples = 30\\nvalue = [1, 3, 2, 1, 1, 17, 0, 2, 2, 1]'),\n",
       " Text(0.15109343936381708, 0.3235294117647059, 'x[13] <= -4.996\\ngini = 0.611\\nsamples = 6\\nvalue = [0, 3, 0, 0, 0, 0, 0, 2, 1, 0]'),\n",
       " Text(0.147117296222664, 0.2647058823529412, 'x[35] <= -0.301\\ngini = 0.444\\nsamples = 3\\nvalue = [0, 0, 0, 0, 0, 0, 0, 2, 1, 0]'),\n",
       " Text(0.14314115308151093, 0.20588235294117646, 'gini = 0.0\\nsamples = 1\\nvalue = [0, 0, 0, 0, 0, 0, 0, 0, 1, 0]'),\n",
       " Text(0.15109343936381708, 0.20588235294117646, 'gini = 0.0\\nsamples = 2\\nvalue = [0, 0, 0, 0, 0, 0, 0, 2, 0, 0]'),\n",
       " Text(0.1550695825049702, 0.2647058823529412, 'gini = 0.0\\nsamples = 3\\nvalue = [0, 3, 0, 0, 0, 0, 0, 0, 0, 0]'),\n",
       " Text(0.17693836978131214, 0.3235294117647059, 'x[25] <= 0.226\\ngini = 0.483\\nsamples = 24\\nvalue = [1, 0, 2, 1, 1, 17, 0, 0, 1, 1]'),\n",
       " Text(0.16699801192842942, 0.2647058823529412, 'x[35] <= -3.426\\ngini = 0.331\\nsamples = 21\\nvalue = [0, 0, 2, 1, 1, 17, 0, 0, 0, 0]'),\n",
       " Text(0.15904572564612326, 0.20588235294117646, 'x[36] <= -2.666\\ngini = 0.5\\nsamples = 2\\nvalue = [0, 0, 1, 1, 0, 0, 0, 0, 0, 0]'),\n",
       " Text(0.1550695825049702, 0.14705882352941177, 'gini = 0.0\\nsamples = 1\\nvalue = [0, 0, 0, 1, 0, 0, 0, 0, 0, 0]'),\n",
       " Text(0.16302186878727634, 0.14705882352941177, 'gini = 0.0\\nsamples = 1\\nvalue = [0, 0, 1, 0, 0, 0, 0, 0, 0, 0]'),\n",
       " Text(0.1749502982107356, 0.20588235294117646, 'x[15] <= -9.779\\ngini = 0.194\\nsamples = 19\\nvalue = [0, 0, 1, 0, 1, 17, 0, 0, 0, 0]'),\n",
       " Text(0.1709741550695825, 0.14705882352941177, 'gini = 0.0\\nsamples = 1\\nvalue = [0, 0, 1, 0, 0, 0, 0, 0, 0, 0]'),\n",
       " Text(0.17892644135188868, 0.14705882352941177, 'x[7] <= 14.82\\ngini = 0.105\\nsamples = 18\\nvalue = [0, 0, 0, 0, 1, 17, 0, 0, 0, 0]'),\n",
       " Text(0.1749502982107356, 0.08823529411764706, 'gini = 0.0\\nsamples = 16\\nvalue = [0, 0, 0, 0, 0, 16, 0, 0, 0, 0]'),\n",
       " Text(0.18290258449304175, 0.08823529411764706, 'x[35] <= -3.252\\ngini = 0.5\\nsamples = 2\\nvalue = [0, 0, 0, 0, 1, 1, 0, 0, 0, 0]'),\n",
       " Text(0.17892644135188868, 0.029411764705882353, 'gini = 0.0\\nsamples = 1\\nvalue = [0, 0, 0, 0, 0, 1, 0, 0, 0, 0]'),\n",
       " Text(0.18687872763419483, 0.029411764705882353, 'gini = 0.0\\nsamples = 1\\nvalue = [0, 0, 0, 0, 1, 0, 0, 0, 0, 0]'),\n",
       " Text(0.18687872763419483, 0.2647058823529412, 'x[26] <= 1.155\\ngini = 0.667\\nsamples = 3\\nvalue = [1, 0, 0, 0, 0, 0, 0, 0, 1, 1]'),\n",
       " Text(0.18290258449304175, 0.20588235294117646, 'gini = 0.0\\nsamples = 1\\nvalue = [0, 0, 0, 0, 0, 0, 0, 0, 1, 0]'),\n",
       " Text(0.1908548707753479, 0.20588235294117646, 'x[35] <= 1.823\\ngini = 0.5\\nsamples = 2\\nvalue = [1, 0, 0, 0, 0, 0, 0, 0, 0, 1]'),\n",
       " Text(0.18687872763419483, 0.14705882352941177, 'gini = 0.0\\nsamples = 1\\nvalue = [0, 0, 0, 0, 0, 0, 0, 0, 0, 1]'),\n",
       " Text(0.19483101391650098, 0.14705882352941177, 'gini = 0.0\\nsamples = 1\\nvalue = [1, 0, 0, 0, 0, 0, 0, 0, 0, 0]'),\n",
       " Text(0.23260437375745527, 0.4411764705882353, 'x[9] <= 6.761\\ngini = 0.834\\nsamples = 33\\nvalue = [7, 0, 7, 0, 3, 3, 0, 2, 5, 6]'),\n",
       " Text(0.2286282306163022, 0.38235294117647056, 'x[1] <= 119.078\\ngini = 0.805\\nsamples = 26\\nvalue = [0, 0, 7, 0, 3, 3, 0, 2, 5, 6]'),\n",
       " Text(0.22465208747514911, 0.3235294117647059, 'x[3] <= 32.553\\ngini = 0.803\\nsamples = 21\\nvalue = [0, 0, 2, 0, 3, 3, 0, 2, 5, 6]'),\n",
       " Text(0.2147117296222664, 0.2647058823529412, 'x[38] <= -0.003\\ngini = 0.686\\nsamples = 13\\nvalue = [0, 0, 0, 0, 3, 2, 0, 2, 0, 6]'),\n",
       " Text(0.20675944333996024, 0.20588235294117646, 'x[8] <= -1.731\\ngini = 0.375\\nsamples = 8\\nvalue = [0, 0, 0, 0, 0, 2, 0, 0, 0, 6]'),\n",
       " Text(0.20278330019880716, 0.14705882352941177, 'gini = 0.0\\nsamples = 5\\nvalue = [0, 0, 0, 0, 0, 0, 0, 0, 0, 5]'),\n",
       " Text(0.21073558648111332, 0.14705882352941177, 'x[19] <= -0.039\\ngini = 0.444\\nsamples = 3\\nvalue = [0, 0, 0, 0, 0, 2, 0, 0, 0, 1]'),\n",
       " Text(0.20675944333996024, 0.08823529411764706, 'gini = 0.0\\nsamples = 2\\nvalue = [0, 0, 0, 0, 0, 2, 0, 0, 0, 0]'),\n",
       " Text(0.2147117296222664, 0.08823529411764706, 'gini = 0.0\\nsamples = 1\\nvalue = [0, 0, 0, 0, 0, 0, 0, 0, 0, 1]'),\n",
       " Text(0.22266401590457258, 0.20588235294117646, 'x[37] <= 1.741\\ngini = 0.48\\nsamples = 5\\nvalue = [0, 0, 0, 0, 3, 0, 0, 2, 0, 0]'),\n",
       " Text(0.21868787276341947, 0.14705882352941177, 'gini = 0.0\\nsamples = 3\\nvalue = [0, 0, 0, 0, 3, 0, 0, 0, 0, 0]'),\n",
       " Text(0.22664015904572565, 0.14705882352941177, 'gini = 0.0\\nsamples = 2\\nvalue = [0, 0, 0, 0, 0, 0, 0, 2, 0, 0]'),\n",
       " Text(0.2345924453280318, 0.2647058823529412, 'x[9] <= 3.399\\ngini = 0.531\\nsamples = 8\\nvalue = [0, 0, 2, 0, 0, 1, 0, 0, 5, 0]'),\n",
       " Text(0.23061630218687873, 0.20588235294117646, 'gini = 0.0\\nsamples = 5\\nvalue = [0, 0, 0, 0, 0, 0, 0, 0, 5, 0]'),\n",
       " Text(0.23856858846918488, 0.20588235294117646, 'x[30] <= -5.755\\ngini = 0.444\\nsamples = 3\\nvalue = [0, 0, 2, 0, 0, 1, 0, 0, 0, 0]'),\n",
       " Text(0.2345924453280318, 0.14705882352941177, 'gini = 0.0\\nsamples = 1\\nvalue = [0, 0, 0, 0, 0, 1, 0, 0, 0, 0]'),\n",
       " Text(0.24254473161033796, 0.14705882352941177, 'gini = 0.0\\nsamples = 2\\nvalue = [0, 0, 2, 0, 0, 0, 0, 0, 0, 0]'),\n",
       " Text(0.23260437375745527, 0.3235294117647059, 'gini = 0.0\\nsamples = 5\\nvalue = [0, 0, 5, 0, 0, 0, 0, 0, 0, 0]'),\n",
       " Text(0.23658051689860835, 0.38235294117647056, 'gini = 0.0\\nsamples = 7\\nvalue = [7, 0, 0, 0, 0, 0, 0, 0, 0, 0]'),\n",
       " Text(0.2808151093439364, 0.5588235294117647, 'x[11] <= 5.708\\ngini = 0.799\\nsamples = 70\\nvalue = [11, 0, 6, 8, 5, 8, 0, 0, 25, 7]'),\n",
       " Text(0.2544731610337972, 0.5, 'x[39] <= -3.608\\ngini = 0.712\\nsamples = 21\\nvalue = [10, 0, 2, 1, 0, 3, 0, 0, 3, 2]'),\n",
       " Text(0.2504970178926441, 0.4411764705882353, 'gini = 0.0\\nsamples = 7\\nvalue = [7, 0, 0, 0, 0, 0, 0, 0, 0, 0]'),\n",
       " Text(0.2584493041749503, 0.4411764705882353, 'x[24] <= 1.765\\ngini = 0.816\\nsamples = 14\\nvalue = [3, 0, 2, 1, 0, 3, 0, 0, 3, 2]'),\n",
       " Text(0.2544731610337972, 0.38235294117647056, 'x[32] <= -0.208\\ngini = 0.777\\nsamples = 11\\nvalue = [0, 0, 2, 1, 0, 3, 0, 0, 3, 2]'),\n",
       " Text(0.24652087475149106, 0.3235294117647059, 'x[36] <= -2.308\\ngini = 0.48\\nsamples = 5\\nvalue = [0, 0, 2, 0, 0, 0, 0, 0, 3, 0]'),\n",
       " Text(0.24254473161033796, 0.2647058823529412, 'gini = 0.0\\nsamples = 2\\nvalue = [0, 0, 2, 0, 0, 0, 0, 0, 0, 0]'),\n",
       " Text(0.2504970178926441, 0.2647058823529412, 'gini = 0.0\\nsamples = 3\\nvalue = [0, 0, 0, 0, 0, 0, 0, 0, 3, 0]'),\n",
       " Text(0.2624254473161034, 0.3235294117647059, 'x[22] <= -2.743\\ngini = 0.611\\nsamples = 6\\nvalue = [0, 0, 0, 1, 0, 3, 0, 0, 0, 2]'),\n",
       " Text(0.2584493041749503, 0.2647058823529412, 'x[13] <= 2.568\\ngini = 0.444\\nsamples = 3\\nvalue = [0, 0, 0, 1, 0, 0, 0, 0, 0, 2]'),\n",
       " Text(0.2544731610337972, 0.20588235294117646, 'gini = 0.0\\nsamples = 1\\nvalue = [0, 0, 0, 1, 0, 0, 0, 0, 0, 0]'),\n",
       " Text(0.2624254473161034, 0.20588235294117646, 'gini = 0.0\\nsamples = 2\\nvalue = [0, 0, 0, 0, 0, 0, 0, 0, 0, 2]'),\n",
       " Text(0.2664015904572565, 0.2647058823529412, 'gini = 0.0\\nsamples = 3\\nvalue = [0, 0, 0, 0, 0, 3, 0, 0, 0, 0]'),\n",
       " Text(0.2624254473161034, 0.38235294117647056, 'gini = 0.0\\nsamples = 3\\nvalue = [3, 0, 0, 0, 0, 0, 0, 0, 0, 0]'),\n",
       " Text(0.3071570576540755, 0.5, 'x[0] <= -170.387\\ngini = 0.74\\nsamples = 49\\nvalue = [1, 0, 4, 7, 5, 5, 0, 0, 22, 5]'),\n",
       " Text(0.29025844930417494, 0.4411764705882353, 'x[4] <= -6.542\\ngini = 0.535\\nsamples = 32\\nvalue = [0, 0, 1, 2, 2, 5, 0, 0, 21, 1]'),\n",
       " Text(0.2823061630218688, 0.38235294117647056, 'x[21] <= -1.076\\ngini = 0.593\\nsamples = 9\\nvalue = [0, 0, 0, 2, 0, 5, 0, 0, 2, 0]'),\n",
       " Text(0.2783300198807157, 0.3235294117647059, 'x[1] <= 104.154\\ngini = 0.5\\nsamples = 4\\nvalue = [0, 0, 0, 2, 0, 0, 0, 0, 2, 0]'),\n",
       " Text(0.27435387673956263, 0.2647058823529412, 'gini = 0.0\\nsamples = 2\\nvalue = [0, 0, 0, 2, 0, 0, 0, 0, 0, 0]'),\n",
       " Text(0.2823061630218688, 0.2647058823529412, 'gini = 0.0\\nsamples = 2\\nvalue = [0, 0, 0, 0, 0, 0, 0, 0, 2, 0]'),\n",
       " Text(0.28628230616302186, 0.3235294117647059, 'gini = 0.0\\nsamples = 5\\nvalue = [0, 0, 0, 0, 0, 5, 0, 0, 0, 0]'),\n",
       " Text(0.2982107355864811, 0.38235294117647056, 'x[18] <= 0.782\\ngini = 0.306\\nsamples = 23\\nvalue = [0, 0, 1, 0, 2, 0, 0, 0, 19, 1]'),\n",
       " Text(0.294234592445328, 0.3235294117647059, 'x[12] <= -12.835\\ngini = 0.177\\nsamples = 21\\nvalue = [0, 0, 1, 0, 0, 0, 0, 0, 19, 1]'),\n",
       " Text(0.29025844930417494, 0.2647058823529412, 'gini = 0.0\\nsamples = 1\\nvalue = [0, 0, 0, 0, 0, 0, 0, 0, 0, 1]'),\n",
       " Text(0.2982107355864811, 0.2647058823529412, 'x[29] <= 3.626\\ngini = 0.095\\nsamples = 20\\nvalue = [0, 0, 1, 0, 0, 0, 0, 0, 19, 0]'),\n",
       " Text(0.294234592445328, 0.20588235294117646, 'gini = 0.0\\nsamples = 19\\nvalue = [0, 0, 0, 0, 0, 0, 0, 0, 19, 0]'),\n",
       " Text(0.30218687872763417, 0.20588235294117646, 'gini = 0.0\\nsamples = 1\\nvalue = [0, 0, 1, 0, 0, 0, 0, 0, 0, 0]'),\n",
       " Text(0.30218687872763417, 0.3235294117647059, 'gini = 0.0\\nsamples = 2\\nvalue = [0, 0, 0, 0, 2, 0, 0, 0, 0, 0]'),\n",
       " Text(0.3240556660039761, 0.4411764705882353, 'x[17] <= 0.422\\ngini = 0.789\\nsamples = 17\\nvalue = [1, 0, 3, 5, 3, 0, 0, 0, 1, 4]'),\n",
       " Text(0.31411530815109345, 0.38235294117647056, 'x[36] <= -3.451\\ngini = 0.32\\nsamples = 5\\nvalue = [0, 0, 1, 0, 0, 0, 0, 0, 0, 4]'),\n",
       " Text(0.3101391650099404, 0.3235294117647059, 'gini = 0.0\\nsamples = 1\\nvalue = [0, 0, 1, 0, 0, 0, 0, 0, 0, 0]'),\n",
       " Text(0.31809145129224653, 0.3235294117647059, 'gini = 0.0\\nsamples = 4\\nvalue = [0, 0, 0, 0, 0, 0, 0, 0, 0, 4]'),\n",
       " Text(0.33399602385685884, 0.38235294117647056, 'x[12] <= -6.028\\ngini = 0.722\\nsamples = 12\\nvalue = [1, 0, 2, 5, 3, 0, 0, 0, 1, 0]'),\n",
       " Text(0.3260437375745527, 0.3235294117647059, 'x[19] <= -2.254\\ngini = 0.449\\nsamples = 7\\nvalue = [1, 0, 0, 5, 0, 0, 0, 0, 1, 0]'),\n",
       " Text(0.3220675944333996, 0.2647058823529412, 'x[34] <= -2.789\\ngini = 0.5\\nsamples = 2\\nvalue = [1, 0, 0, 0, 0, 0, 0, 0, 1, 0]'),\n",
       " Text(0.31809145129224653, 0.20588235294117646, 'gini = 0.0\\nsamples = 1\\nvalue = [1, 0, 0, 0, 0, 0, 0, 0, 0, 0]'),\n",
       " Text(0.3260437375745527, 0.20588235294117646, 'gini = 0.0\\nsamples = 1\\nvalue = [0, 0, 0, 0, 0, 0, 0, 0, 1, 0]'),\n",
       " Text(0.33001988071570576, 0.2647058823529412, 'gini = 0.0\\nsamples = 5\\nvalue = [0, 0, 0, 5, 0, 0, 0, 0, 0, 0]'),\n",
       " Text(0.341948310139165, 0.3235294117647059, 'x[11] <= 11.375\\ngini = 0.48\\nsamples = 5\\nvalue = [0, 0, 2, 0, 3, 0, 0, 0, 0, 0]'),\n",
       " Text(0.3379721669980119, 0.2647058823529412, 'gini = 0.0\\nsamples = 2\\nvalue = [0, 0, 2, 0, 0, 0, 0, 0, 0, 0]'),\n",
       " Text(0.34592445328031807, 0.2647058823529412, 'gini = 0.0\\nsamples = 3\\nvalue = [0, 0, 0, 0, 3, 0, 0, 0, 0, 0]'),\n",
       " Text(0.47080019880715707, 0.7352941176470589, 'x[2] <= -32.247\\ngini = 0.852\\nsamples = 228\\nvalue = [16, 6, 22, 53, 39, 9, 19, 11, 9, 44]'),\n",
       " Text(0.3757455268389662, 0.6764705882352942, 'x[15] <= 6.663\\ngini = 0.722\\nsamples = 42\\nvalue = [2, 3, 0, 4, 3, 0, 14, 0, 0, 16]'),\n",
       " Text(0.3717693836978131, 0.6176470588235294, 'x[10] <= -8.365\\ngini = 0.715\\nsamples = 34\\nvalue = [2, 3, 0, 4, 3, 0, 6, 0, 0, 16]'),\n",
       " Text(0.35785288270377735, 0.5588235294117647, 'x[19] <= -0.015\\ngini = 0.556\\nsamples = 26\\nvalue = [2, 0, 0, 2, 0, 0, 6, 0, 0, 16]'),\n",
       " Text(0.3499005964214712, 0.5, 'x[16] <= -13.195\\ngini = 0.231\\nsamples = 15\\nvalue = [0, 0, 0, 0, 0, 0, 2, 0, 0, 13]'),\n",
       " Text(0.34592445328031807, 0.4411764705882353, 'x[0] <= -69.018\\ngini = 0.444\\nsamples = 3\\nvalue = [0, 0, 0, 0, 0, 0, 2, 0, 0, 1]'),\n",
       " Text(0.341948310139165, 0.38235294117647056, 'gini = 0.0\\nsamples = 1\\nvalue = [0, 0, 0, 0, 0, 0, 0, 0, 0, 1]'),\n",
       " Text(0.3499005964214712, 0.38235294117647056, 'gini = 0.0\\nsamples = 2\\nvalue = [0, 0, 0, 0, 0, 0, 2, 0, 0, 0]'),\n",
       " Text(0.3538767395626243, 0.4411764705882353, 'gini = 0.0\\nsamples = 12\\nvalue = [0, 0, 0, 0, 0, 0, 0, 0, 0, 12]'),\n",
       " Text(0.3658051689860835, 0.5, 'x[18] <= -1.85\\ngini = 0.727\\nsamples = 11\\nvalue = [2, 0, 0, 2, 0, 0, 4, 0, 0, 3]'),\n",
       " Text(0.36182902584493043, 0.4411764705882353, 'x[7] <= 19.075\\ngini = 0.625\\nsamples = 8\\nvalue = [2, 0, 0, 2, 0, 0, 4, 0, 0, 0]'),\n",
       " Text(0.35785288270377735, 0.38235294117647056, 'x[37] <= -3.194\\ngini = 0.5\\nsamples = 4\\nvalue = [2, 0, 0, 2, 0, 0, 0, 0, 0, 0]'),\n",
       " Text(0.3538767395626243, 0.3235294117647059, 'gini = 0.0\\nsamples = 2\\nvalue = [2, 0, 0, 0, 0, 0, 0, 0, 0, 0]'),\n",
       " Text(0.36182902584493043, 0.3235294117647059, 'gini = 0.0\\nsamples = 2\\nvalue = [0, 0, 0, 2, 0, 0, 0, 0, 0, 0]'),\n",
       " Text(0.3658051689860835, 0.38235294117647056, 'gini = 0.0\\nsamples = 4\\nvalue = [0, 0, 0, 0, 0, 0, 4, 0, 0, 0]'),\n",
       " Text(0.3697813121272366, 0.4411764705882353, 'gini = 0.0\\nsamples = 3\\nvalue = [0, 0, 0, 0, 0, 0, 0, 0, 0, 3]'),\n",
       " Text(0.3856858846918489, 0.5588235294117647, 'x[33] <= 0.196\\ngini = 0.656\\nsamples = 8\\nvalue = [0, 3, 0, 2, 3, 0, 0, 0, 0, 0]'),\n",
       " Text(0.3817097415506958, 0.5, 'x[22] <= -2.313\\ngini = 0.48\\nsamples = 5\\nvalue = [0, 0, 0, 2, 3, 0, 0, 0, 0, 0]'),\n",
       " Text(0.37773359840954274, 0.4411764705882353, 'gini = 0.0\\nsamples = 2\\nvalue = [0, 0, 0, 2, 0, 0, 0, 0, 0, 0]'),\n",
       " Text(0.3856858846918489, 0.4411764705882353, 'gini = 0.0\\nsamples = 3\\nvalue = [0, 0, 0, 0, 3, 0, 0, 0, 0, 0]'),\n",
       " Text(0.38966202783300197, 0.5, 'gini = 0.0\\nsamples = 3\\nvalue = [0, 3, 0, 0, 0, 0, 0, 0, 0, 0]'),\n",
       " Text(0.3797216699801193, 0.6176470588235294, 'gini = 0.0\\nsamples = 8\\nvalue = [0, 0, 0, 0, 0, 0, 8, 0, 0, 0]'),\n",
       " Text(0.5658548707753479, 0.6764705882352942, 'x[22] <= -0.689\\ngini = 0.842\\nsamples = 186\\nvalue = [14, 3, 22, 49, 36, 9, 5, 11, 9, 28]'),\n",
       " Text(0.4875745526838966, 0.6176470588235294, 'x[19] <= -0.998\\ngini = 0.826\\nsamples = 145\\nvalue = [13, 2, 20, 45, 19, 7, 5, 3, 7, 24]'),\n",
       " Text(0.4294234592445328, 0.5588235294117647, 'x[3] <= 19.535\\ngini = 0.843\\nsamples = 77\\nvalue = [6, 1, 17, 14, 10, 4, 1, 3, 5, 16]'),\n",
       " Text(0.40159045725646125, 0.5, 'x[31] <= -0.318\\ngini = 0.685\\nsamples = 20\\nvalue = [0, 1, 1, 10, 0, 0, 0, 2, 2, 4]'),\n",
       " Text(0.39363817097415504, 0.4411764705882353, 'x[33] <= 1.008\\ngini = 0.596\\nsamples = 15\\nvalue = [0, 1, 1, 9, 0, 0, 0, 2, 2, 0]'),\n",
       " Text(0.38966202783300197, 0.38235294117647056, 'x[30] <= -0.214\\ngini = 0.485\\nsamples = 13\\nvalue = [0, 1, 1, 9, 0, 0, 0, 0, 2, 0]'),\n",
       " Text(0.3817097415506958, 0.3235294117647059, 'x[19] <= -1.227\\ngini = 0.198\\nsamples = 9\\nvalue = [0, 0, 1, 8, 0, 0, 0, 0, 0, 0]'),\n",
       " Text(0.37773359840954274, 0.2647058823529412, 'gini = 0.0\\nsamples = 8\\nvalue = [0, 0, 0, 8, 0, 0, 0, 0, 0, 0]'),\n",
       " Text(0.3856858846918489, 0.2647058823529412, 'gini = 0.0\\nsamples = 1\\nvalue = [0, 0, 1, 0, 0, 0, 0, 0, 0, 0]'),\n",
       " Text(0.3976143141153082, 0.3235294117647059, 'x[19] <= -2.687\\ngini = 0.625\\nsamples = 4\\nvalue = [0, 1, 0, 1, 0, 0, 0, 0, 2, 0]'),\n",
       " Text(0.39363817097415504, 0.2647058823529412, 'x[32] <= -0.733\\ngini = 0.5\\nsamples = 2\\nvalue = [0, 1, 0, 1, 0, 0, 0, 0, 0, 0]'),\n",
       " Text(0.38966202783300197, 0.20588235294117646, 'gini = 0.0\\nsamples = 1\\nvalue = [0, 1, 0, 0, 0, 0, 0, 0, 0, 0]'),\n",
       " Text(0.3976143141153082, 0.20588235294117646, 'gini = 0.0\\nsamples = 1\\nvalue = [0, 0, 0, 1, 0, 0, 0, 0, 0, 0]'),\n",
       " Text(0.40159045725646125, 0.2647058823529412, 'gini = 0.0\\nsamples = 2\\nvalue = [0, 0, 0, 0, 0, 0, 0, 0, 2, 0]'),\n",
       " Text(0.3976143141153082, 0.38235294117647056, 'gini = 0.0\\nsamples = 2\\nvalue = [0, 0, 0, 0, 0, 0, 0, 2, 0, 0]'),\n",
       " Text(0.4095427435387674, 0.4411764705882353, 'x[18] <= -1.641\\ngini = 0.32\\nsamples = 5\\nvalue = [0, 0, 0, 1, 0, 0, 0, 0, 0, 4]'),\n",
       " Text(0.40556660039761433, 0.38235294117647056, 'gini = 0.0\\nsamples = 4\\nvalue = [0, 0, 0, 0, 0, 0, 0, 0, 0, 4]'),\n",
       " Text(0.4135188866799205, 0.38235294117647056, 'gini = 0.0\\nsamples = 1\\nvalue = [0, 0, 0, 1, 0, 0, 0, 0, 0, 0]'),\n",
       " Text(0.4572564612326044, 0.5, 'x[20] <= -7.969\\ngini = 0.822\\nsamples = 57\\nvalue = [6, 0, 16, 4, 10, 4, 1, 1, 3, 12]'),\n",
       " Text(0.4532803180914513, 0.4411764705882353, 'gini = 0.0\\nsamples = 6\\nvalue = [0, 0, 6, 0, 0, 0, 0, 0, 0, 0]'),\n",
       " Text(0.46123260437375746, 0.4411764705882353, 'x[2] <= 0.308\\ngini = 0.837\\nsamples = 51\\nvalue = [6, 0, 10, 4, 10, 4, 1, 1, 3, 12]'),\n",
       " Text(0.43737574552683894, 0.38235294117647056, 'x[33] <= -1.974\\ngini = 0.804\\nsamples = 37\\nvalue = [6, 0, 8, 3, 3, 2, 1, 1, 1, 12]'),\n",
       " Text(0.41749502982107356, 0.3235294117647059, 'x[2] <= -10.705\\ngini = 0.604\\nsamples = 15\\nvalue = [0, 0, 1, 0, 1, 2, 0, 1, 1, 9]'),\n",
       " Text(0.4095427435387674, 0.2647058823529412, 'x[14] <= 1.714\\ngini = 0.18\\nsamples = 10\\nvalue = [0, 0, 0, 0, 0, 0, 0, 0, 1, 9]'),\n",
       " Text(0.40556660039761433, 0.20588235294117646, 'gini = 0.0\\nsamples = 9\\nvalue = [0, 0, 0, 0, 0, 0, 0, 0, 0, 9]'),\n",
       " Text(0.4135188866799205, 0.20588235294117646, 'gini = 0.0\\nsamples = 1\\nvalue = [0, 0, 0, 0, 0, 0, 0, 0, 1, 0]'),\n",
       " Text(0.4254473161033797, 0.2647058823529412, 'x[11] <= -0.359\\ngini = 0.72\\nsamples = 5\\nvalue = [0, 0, 1, 0, 1, 2, 0, 1, 0, 0]'),\n",
       " Text(0.42147117296222664, 0.20588235294117646, 'gini = 0.0\\nsamples = 2\\nvalue = [0, 0, 0, 0, 0, 2, 0, 0, 0, 0]'),\n",
       " Text(0.4294234592445328, 0.20588235294117646, 'x[12] <= -10.067\\ngini = 0.667\\nsamples = 3\\nvalue = [0, 0, 1, 0, 1, 0, 0, 1, 0, 0]'),\n",
       " Text(0.4254473161033797, 0.14705882352941177, 'gini = 0.0\\nsamples = 1\\nvalue = [0, 0, 1, 0, 0, 0, 0, 0, 0, 0]'),\n",
       " Text(0.43339960238568587, 0.14705882352941177, 'x[26] <= -0.876\\ngini = 0.5\\nsamples = 2\\nvalue = [0, 0, 0, 0, 1, 0, 0, 1, 0, 0]'),\n",
       " Text(0.4294234592445328, 0.08823529411764706, 'gini = 0.0\\nsamples = 1\\nvalue = [0, 0, 0, 0, 1, 0, 0, 0, 0, 0]'),\n",
       " Text(0.43737574552683894, 0.08823529411764706, 'gini = 0.0\\nsamples = 1\\nvalue = [0, 0, 0, 0, 0, 0, 0, 1, 0, 0]'),\n",
       " Text(0.4572564612326044, 0.3235294117647059, 'x[6] <= -13.175\\ngini = 0.777\\nsamples = 22\\nvalue = [6, 0, 7, 3, 2, 0, 1, 0, 0, 3]'),\n",
       " Text(0.44930417495029823, 0.2647058823529412, 'x[3] <= 49.773\\ngini = 0.58\\nsamples = 10\\nvalue = [6, 0, 2, 0, 1, 0, 1, 0, 0, 0]'),\n",
       " Text(0.44532803180914515, 0.20588235294117646, 'x[24] <= -0.243\\ngini = 0.406\\nsamples = 8\\nvalue = [6, 0, 0, 0, 1, 0, 1, 0, 0, 0]'),\n",
       " Text(0.441351888667992, 0.14705882352941177, 'gini = 0.0\\nsamples = 6\\nvalue = [6, 0, 0, 0, 0, 0, 0, 0, 0, 0]'),\n",
       " Text(0.44930417495029823, 0.14705882352941177, 'x[18] <= -5.891\\ngini = 0.5\\nsamples = 2\\nvalue = [0, 0, 0, 0, 1, 0, 1, 0, 0, 0]'),\n",
       " Text(0.44532803180914515, 0.08823529411764706, 'gini = 0.0\\nsamples = 1\\nvalue = [0, 0, 0, 0, 0, 0, 1, 0, 0, 0]'),\n",
       " Text(0.4532803180914513, 0.08823529411764706, 'gini = 0.0\\nsamples = 1\\nvalue = [0, 0, 0, 0, 1, 0, 0, 0, 0, 0]'),\n",
       " Text(0.4532803180914513, 0.20588235294117646, 'gini = 0.0\\nsamples = 2\\nvalue = [0, 0, 2, 0, 0, 0, 0, 0, 0, 0]'),\n",
       " Text(0.46520874751491054, 0.2647058823529412, 'x[24] <= -3.982\\ngini = 0.694\\nsamples = 12\\nvalue = [0, 0, 5, 3, 1, 0, 0, 0, 0, 3]'),\n",
       " Text(0.46123260437375746, 0.20588235294117646, 'gini = 0.0\\nsamples = 3\\nvalue = [0, 0, 0, 0, 0, 0, 0, 0, 0, 3]'),\n",
       " Text(0.4691848906560636, 0.20588235294117646, 'x[23] <= -1.493\\ngini = 0.568\\nsamples = 9\\nvalue = [0, 0, 5, 3, 1, 0, 0, 0, 0, 0]'),\n",
       " Text(0.46520874751491054, 0.14705882352941177, 'gini = 0.0\\nsamples = 5\\nvalue = [0, 0, 5, 0, 0, 0, 0, 0, 0, 0]'),\n",
       " Text(0.4731610337972167, 0.14705882352941177, 'x[5] <= 9.145\\ngini = 0.375\\nsamples = 4\\nvalue = [0, 0, 0, 3, 1, 0, 0, 0, 0, 0]'),\n",
       " Text(0.4691848906560636, 0.08823529411764706, 'gini = 0.0\\nsamples = 1\\nvalue = [0, 0, 0, 0, 1, 0, 0, 0, 0, 0]'),\n",
       " Text(0.47713717693836977, 0.08823529411764706, 'gini = 0.0\\nsamples = 3\\nvalue = [0, 0, 0, 3, 0, 0, 0, 0, 0, 0]'),\n",
       " Text(0.4850894632206759, 0.38235294117647056, 'x[35] <= -2.708\\ngini = 0.684\\nsamples = 14\\nvalue = [0, 0, 2, 1, 7, 2, 0, 0, 2, 0]'),\n",
       " Text(0.47713717693836977, 0.3235294117647059, 'x[0] <= -53.628\\ngini = 0.5\\nsamples = 4\\nvalue = [0, 0, 2, 0, 0, 2, 0, 0, 0, 0]'),\n",
       " Text(0.4731610337972167, 0.2647058823529412, 'gini = 0.0\\nsamples = 2\\nvalue = [0, 0, 0, 0, 0, 2, 0, 0, 0, 0]'),\n",
       " Text(0.48111332007952284, 0.2647058823529412, 'gini = 0.0\\nsamples = 2\\nvalue = [0, 0, 2, 0, 0, 0, 0, 0, 0, 0]'),\n",
       " Text(0.49304174950298213, 0.3235294117647059, 'x[22] <= -2.475\\ngini = 0.46\\nsamples = 10\\nvalue = [0, 0, 0, 1, 7, 0, 0, 0, 2, 0]'),\n",
       " Text(0.48906560636182905, 0.2647058823529412, 'x[0] <= -117.002\\ngini = 0.219\\nsamples = 8\\nvalue = [0, 0, 0, 1, 7, 0, 0, 0, 0, 0]'),\n",
       " Text(0.4850894632206759, 0.20588235294117646, 'gini = 0.0\\nsamples = 1\\nvalue = [0, 0, 0, 1, 0, 0, 0, 0, 0, 0]'),\n",
       " Text(0.49304174950298213, 0.20588235294117646, 'gini = 0.0\\nsamples = 7\\nvalue = [0, 0, 0, 0, 7, 0, 0, 0, 0, 0]'),\n",
       " Text(0.4970178926441352, 0.2647058823529412, 'gini = 0.0\\nsamples = 2\\nvalue = [0, 0, 0, 0, 0, 0, 0, 0, 2, 0]'),\n",
       " Text(0.5457256461232605, 0.5588235294117647, 'x[3] <= 45.52\\ngini = 0.742\\nsamples = 68\\nvalue = [7, 1, 3, 31, 9, 3, 4, 0, 2, 8]'),\n",
       " Text(0.5168986083499006, 0.5, 'x[32] <= -0.791\\ngini = 0.548\\nsamples = 44\\nvalue = [3, 1, 2, 29, 2, 3, 0, 0, 2, 2]'),\n",
       " Text(0.5089463220675944, 0.4411764705882353, 'x[18] <= 2.171\\ngini = 0.198\\nsamples = 27\\nvalue = [0, 0, 0, 24, 0, 3, 0, 0, 0, 0]'),\n",
       " Text(0.5049701789264414, 0.38235294117647056, 'x[37] <= 1.381\\ngini = 0.077\\nsamples = 25\\nvalue = [0, 0, 0, 24, 0, 1, 0, 0, 0, 0]'),\n",
       " Text(0.5009940357852882, 0.3235294117647059, 'gini = 0.0\\nsamples = 24\\nvalue = [0, 0, 0, 24, 0, 0, 0, 0, 0, 0]'),\n",
       " Text(0.5089463220675944, 0.3235294117647059, 'gini = 0.0\\nsamples = 1\\nvalue = [0, 0, 0, 0, 0, 1, 0, 0, 0, 0]'),\n",
       " Text(0.5129224652087475, 0.38235294117647056, 'gini = 0.0\\nsamples = 2\\nvalue = [0, 0, 0, 0, 0, 2, 0, 0, 0, 0]'),\n",
       " Text(0.5248508946322068, 0.4411764705882353, 'x[31] <= -3.515\\ngini = 0.824\\nsamples = 17\\nvalue = [3, 1, 2, 5, 2, 0, 0, 0, 2, 2]'),\n",
       " Text(0.5208747514910537, 0.38235294117647056, 'gini = 0.0\\nsamples = 4\\nvalue = [0, 0, 0, 4, 0, 0, 0, 0, 0, 0]'),\n",
       " Text(0.5288270377733598, 0.38235294117647056, 'x[1] <= 85.792\\ngini = 0.84\\nsamples = 13\\nvalue = [3, 1, 2, 1, 2, 0, 0, 0, 2, 2]'),\n",
       " Text(0.5208747514910537, 0.3235294117647059, 'x[30] <= -2.183\\ngini = 0.5\\nsamples = 4\\nvalue = [0, 0, 0, 0, 2, 0, 0, 0, 0, 2]'),\n",
       " Text(0.5168986083499006, 0.2647058823529412, 'gini = 0.0\\nsamples = 2\\nvalue = [0, 0, 0, 0, 0, 0, 0, 0, 0, 2]'),\n",
       " Text(0.5248508946322068, 0.2647058823529412, 'gini = 0.0\\nsamples = 2\\nvalue = [0, 0, 0, 0, 2, 0, 0, 0, 0, 0]'),\n",
       " Text(0.536779324055666, 0.3235294117647059, 'x[39] <= -1.116\\ngini = 0.765\\nsamples = 9\\nvalue = [3, 1, 2, 1, 0, 0, 0, 0, 2, 0]'),\n",
       " Text(0.532803180914513, 0.2647058823529412, 'gini = 0.0\\nsamples = 3\\nvalue = [3, 0, 0, 0, 0, 0, 0, 0, 0, 0]'),\n",
       " Text(0.5407554671968191, 0.2647058823529412, 'x[34] <= -0.451\\ngini = 0.722\\nsamples = 6\\nvalue = [0, 1, 2, 1, 0, 0, 0, 0, 2, 0]'),\n",
       " Text(0.536779324055666, 0.20588235294117646, 'x[26] <= -2.148\\ngini = 0.625\\nsamples = 4\\nvalue = [0, 1, 2, 1, 0, 0, 0, 0, 0, 0]'),\n",
       " Text(0.532803180914513, 0.14705882352941177, 'x[28] <= -1.619\\ngini = 0.5\\nsamples = 2\\nvalue = [0, 1, 0, 1, 0, 0, 0, 0, 0, 0]'),\n",
       " Text(0.5288270377733598, 0.08823529411764706, 'gini = 0.0\\nsamples = 1\\nvalue = [0, 0, 0, 1, 0, 0, 0, 0, 0, 0]'),\n",
       " Text(0.536779324055666, 0.08823529411764706, 'gini = 0.0\\nsamples = 1\\nvalue = [0, 1, 0, 0, 0, 0, 0, 0, 0, 0]'),\n",
       " Text(0.5407554671968191, 0.14705882352941177, 'gini = 0.0\\nsamples = 2\\nvalue = [0, 0, 2, 0, 0, 0, 0, 0, 0, 0]'),\n",
       " Text(0.5447316103379721, 0.20588235294117646, 'gini = 0.0\\nsamples = 2\\nvalue = [0, 0, 0, 0, 0, 0, 0, 0, 2, 0]'),\n",
       " Text(0.5745526838966203, 0.5, 'x[18] <= -1.978\\ngini = 0.788\\nsamples = 24\\nvalue = [4, 0, 1, 2, 7, 0, 4, 0, 0, 6]'),\n",
       " Text(0.5646123260437376, 0.4411764705882353, 'x[34] <= -0.037\\ngini = 0.72\\nsamples = 15\\nvalue = [4, 0, 1, 1, 0, 0, 3, 0, 0, 6]'),\n",
       " Text(0.5606361829025845, 0.38235294117647056, 'x[28] <= -2.818\\ngini = 0.667\\nsamples = 9\\nvalue = [4, 0, 1, 1, 0, 0, 3, 0, 0, 0]'),\n",
       " Text(0.5526838966202783, 0.3235294117647059, 'x[30] <= -1.508\\ngini = 0.375\\nsamples = 4\\nvalue = [0, 0, 1, 0, 0, 0, 3, 0, 0, 0]'),\n",
       " Text(0.5487077534791253, 0.2647058823529412, 'gini = 0.0\\nsamples = 3\\nvalue = [0, 0, 0, 0, 0, 0, 3, 0, 0, 0]'),\n",
       " Text(0.5566600397614314, 0.2647058823529412, 'gini = 0.0\\nsamples = 1\\nvalue = [0, 0, 1, 0, 0, 0, 0, 0, 0, 0]'),\n",
       " Text(0.5685884691848907, 0.3235294117647059, 'x[2] <= -6.557\\ngini = 0.32\\nsamples = 5\\nvalue = [4, 0, 0, 1, 0, 0, 0, 0, 0, 0]'),\n",
       " Text(0.5646123260437376, 0.2647058823529412, 'gini = 0.0\\nsamples = 4\\nvalue = [4, 0, 0, 0, 0, 0, 0, 0, 0, 0]'),\n",
       " Text(0.5725646123260437, 0.2647058823529412, 'gini = 0.0\\nsamples = 1\\nvalue = [0, 0, 0, 1, 0, 0, 0, 0, 0, 0]'),\n",
       " Text(0.5685884691848907, 0.38235294117647056, 'gini = 0.0\\nsamples = 6\\nvalue = [0, 0, 0, 0, 0, 0, 0, 0, 0, 6]'),\n",
       " Text(0.584493041749503, 0.4411764705882353, 'x[16] <= -6.017\\ngini = 0.37\\nsamples = 9\\nvalue = [0, 0, 0, 1, 7, 0, 1, 0, 0, 0]'),\n",
       " Text(0.5805168986083499, 0.38235294117647056, 'x[3] <= 51.976\\ngini = 0.5\\nsamples = 2\\nvalue = [0, 0, 0, 1, 0, 0, 1, 0, 0, 0]'),\n",
       " Text(0.5765407554671969, 0.3235294117647059, 'gini = 0.0\\nsamples = 1\\nvalue = [0, 0, 0, 1, 0, 0, 0, 0, 0, 0]'),\n",
       " Text(0.584493041749503, 0.3235294117647059, 'gini = 0.0\\nsamples = 1\\nvalue = [0, 0, 0, 0, 0, 0, 1, 0, 0, 0]'),\n",
       " Text(0.588469184890656, 0.38235294117647056, 'gini = 0.0\\nsamples = 7\\nvalue = [0, 0, 0, 0, 7, 0, 0, 0, 0, 0]'),\n",
       " Text(0.6441351888667992, 0.6176470588235294, 'x[18] <= 2.416\\ngini = 0.763\\nsamples = 41\\nvalue = [1, 1, 2, 4, 17, 2, 0, 8, 2, 4]'),\n",
       " Text(0.6242544731610338, 0.5588235294117647, 'x[27] <= -1.247\\ngini = 0.698\\nsamples = 33\\nvalue = [1, 1, 2, 3, 17, 2, 0, 2, 1, 4]'),\n",
       " Text(0.6083499005964215, 0.5, 'x[0] <= -95.886\\ngini = 0.744\\nsamples = 11\\nvalue = [0, 1, 0, 3, 2, 1, 0, 0, 0, 4]'),\n",
       " Text(0.6003976143141153, 0.4411764705882353, 'x[2] <= -14.858\\ngini = 0.375\\nsamples = 4\\nvalue = [0, 0, 0, 3, 0, 1, 0, 0, 0, 0]'),\n",
       " Text(0.5964214711729622, 0.38235294117647056, 'gini = 0.0\\nsamples = 3\\nvalue = [0, 0, 0, 3, 0, 0, 0, 0, 0, 0]'),\n",
       " Text(0.6043737574552683, 0.38235294117647056, 'gini = 0.0\\nsamples = 1\\nvalue = [0, 0, 0, 0, 0, 1, 0, 0, 0, 0]'),\n",
       " Text(0.6163021868787276, 0.4411764705882353, 'x[39] <= -3.313\\ngini = 0.571\\nsamples = 7\\nvalue = [0, 1, 0, 0, 2, 0, 0, 0, 0, 4]'),\n",
       " Text(0.6123260437375746, 0.38235294117647056, 'x[12] <= -5.027\\ngini = 0.444\\nsamples = 3\\nvalue = [0, 1, 0, 0, 2, 0, 0, 0, 0, 0]'),\n",
       " Text(0.6083499005964215, 0.3235294117647059, 'gini = 0.0\\nsamples = 2\\nvalue = [0, 0, 0, 0, 2, 0, 0, 0, 0, 0]'),\n",
       " Text(0.6163021868787276, 0.3235294117647059, 'gini = 0.0\\nsamples = 1\\nvalue = [0, 1, 0, 0, 0, 0, 0, 0, 0, 0]'),\n",
       " Text(0.6202783300198808, 0.38235294117647056, 'gini = 0.0\\nsamples = 4\\nvalue = [0, 0, 0, 0, 0, 0, 0, 0, 0, 4]'),\n",
       " Text(0.6401590457256461, 0.5, 'x[22] <= 2.417\\ngini = 0.512\\nsamples = 22\\nvalue = [1, 0, 2, 0, 15, 1, 0, 2, 1, 0]'),\n",
       " Text(0.6322067594433399, 0.4411764705882353, 'x[34] <= -3.313\\ngini = 0.296\\nsamples = 18\\nvalue = [1, 0, 1, 0, 15, 1, 0, 0, 0, 0]'),\n",
       " Text(0.6282306163021869, 0.38235294117647056, 'x[21] <= 1.637\\ngini = 0.667\\nsamples = 3\\nvalue = [1, 0, 1, 0, 0, 1, 0, 0, 0, 0]'),\n",
       " Text(0.6242544731610338, 0.3235294117647059, 'gini = 0.0\\nsamples = 1\\nvalue = [0, 0, 1, 0, 0, 0, 0, 0, 0, 0]'),\n",
       " Text(0.6322067594433399, 0.3235294117647059, 'x[36] <= -2.701\\ngini = 0.5\\nsamples = 2\\nvalue = [1, 0, 0, 0, 0, 1, 0, 0, 0, 0]'),\n",
       " Text(0.6282306163021869, 0.2647058823529412, 'gini = 0.0\\nsamples = 1\\nvalue = [0, 0, 0, 0, 0, 1, 0, 0, 0, 0]'),\n",
       " Text(0.6361829025844931, 0.2647058823529412, 'gini = 0.0\\nsamples = 1\\nvalue = [1, 0, 0, 0, 0, 0, 0, 0, 0, 0]'),\n",
       " Text(0.6361829025844931, 0.38235294117647056, 'gini = 0.0\\nsamples = 15\\nvalue = [0, 0, 0, 0, 15, 0, 0, 0, 0, 0]'),\n",
       " Text(0.6481113320079522, 0.4411764705882353, 'x[39] <= -2.218\\ngini = 0.625\\nsamples = 4\\nvalue = [0, 0, 1, 0, 0, 0, 0, 2, 1, 0]'),\n",
       " Text(0.6441351888667992, 0.38235294117647056, 'x[21] <= 1.798\\ngini = 0.5\\nsamples = 2\\nvalue = [0, 0, 1, 0, 0, 0, 0, 0, 1, 0]'),\n",
       " Text(0.6401590457256461, 0.3235294117647059, 'gini = 0.0\\nsamples = 1\\nvalue = [0, 0, 1, 0, 0, 0, 0, 0, 0, 0]'),\n",
       " Text(0.6481113320079522, 0.3235294117647059, 'gini = 0.0\\nsamples = 1\\nvalue = [0, 0, 0, 0, 0, 0, 0, 0, 1, 0]'),\n",
       " Text(0.6520874751491054, 0.38235294117647056, 'gini = 0.0\\nsamples = 2\\nvalue = [0, 0, 0, 0, 0, 0, 0, 2, 0, 0]'),\n",
       " Text(0.6640159045725647, 0.5588235294117647, 'x[35] <= -1.753\\ngini = 0.406\\nsamples = 8\\nvalue = [0, 0, 0, 1, 0, 0, 0, 6, 1, 0]'),\n",
       " Text(0.6600397614314115, 0.5, 'x[10] <= -3.709\\ngini = 0.5\\nsamples = 2\\nvalue = [0, 0, 0, 1, 0, 0, 0, 0, 1, 0]'),\n",
       " Text(0.6560636182902585, 0.4411764705882353, 'gini = 0.0\\nsamples = 1\\nvalue = [0, 0, 0, 1, 0, 0, 0, 0, 0, 0]'),\n",
       " Text(0.6640159045725647, 0.4411764705882353, 'gini = 0.0\\nsamples = 1\\nvalue = [0, 0, 0, 0, 0, 0, 0, 0, 1, 0]'),\n",
       " Text(0.6679920477137177, 0.5, 'gini = 0.0\\nsamples = 6\\nvalue = [0, 0, 0, 0, 0, 0, 0, 6, 0, 0]'),\n",
       " Text(0.7492544731610338, 0.7941176470588235, 'x[20] <= -3.297\\ngini = 0.687\\nsamples = 118\\nvalue = [25, 0, 4, 4, 10, 2, 59, 0, 4, 10]'),\n",
       " Text(0.7117296222664016, 0.7352941176470589, 'x[11] <= 8.404\\ngini = 0.441\\nsamples = 72\\nvalue = [4, 0, 2, 1, 4, 0, 53, 0, 1, 7]'),\n",
       " Text(0.6918489065606361, 0.6764705882352942, 'x[0] <= -149.673\\ngini = 0.827\\nsamples = 15\\nvalue = [2, 0, 2, 1, 2, 0, 3, 0, 1, 4]'),\n",
       " Text(0.68389662027833, 0.6176470588235294, 'x[0] <= -206.723\\ngini = 0.5\\nsamples = 6\\nvalue = [0, 0, 1, 1, 0, 0, 0, 0, 0, 4]'),\n",
       " Text(0.679920477137177, 0.5588235294117647, 'x[22] <= -1.992\\ngini = 0.5\\nsamples = 2\\nvalue = [0, 0, 1, 1, 0, 0, 0, 0, 0, 0]'),\n",
       " Text(0.6759443339960238, 0.5, 'gini = 0.0\\nsamples = 1\\nvalue = [0, 0, 1, 0, 0, 0, 0, 0, 0, 0]'),\n",
       " Text(0.68389662027833, 0.5, 'gini = 0.0\\nsamples = 1\\nvalue = [0, 0, 0, 1, 0, 0, 0, 0, 0, 0]'),\n",
       " Text(0.6878727634194831, 0.5588235294117647, 'gini = 0.0\\nsamples = 4\\nvalue = [0, 0, 0, 0, 0, 0, 0, 0, 0, 4]'),\n",
       " Text(0.6998011928429424, 0.6176470588235294, 'x[19] <= -3.788\\ngini = 0.765\\nsamples = 9\\nvalue = [2, 0, 1, 0, 2, 0, 3, 0, 1, 0]'),\n",
       " Text(0.6958250497017893, 0.5588235294117647, 'gini = 0.0\\nsamples = 3\\nvalue = [0, 0, 0, 0, 0, 0, 3, 0, 0, 0]'),\n",
       " Text(0.7037773359840954, 0.5588235294117647, 'x[9] <= 11.755\\ngini = 0.722\\nsamples = 6\\nvalue = [2, 0, 1, 0, 2, 0, 0, 0, 1, 0]'),\n",
       " Text(0.6998011928429424, 0.5, 'x[32] <= -1.574\\ngini = 0.625\\nsamples = 4\\nvalue = [0, 0, 1, 0, 2, 0, 0, 0, 1, 0]'),\n",
       " Text(0.6958250497017893, 0.4411764705882353, 'x[34] <= -4.589\\ngini = 0.5\\nsamples = 2\\nvalue = [0, 0, 1, 0, 0, 0, 0, 0, 1, 0]'),\n",
       " Text(0.6918489065606361, 0.38235294117647056, 'gini = 0.0\\nsamples = 1\\nvalue = [0, 0, 0, 0, 0, 0, 0, 0, 1, 0]'),\n",
       " Text(0.6998011928429424, 0.38235294117647056, 'gini = 0.0\\nsamples = 1\\nvalue = [0, 0, 1, 0, 0, 0, 0, 0, 0, 0]'),\n",
       " Text(0.7037773359840954, 0.4411764705882353, 'gini = 0.0\\nsamples = 2\\nvalue = [0, 0, 0, 0, 2, 0, 0, 0, 0, 0]'),\n",
       " Text(0.7077534791252486, 0.5, 'gini = 0.0\\nsamples = 2\\nvalue = [2, 0, 0, 0, 0, 0, 0, 0, 0, 0]'),\n",
       " Text(0.731610337972167, 0.6764705882352942, 'x[10] <= -6.804\\ngini = 0.225\\nsamples = 57\\nvalue = [2, 0, 0, 0, 2, 0, 50, 0, 0, 3]'),\n",
       " Text(0.7236580516898609, 0.6176470588235294, 'x[38] <= 3.412\\ngini = 0.11\\nsamples = 52\\nvalue = [1, 0, 0, 0, 0, 0, 49, 0, 0, 2]'),\n",
       " Text(0.7196819085487077, 0.5588235294117647, 'x[26] <= 0.394\\ngini = 0.075\\nsamples = 51\\nvalue = [0, 0, 0, 0, 0, 0, 49, 0, 0, 2]'),\n",
       " Text(0.7157057654075547, 0.5, 'x[35] <= -0.031\\ngini = 0.039\\nsamples = 50\\nvalue = [0, 0, 0, 0, 0, 0, 49, 0, 0, 1]'),\n",
       " Text(0.7117296222664016, 0.4411764705882353, 'gini = 0.0\\nsamples = 48\\nvalue = [0, 0, 0, 0, 0, 0, 48, 0, 0, 0]'),\n",
       " Text(0.7196819085487077, 0.4411764705882353, 'x[10] <= -15.312\\ngini = 0.5\\nsamples = 2\\nvalue = [0, 0, 0, 0, 0, 0, 1, 0, 0, 1]'),\n",
       " Text(0.7157057654075547, 0.38235294117647056, 'gini = 0.0\\nsamples = 1\\nvalue = [0, 0, 0, 0, 0, 0, 1, 0, 0, 0]'),\n",
       " Text(0.7236580516898609, 0.38235294117647056, 'gini = 0.0\\nsamples = 1\\nvalue = [0, 0, 0, 0, 0, 0, 0, 0, 0, 1]'),\n",
       " Text(0.7236580516898609, 0.5, 'gini = 0.0\\nsamples = 1\\nvalue = [0, 0, 0, 0, 0, 0, 0, 0, 0, 1]'),\n",
       " Text(0.7276341948310139, 0.5588235294117647, 'gini = 0.0\\nsamples = 1\\nvalue = [1, 0, 0, 0, 0, 0, 0, 0, 0, 0]'),\n",
       " Text(0.7395626242544732, 0.6176470588235294, 'x[17] <= 1.953\\ngini = 0.72\\nsamples = 5\\nvalue = [1, 0, 0, 0, 2, 0, 1, 0, 0, 1]'),\n",
       " Text(0.73558648111332, 0.5588235294117647, 'x[21] <= -3.399\\ngini = 0.667\\nsamples = 3\\nvalue = [1, 0, 0, 0, 0, 0, 1, 0, 0, 1]'),\n",
       " Text(0.731610337972167, 0.5, 'gini = 0.0\\nsamples = 1\\nvalue = [0, 0, 0, 0, 0, 0, 0, 0, 0, 1]'),\n",
       " Text(0.7395626242544732, 0.5, 'x[27] <= -1.214\\ngini = 0.5\\nsamples = 2\\nvalue = [1, 0, 0, 0, 0, 0, 1, 0, 0, 0]'),\n",
       " Text(0.73558648111332, 0.4411764705882353, 'gini = 0.0\\nsamples = 1\\nvalue = [0, 0, 0, 0, 0, 0, 1, 0, 0, 0]'),\n",
       " Text(0.7435387673956262, 0.4411764705882353, 'gini = 0.0\\nsamples = 1\\nvalue = [1, 0, 0, 0, 0, 0, 0, 0, 0, 0]'),\n",
       " Text(0.7435387673956262, 0.5588235294117647, 'gini = 0.0\\nsamples = 2\\nvalue = [0, 0, 0, 0, 2, 0, 0, 0, 0, 0]'),\n",
       " Text(0.786779324055666, 0.7352941176470589, 'x[11] <= 13.219\\ngini = 0.741\\nsamples = 46\\nvalue = [21, 0, 2, 3, 6, 2, 6, 0, 3, 3]'),\n",
       " Text(0.7723658051689861, 0.6764705882352942, 'x[17] <= -1.977\\ngini = 0.646\\nsamples = 37\\nvalue = [21, 0, 2, 3, 0, 2, 3, 0, 3, 3]'),\n",
       " Text(0.7554671968190855, 0.6176470588235294, 'x[5] <= 5.023\\ngini = 0.24\\nsamples = 15\\nvalue = [13, 0, 0, 0, 0, 1, 1, 0, 0, 0]'),\n",
       " Text(0.7514910536779325, 0.5588235294117647, 'gini = 0.0\\nsamples = 1\\nvalue = [0, 0, 0, 0, 0, 1, 0, 0, 0, 0]'),\n",
       " Text(0.7594433399602386, 0.5588235294117647, 'x[0] <= -79.978\\ngini = 0.133\\nsamples = 14\\nvalue = [13, 0, 0, 0, 0, 0, 1, 0, 0, 0]'),\n",
       " Text(0.7554671968190855, 0.5, 'gini = 0.0\\nsamples = 13\\nvalue = [13, 0, 0, 0, 0, 0, 0, 0, 0, 0]'),\n",
       " Text(0.7634194831013916, 0.5, 'gini = 0.0\\nsamples = 1\\nvalue = [0, 0, 0, 0, 0, 0, 1, 0, 0, 0]'),\n",
       " Text(0.7892644135188867, 0.6176470588235294, 'x[0] <= -153.535\\ngini = 0.793\\nsamples = 22\\nvalue = [8, 0, 2, 3, 0, 1, 2, 0, 3, 3]'),\n",
       " Text(0.7753479125248509, 0.5588235294117647, 'x[12] <= -7.707\\ngini = 0.694\\nsamples = 7\\nvalue = [0, 0, 1, 0, 0, 1, 0, 0, 3, 2]'),\n",
       " Text(0.7713717693836978, 0.5, 'x[0] <= -194.253\\ngini = 0.625\\nsamples = 4\\nvalue = [0, 0, 1, 0, 0, 1, 0, 0, 0, 2]'),\n",
       " Text(0.7673956262425448, 0.4411764705882353, 'gini = 0.0\\nsamples = 2\\nvalue = [0, 0, 0, 0, 0, 0, 0, 0, 0, 2]'),\n",
       " Text(0.7753479125248509, 0.4411764705882353, 'x[37] <= -0.713\\ngini = 0.5\\nsamples = 2\\nvalue = [0, 0, 1, 0, 0, 1, 0, 0, 0, 0]'),\n",
       " Text(0.7713717693836978, 0.38235294117647056, 'gini = 0.0\\nsamples = 1\\nvalue = [0, 0, 0, 0, 0, 1, 0, 0, 0, 0]'),\n",
       " Text(0.7793240556660039, 0.38235294117647056, 'gini = 0.0\\nsamples = 1\\nvalue = [0, 0, 1, 0, 0, 0, 0, 0, 0, 0]'),\n",
       " Text(0.7793240556660039, 0.5, 'gini = 0.0\\nsamples = 3\\nvalue = [0, 0, 0, 0, 0, 0, 0, 0, 3, 0]'),\n",
       " Text(0.8031809145129225, 0.5588235294117647, 'x[33] <= -2.866\\ngini = 0.649\\nsamples = 15\\nvalue = [8, 0, 1, 3, 0, 0, 2, 0, 0, 1]'),\n",
       " Text(0.7952286282306164, 0.5, 'x[21] <= 1.601\\ngini = 0.776\\nsamples = 7\\nvalue = [1, 0, 1, 2, 0, 0, 2, 0, 0, 1]'),\n",
       " Text(0.7912524850894632, 0.4411764705882353, 'x[33] <= -3.998\\ngini = 0.72\\nsamples = 5\\nvalue = [1, 0, 1, 0, 0, 0, 2, 0, 0, 1]'),\n",
       " Text(0.7872763419483101, 0.38235294117647056, 'x[34] <= -4.182\\ngini = 0.667\\nsamples = 3\\nvalue = [1, 0, 1, 0, 0, 0, 0, 0, 0, 1]'),\n",
       " Text(0.7833001988071571, 0.3235294117647059, 'gini = 0.0\\nsamples = 1\\nvalue = [1, 0, 0, 0, 0, 0, 0, 0, 0, 0]'),\n",
       " Text(0.7912524850894632, 0.3235294117647059, 'x[32] <= -4.25\\ngini = 0.5\\nsamples = 2\\nvalue = [0, 0, 1, 0, 0, 0, 0, 0, 0, 1]'),\n",
       " Text(0.7872763419483101, 0.2647058823529412, 'gini = 0.0\\nsamples = 1\\nvalue = [0, 0, 0, 0, 0, 0, 0, 0, 0, 1]'),\n",
       " Text(0.7952286282306164, 0.2647058823529412, 'gini = 0.0\\nsamples = 1\\nvalue = [0, 0, 1, 0, 0, 0, 0, 0, 0, 0]'),\n",
       " Text(0.7952286282306164, 0.38235294117647056, 'gini = 0.0\\nsamples = 2\\nvalue = [0, 0, 0, 0, 0, 0, 2, 0, 0, 0]'),\n",
       " Text(0.7992047713717694, 0.4411764705882353, 'gini = 0.0\\nsamples = 2\\nvalue = [0, 0, 0, 2, 0, 0, 0, 0, 0, 0]'),\n",
       " Text(0.8111332007952287, 0.5, 'x[14] <= -2.118\\ngini = 0.219\\nsamples = 8\\nvalue = [7, 0, 0, 1, 0, 0, 0, 0, 0, 0]'),\n",
       " Text(0.8071570576540755, 0.4411764705882353, 'gini = 0.0\\nsamples = 7\\nvalue = [7, 0, 0, 0, 0, 0, 0, 0, 0, 0]'),\n",
       " Text(0.8151093439363817, 0.4411764705882353, 'gini = 0.0\\nsamples = 1\\nvalue = [0, 0, 0, 1, 0, 0, 0, 0, 0, 0]'),\n",
       " Text(0.8011928429423459, 0.6764705882352942, 'x[1] <= 81.834\\ngini = 0.444\\nsamples = 9\\nvalue = [0, 0, 0, 0, 6, 0, 3, 0, 0, 0]'),\n",
       " Text(0.7972166998011928, 0.6176470588235294, 'gini = 0.0\\nsamples = 6\\nvalue = [0, 0, 0, 0, 6, 0, 0, 0, 0, 0]'),\n",
       " Text(0.805168986083499, 0.6176470588235294, 'gini = 0.0\\nsamples = 3\\nvalue = [0, 0, 0, 0, 0, 0, 3, 0, 0, 0]'),\n",
       " Text(0.904696819085487, 0.8529411764705882, 'x[0] <= -94.534\\ngini = 0.745\\nsamples = 155\\nvalue = [0, 1, 7, 10, 24, 8, 3, 67, 28, 7]'),\n",
       " Text(0.8501491053677932, 0.7941176470588235, 'x[23] <= -2.878\\ngini = 0.776\\nsamples = 68\\nvalue = [0, 1, 2, 2, 15, 8, 2, 10, 25, 3]'),\n",
       " Text(0.8210735586481114, 0.7352941176470589, 'x[8] <= 5.259\\ngini = 0.58\\nsamples = 13\\nvalue = [0, 0, 0, 0, 8, 0, 1, 2, 1, 1]'),\n",
       " Text(0.8170974155069582, 0.6764705882352942, 'x[4] <= 5.292\\ngini = 0.778\\nsamples = 6\\nvalue = [0, 0, 0, 0, 1, 0, 1, 2, 1, 1]'),\n",
       " Text(0.8131212723658051, 0.6176470588235294, 'gini = 0.0\\nsamples = 2\\nvalue = [0, 0, 0, 0, 0, 0, 0, 2, 0, 0]'),\n",
       " Text(0.8210735586481114, 0.6176470588235294, 'x[37] <= -4.208\\ngini = 0.75\\nsamples = 4\\nvalue = [0, 0, 0, 0, 1, 0, 1, 0, 1, 1]'),\n",
       " Text(0.8170974155069582, 0.5588235294117647, 'gini = 0.0\\nsamples = 1\\nvalue = [0, 0, 0, 0, 0, 0, 0, 0, 1, 0]'),\n",
       " Text(0.8250497017892644, 0.5588235294117647, 'x[30] <= -4.104\\ngini = 0.667\\nsamples = 3\\nvalue = [0, 0, 0, 0, 1, 0, 1, 0, 0, 1]'),\n",
       " Text(0.8210735586481114, 0.5, 'gini = 0.0\\nsamples = 1\\nvalue = [0, 0, 0, 0, 0, 0, 1, 0, 0, 0]'),\n",
       " Text(0.8290258449304175, 0.5, 'x[19] <= -4.185\\ngini = 0.5\\nsamples = 2\\nvalue = [0, 0, 0, 0, 1, 0, 0, 0, 0, 1]'),\n",
       " Text(0.8250497017892644, 0.4411764705882353, 'gini = 0.0\\nsamples = 1\\nvalue = [0, 0, 0, 0, 0, 0, 0, 0, 0, 1]'),\n",
       " Text(0.8330019880715706, 0.4411764705882353, 'gini = 0.0\\nsamples = 1\\nvalue = [0, 0, 0, 0, 1, 0, 0, 0, 0, 0]'),\n",
       " Text(0.8250497017892644, 0.6764705882352942, 'gini = 0.0\\nsamples = 7\\nvalue = [0, 0, 0, 0, 7, 0, 0, 0, 0, 0]'),\n",
       " Text(0.8792246520874751, 0.7352941176470589, 'x[23] <= 3.277\\ngini = 0.746\\nsamples = 55\\nvalue = [0, 1, 2, 2, 7, 8, 1, 8, 24, 2]'),\n",
       " Text(0.8618290258449304, 0.6764705882352942, 'x[29] <= -1.418\\ngini = 0.666\\nsamples = 44\\nvalue = [0, 1, 2, 2, 5, 4, 0, 4, 24, 2]'),\n",
       " Text(0.8449304174950298, 0.6176470588235294, 'x[2] <= -23.439\\ngini = 0.822\\nsamples = 22\\nvalue = [0, 1, 2, 2, 3, 3, 0, 3, 7, 1]'),\n",
       " Text(0.8409542743538767, 0.5588235294117647, 'gini = 0.0\\nsamples = 5\\nvalue = [0, 0, 0, 0, 0, 0, 0, 0, 5, 0]'),\n",
       " Text(0.8489065606361829, 0.5588235294117647, 'x[31] <= 0.986\\ngini = 0.858\\nsamples = 17\\nvalue = [0, 1, 2, 2, 3, 3, 0, 3, 2, 1]'),\n",
       " Text(0.8449304174950298, 0.5, 'x[9] <= 6.452\\ngini = 0.837\\nsamples = 14\\nvalue = [0, 1, 2, 2, 3, 3, 0, 0, 2, 1]'),\n",
       " Text(0.8409542743538767, 0.4411764705882353, 'x[33] <= -0.735\\ngini = 0.81\\nsamples = 11\\nvalue = [0, 1, 2, 2, 0, 3, 0, 0, 2, 1]'),\n",
       " Text(0.8330019880715706, 0.38235294117647056, 'x[4] <= 9.415\\ngini = 0.48\\nsamples = 5\\nvalue = [0, 0, 2, 0, 0, 3, 0, 0, 0, 0]'),\n",
       " Text(0.8290258449304175, 0.3235294117647059, 'gini = 0.0\\nsamples = 3\\nvalue = [0, 0, 0, 0, 0, 3, 0, 0, 0, 0]'),\n",
       " Text(0.8369781312127237, 0.3235294117647059, 'gini = 0.0\\nsamples = 2\\nvalue = [0, 0, 2, 0, 0, 0, 0, 0, 0, 0]'),\n",
       " Text(0.8489065606361829, 0.38235294117647056, 'x[23] <= 0.914\\ngini = 0.722\\nsamples = 6\\nvalue = [0, 1, 0, 2, 0, 0, 0, 0, 2, 1]'),\n",
       " Text(0.8449304174950298, 0.3235294117647059, 'x[28] <= -2.765\\ngini = 0.625\\nsamples = 4\\nvalue = [0, 1, 0, 0, 0, 0, 0, 0, 2, 1]'),\n",
       " Text(0.8409542743538767, 0.2647058823529412, 'x[4] <= 6.978\\ngini = 0.5\\nsamples = 2\\nvalue = [0, 1, 0, 0, 0, 0, 0, 0, 0, 1]'),\n",
       " Text(0.8369781312127237, 0.20588235294117646, 'gini = 0.0\\nsamples = 1\\nvalue = [0, 0, 0, 0, 0, 0, 0, 0, 0, 1]'),\n",
       " Text(0.8449304174950298, 0.20588235294117646, 'gini = 0.0\\nsamples = 1\\nvalue = [0, 1, 0, 0, 0, 0, 0, 0, 0, 0]'),\n",
       " Text(0.8489065606361829, 0.2647058823529412, 'gini = 0.0\\nsamples = 2\\nvalue = [0, 0, 0, 0, 0, 0, 0, 0, 2, 0]'),\n",
       " Text(0.852882703777336, 0.3235294117647059, 'gini = 0.0\\nsamples = 2\\nvalue = [0, 0, 0, 2, 0, 0, 0, 0, 0, 0]'),\n",
       " Text(0.8489065606361829, 0.4411764705882353, 'gini = 0.0\\nsamples = 3\\nvalue = [0, 0, 0, 0, 3, 0, 0, 0, 0, 0]'),\n",
       " Text(0.852882703777336, 0.5, 'gini = 0.0\\nsamples = 3\\nvalue = [0, 0, 0, 0, 0, 0, 0, 3, 0, 0]'),\n",
       " Text(0.878727634194831, 0.6176470588235294, 'x[1] <= 106.824\\ngini = 0.388\\nsamples = 22\\nvalue = [0, 0, 0, 0, 2, 1, 0, 1, 17, 1]'),\n",
       " Text(0.8687872763419483, 0.5588235294117647, 'x[18] <= 2.377\\ngini = 0.265\\nsamples = 20\\nvalue = [0, 0, 0, 0, 2, 1, 0, 0, 17, 0]'),\n",
       " Text(0.8608349900596421, 0.5, 'x[2] <= 30.653\\ngini = 0.105\\nsamples = 18\\nvalue = [0, 0, 0, 0, 1, 0, 0, 0, 17, 0]'),\n",
       " Text(0.856858846918489, 0.4411764705882353, 'gini = 0.0\\nsamples = 17\\nvalue = [0, 0, 0, 0, 0, 0, 0, 0, 17, 0]'),\n",
       " Text(0.8648111332007953, 0.4411764705882353, 'gini = 0.0\\nsamples = 1\\nvalue = [0, 0, 0, 0, 1, 0, 0, 0, 0, 0]'),\n",
       " Text(0.8767395626242545, 0.5, 'x[26] <= 0.851\\ngini = 0.5\\nsamples = 2\\nvalue = [0, 0, 0, 0, 1, 1, 0, 0, 0, 0]'),\n",
       " Text(0.8727634194831014, 0.4411764705882353, 'gini = 0.0\\nsamples = 1\\nvalue = [0, 0, 0, 0, 1, 0, 0, 0, 0, 0]'),\n",
       " Text(0.8807157057654076, 0.4411764705882353, 'gini = 0.0\\nsamples = 1\\nvalue = [0, 0, 0, 0, 0, 1, 0, 0, 0, 0]'),\n",
       " Text(0.8886679920477137, 0.5588235294117647, 'x[12] <= 3.209\\ngini = 0.5\\nsamples = 2\\nvalue = [0, 0, 0, 0, 0, 0, 0, 1, 0, 1]'),\n",
       " Text(0.8846918489065606, 0.5, 'gini = 0.0\\nsamples = 1\\nvalue = [0, 0, 0, 0, 0, 0, 0, 1, 0, 0]'),\n",
       " Text(0.8926441351888668, 0.5, 'gini = 0.0\\nsamples = 1\\nvalue = [0, 0, 0, 0, 0, 0, 0, 0, 0, 1]'),\n",
       " Text(0.8966202783300199, 0.6764705882352942, 'x[27] <= -1.455\\ngini = 0.694\\nsamples = 11\\nvalue = [0, 0, 0, 0, 2, 4, 1, 4, 0, 0]'),\n",
       " Text(0.8926441351888668, 0.6176470588235294, 'gini = 0.0\\nsamples = 3\\nvalue = [0, 0, 0, 0, 0, 0, 0, 3, 0, 0]'),\n",
       " Text(0.9005964214711729, 0.6176470588235294, 'x[0] <= -138.797\\ngini = 0.656\\nsamples = 8\\nvalue = [0, 0, 0, 0, 2, 4, 1, 1, 0, 0]'),\n",
       " Text(0.8966202783300199, 0.5588235294117647, 'gini = 0.0\\nsamples = 4\\nvalue = [0, 0, 0, 0, 0, 4, 0, 0, 0, 0]'),\n",
       " Text(0.904572564612326, 0.5588235294117647, 'x[33] <= 0.816\\ngini = 0.625\\nsamples = 4\\nvalue = [0, 0, 0, 0, 2, 0, 1, 1, 0, 0]'),\n",
       " Text(0.9005964214711729, 0.5, 'gini = 0.0\\nsamples = 2\\nvalue = [0, 0, 0, 0, 2, 0, 0, 0, 0, 0]'),\n",
       " Text(0.9085487077534792, 0.5, 'x[21] <= -1.339\\ngini = 0.5\\nsamples = 2\\nvalue = [0, 0, 0, 0, 0, 0, 1, 1, 0, 0]'),\n",
       " Text(0.904572564612326, 0.4411764705882353, 'gini = 0.0\\nsamples = 1\\nvalue = [0, 0, 0, 0, 0, 0, 0, 1, 0, 0]'),\n",
       " Text(0.9125248508946322, 0.4411764705882353, 'gini = 0.0\\nsamples = 1\\nvalue = [0, 0, 0, 0, 0, 0, 1, 0, 0, 0]'),\n",
       " Text(0.9592445328031809, 0.7941176470588235, 'x[18] <= -1.721\\ngini = 0.545\\nsamples = 87\\nvalue = [0, 0, 5, 8, 9, 0, 1, 57, 3, 4]'),\n",
       " Text(0.9383697813121272, 0.7352941176470589, 'x[38] <= -1.574\\ngini = 0.821\\nsamples = 21\\nvalue = [0, 0, 3, 5, 5, 0, 1, 1, 3, 3]'),\n",
       " Text(0.9244532803180915, 0.6764705882352942, 'x[30] <= -2.85\\ngini = 0.75\\nsamples = 12\\nvalue = [0, 0, 2, 0, 5, 0, 1, 1, 2, 1]'),\n",
       " Text(0.9165009940357853, 0.6176470588235294, 'x[17] <= -0.534\\ngini = 0.64\\nsamples = 5\\nvalue = [0, 0, 2, 0, 0, 0, 1, 0, 2, 0]'),\n",
       " Text(0.9125248508946322, 0.5588235294117647, 'gini = 0.0\\nsamples = 2\\nvalue = [0, 0, 0, 0, 0, 0, 0, 0, 2, 0]'),\n",
       " Text(0.9204771371769384, 0.5588235294117647, 'x[34] <= -1.008\\ngini = 0.444\\nsamples = 3\\nvalue = [0, 0, 2, 0, 0, 0, 1, 0, 0, 0]'),\n",
       " Text(0.9165009940357853, 0.5, 'gini = 0.0\\nsamples = 2\\nvalue = [0, 0, 2, 0, 0, 0, 0, 0, 0, 0]'),\n",
       " Text(0.9244532803180915, 0.5, 'gini = 0.0\\nsamples = 1\\nvalue = [0, 0, 0, 0, 0, 0, 1, 0, 0, 0]'),\n",
       " Text(0.9324055666003976, 0.6176470588235294, 'x[26] <= -0.921\\ngini = 0.449\\nsamples = 7\\nvalue = [0, 0, 0, 0, 5, 0, 0, 1, 0, 1]'),\n",
       " Text(0.9284294234592445, 0.5588235294117647, 'gini = 0.0\\nsamples = 5\\nvalue = [0, 0, 0, 0, 5, 0, 0, 0, 0, 0]'),\n",
       " Text(0.9363817097415507, 0.5588235294117647, 'x[21] <= -0.879\\ngini = 0.5\\nsamples = 2\\nvalue = [0, 0, 0, 0, 0, 0, 0, 1, 0, 1]'),\n",
       " Text(0.9324055666003976, 0.5, 'gini = 0.0\\nsamples = 1\\nvalue = [0, 0, 0, 0, 0, 0, 0, 1, 0, 0]'),\n",
       " Text(0.9403578528827038, 0.5, 'gini = 0.0\\nsamples = 1\\nvalue = [0, 0, 0, 0, 0, 0, 0, 0, 0, 1]'),\n",
       " Text(0.952286282306163, 0.6764705882352942, 'x[9] <= 3.128\\ngini = 0.617\\nsamples = 9\\nvalue = [0, 0, 1, 5, 0, 0, 0, 0, 1, 2]'),\n",
       " Text(0.94831013916501, 0.6176470588235294, 'x[31] <= -0.147\\ngini = 0.625\\nsamples = 4\\nvalue = [0, 0, 1, 0, 0, 0, 0, 0, 1, 2]'),\n",
       " Text(0.9443339960238568, 0.5588235294117647, 'gini = 0.0\\nsamples = 2\\nvalue = [0, 0, 0, 0, 0, 0, 0, 0, 0, 2]'),\n",
       " Text(0.952286282306163, 0.5588235294117647, 'x[2] <= 1.778\\ngini = 0.5\\nsamples = 2\\nvalue = [0, 0, 1, 0, 0, 0, 0, 0, 1, 0]'),\n",
       " Text(0.94831013916501, 0.5, 'gini = 0.0\\nsamples = 1\\nvalue = [0, 0, 0, 0, 0, 0, 0, 0, 1, 0]'),\n",
       " Text(0.9562624254473161, 0.5, 'gini = 0.0\\nsamples = 1\\nvalue = [0, 0, 1, 0, 0, 0, 0, 0, 0, 0]'),\n",
       " Text(0.9562624254473161, 0.6176470588235294, 'gini = 0.0\\nsamples = 5\\nvalue = [0, 0, 0, 5, 0, 0, 0, 0, 0, 0]'),\n",
       " Text(0.9801192842942346, 0.7352941176470589, 'x[21] <= 3.77\\ngini = 0.273\\nsamples = 66\\nvalue = [0, 0, 2, 3, 4, 0, 0, 56, 0, 1]'),\n",
       " Text(0.9761431411530815, 0.6764705882352942, 'x[22] <= -3.418\\ngini = 0.23\\nsamples = 64\\nvalue = [0, 0, 2, 3, 2, 0, 0, 56, 0, 1]'),\n",
       " Text(0.9642147117296223, 0.6176470588235294, 'x[8] <= 2.148\\ngini = 0.72\\nsamples = 5\\nvalue = [0, 0, 1, 2, 1, 0, 0, 1, 0, 0]'),\n",
       " Text(0.9602385685884692, 0.5588235294117647, 'gini = 0.0\\nsamples = 2\\nvalue = [0, 0, 0, 2, 0, 0, 0, 0, 0, 0]'),\n",
       " Text(0.9681908548707754, 0.5588235294117647, 'x[15] <= 1.129\\ngini = 0.667\\nsamples = 3\\nvalue = [0, 0, 1, 0, 1, 0, 0, 1, 0, 0]'),\n",
       " Text(0.9642147117296223, 0.5, 'gini = 0.0\\nsamples = 1\\nvalue = [0, 0, 1, 0, 0, 0, 0, 0, 0, 0]'),\n",
       " Text(0.9721669980119284, 0.5, 'x[26] <= -3.346\\ngini = 0.5\\nsamples = 2\\nvalue = [0, 0, 0, 0, 1, 0, 0, 1, 0, 0]'),\n",
       " Text(0.9681908548707754, 0.4411764705882353, 'gini = 0.0\\nsamples = 1\\nvalue = [0, 0, 0, 0, 0, 0, 0, 1, 0, 0]'),\n",
       " Text(0.9761431411530815, 0.4411764705882353, 'gini = 0.0\\nsamples = 1\\nvalue = [0, 0, 0, 0, 1, 0, 0, 0, 0, 0]'),\n",
       " Text(0.9880715705765407, 0.6176470588235294, 'x[19] <= -5.362\\ngini = 0.13\\nsamples = 59\\nvalue = [0, 0, 1, 1, 1, 0, 0, 55, 0, 1]'),\n",
       " Text(0.9840954274353877, 0.5588235294117647, 'gini = 0.0\\nsamples = 1\\nvalue = [0, 0, 0, 0, 0, 0, 0, 0, 0, 1]'),\n",
       " Text(0.9920477137176938, 0.5588235294117647, 'x[7] <= 13.028\\ngini = 0.1\\nsamples = 58\\nvalue = [0, 0, 1, 1, 1, 0, 0, 55, 0, 0]'),\n",
       " Text(0.9880715705765407, 0.5, 'x[23] <= -4.367\\ngini = 0.068\\nsamples = 57\\nvalue = [0, 0, 0, 1, 1, 0, 0, 55, 0, 0]'),\n",
       " Text(0.9840954274353877, 0.4411764705882353, 'gini = 0.0\\nsamples = 1\\nvalue = [0, 0, 0, 0, 1, 0, 0, 0, 0, 0]'),\n",
       " Text(0.9920477137176938, 0.4411764705882353, 'x[8] <= 0.975\\ngini = 0.035\\nsamples = 56\\nvalue = [0, 0, 0, 1, 0, 0, 0, 55, 0, 0]'),\n",
       " Text(0.9880715705765407, 0.38235294117647056, 'x[38] <= -2.009\\ngini = 0.375\\nsamples = 4\\nvalue = [0, 0, 0, 1, 0, 0, 0, 3, 0, 0]'),\n",
       " Text(0.9840954274353877, 0.3235294117647059, 'gini = 0.0\\nsamples = 1\\nvalue = [0, 0, 0, 1, 0, 0, 0, 0, 0, 0]'),\n",
       " Text(0.9920477137176938, 0.3235294117647059, 'gini = 0.0\\nsamples = 3\\nvalue = [0, 0, 0, 0, 0, 0, 0, 3, 0, 0]'),\n",
       " Text(0.9960238568588469, 0.38235294117647056, 'gini = 0.0\\nsamples = 52\\nvalue = [0, 0, 0, 0, 0, 0, 0, 52, 0, 0]'),\n",
       " Text(0.9960238568588469, 0.5, 'gini = 0.0\\nsamples = 1\\nvalue = [0, 0, 1, 0, 0, 0, 0, 0, 0, 0]'),\n",
       " Text(0.9840954274353877, 0.6764705882352942, 'gini = 0.0\\nsamples = 2\\nvalue = [0, 0, 0, 0, 2, 0, 0, 0, 0, 0]')]"
      ]
     },
     "execution_count": 188,
     "metadata": {},
     "output_type": "execute_result"
    }
   ],
   "source": [
    "from sklearn import tree\n",
    "tree.plot_tree(classifier)"
   ]
  },
  {
   "cell_type": "code",
   "execution_count": 189,
   "id": "d8e02b82",
   "metadata": {},
   "outputs": [
    {
     "name": "stdout",
     "output_type": "stream",
     "text": [
      "Requirement already satisfied: graphviz in /home/trupti/Desktop/anaconda3/lib/python3.11/site-packages (0.20.1)\n",
      "Note: you may need to restart the kernel to use updated packages.\n"
     ]
    }
   ],
   "source": [
    "pip install graphviz"
   ]
  },
  {
   "cell_type": "code",
   "execution_count": 190,
   "id": "2d735442",
   "metadata": {},
   "outputs": [],
   "source": [
    "import graphviz\n",
    "from sklearn.tree import export_graphviz"
   ]
  },
  {
   "cell_type": "code",
   "execution_count": 193,
   "id": "e8e98a17",
   "metadata": {},
   "outputs": [],
   "source": [
    "from IPython.display import display"
   ]
  },
  {
   "cell_type": "code",
   "execution_count": 194,
   "id": "cbcf79bf",
   "metadata": {},
   "outputs": [],
   "source": [
    "from sklearn.naive_bayes import GaussianNB"
   ]
  },
  {
   "cell_type": "code",
   "execution_count": 195,
   "id": "14fca634",
   "metadata": {},
   "outputs": [],
   "source": [
    "model = GaussianNB()"
   ]
  },
  {
   "cell_type": "code",
   "execution_count": 199,
   "id": "47c34bf8",
   "metadata": {},
   "outputs": [
    {
     "data": {
      "text/html": [
       "<style>#sk-container-id-29 {color: black;}#sk-container-id-29 pre{padding: 0;}#sk-container-id-29 div.sk-toggleable {background-color: white;}#sk-container-id-29 label.sk-toggleable__label {cursor: pointer;display: block;width: 100%;margin-bottom: 0;padding: 0.3em;box-sizing: border-box;text-align: center;}#sk-container-id-29 label.sk-toggleable__label-arrow:before {content: \"▸\";float: left;margin-right: 0.25em;color: #696969;}#sk-container-id-29 label.sk-toggleable__label-arrow:hover:before {color: black;}#sk-container-id-29 div.sk-estimator:hover label.sk-toggleable__label-arrow:before {color: black;}#sk-container-id-29 div.sk-toggleable__content {max-height: 0;max-width: 0;overflow: hidden;text-align: left;background-color: #f0f8ff;}#sk-container-id-29 div.sk-toggleable__content pre {margin: 0.2em;color: black;border-radius: 0.25em;background-color: #f0f8ff;}#sk-container-id-29 input.sk-toggleable__control:checked~div.sk-toggleable__content {max-height: 200px;max-width: 100%;overflow: auto;}#sk-container-id-29 input.sk-toggleable__control:checked~label.sk-toggleable__label-arrow:before {content: \"▾\";}#sk-container-id-29 div.sk-estimator input.sk-toggleable__control:checked~label.sk-toggleable__label {background-color: #d4ebff;}#sk-container-id-29 div.sk-label input.sk-toggleable__control:checked~label.sk-toggleable__label {background-color: #d4ebff;}#sk-container-id-29 input.sk-hidden--visually {border: 0;clip: rect(1px 1px 1px 1px);clip: rect(1px, 1px, 1px, 1px);height: 1px;margin: -1px;overflow: hidden;padding: 0;position: absolute;width: 1px;}#sk-container-id-29 div.sk-estimator {font-family: monospace;background-color: #f0f8ff;border: 1px dotted black;border-radius: 0.25em;box-sizing: border-box;margin-bottom: 0.5em;}#sk-container-id-29 div.sk-estimator:hover {background-color: #d4ebff;}#sk-container-id-29 div.sk-parallel-item::after {content: \"\";width: 100%;border-bottom: 1px solid gray;flex-grow: 1;}#sk-container-id-29 div.sk-label:hover label.sk-toggleable__label {background-color: #d4ebff;}#sk-container-id-29 div.sk-serial::before {content: \"\";position: absolute;border-left: 1px solid gray;box-sizing: border-box;top: 0;bottom: 0;left: 50%;z-index: 0;}#sk-container-id-29 div.sk-serial {display: flex;flex-direction: column;align-items: center;background-color: white;padding-right: 0.2em;padding-left: 0.2em;position: relative;}#sk-container-id-29 div.sk-item {position: relative;z-index: 1;}#sk-container-id-29 div.sk-parallel {display: flex;align-items: stretch;justify-content: center;background-color: white;position: relative;}#sk-container-id-29 div.sk-item::before, #sk-container-id-29 div.sk-parallel-item::before {content: \"\";position: absolute;border-left: 1px solid gray;box-sizing: border-box;top: 0;bottom: 0;left: 50%;z-index: -1;}#sk-container-id-29 div.sk-parallel-item {display: flex;flex-direction: column;z-index: 1;position: relative;background-color: white;}#sk-container-id-29 div.sk-parallel-item:first-child::after {align-self: flex-end;width: 50%;}#sk-container-id-29 div.sk-parallel-item:last-child::after {align-self: flex-start;width: 50%;}#sk-container-id-29 div.sk-parallel-item:only-child::after {width: 0;}#sk-container-id-29 div.sk-dashed-wrapped {border: 1px dashed gray;margin: 0 0.4em 0.5em 0.4em;box-sizing: border-box;padding-bottom: 0.4em;background-color: white;}#sk-container-id-29 div.sk-label label {font-family: monospace;font-weight: bold;display: inline-block;line-height: 1.2em;}#sk-container-id-29 div.sk-label-container {text-align: center;}#sk-container-id-29 div.sk-container {/* jupyter's `normalize.less` sets `[hidden] { display: none; }` but bootstrap.min.css set `[hidden] { display: none !important; }` so we also need the `!important` here to be able to override the default hidden behavior on the sphinx rendered scikit-learn.org. See: https://github.com/scikit-learn/scikit-learn/issues/21755 */display: inline-block !important;position: relative;}#sk-container-id-29 div.sk-text-repr-fallback {display: none;}</style><div id=\"sk-container-id-29\" class=\"sk-top-container\"><div class=\"sk-text-repr-fallback\"><pre>GaussianNB()</pre><b>In a Jupyter environment, please rerun this cell to show the HTML representation or trust the notebook. <br />On GitHub, the HTML representation is unable to render, please try loading this page with nbviewer.org.</b></div><div class=\"sk-container\" hidden><div class=\"sk-item\"><div class=\"sk-estimator sk-toggleable\"><input class=\"sk-toggleable__control sk-hidden--visually\" id=\"sk-estimator-id-29\" type=\"checkbox\" checked><label for=\"sk-estimator-id-29\" class=\"sk-toggleable__label sk-toggleable__label-arrow\">GaussianNB</label><div class=\"sk-toggleable__content\"><pre>GaussianNB()</pre></div></div></div></div></div>"
      ],
      "text/plain": [
       "GaussianNB()"
      ]
     },
     "execution_count": 199,
     "metadata": {},
     "output_type": "execute_result"
    }
   ],
   "source": [
    "model.fit(X_train, y_train_encoded)"
   ]
  },
  {
   "cell_type": "code",
   "execution_count": 200,
   "id": "745e358d",
   "metadata": {},
   "outputs": [],
   "source": [
    "#model.fit(X_train, y_train)"
   ]
  },
  {
   "cell_type": "code",
   "execution_count": 201,
   "id": "cc12ffae",
   "metadata": {},
   "outputs": [
    {
     "data": {
      "text/plain": [
       "array([7, 7, 7, 2, 5, 2, 7, 1, 4, 6, 3, 6, 7, 6, 8, 9, 8, 2, 9, 8, 5, 6,\n",
       "       2, 5, 4, 4, 1, 2, 4, 2, 1, 7, 6, 5, 6, 6, 1, 1, 6, 5, 7, 9, 7, 4,\n",
       "       0, 5, 9, 7, 6, 8, 6, 1, 7, 1, 0, 8, 1, 5, 5, 7, 6, 6, 6, 1, 7, 6,\n",
       "       5, 7, 0, 1, 2, 1, 6, 1, 6, 9, 0, 7, 5, 6, 3, 5, 9, 8, 6, 7, 6, 4,\n",
       "       8, 4, 4, 2, 3, 5, 7, 2, 9, 8, 9, 3, 0, 8, 2, 6, 0, 7, 4, 9, 6, 6,\n",
       "       9, 1, 2, 6, 2, 7, 5, 7, 7, 2, 2, 0, 7, 7, 4, 3, 1, 9, 4, 2, 6, 9,\n",
       "       2, 4, 1, 7, 8, 0, 0, 2, 5, 6, 9, 2, 1, 7, 6, 8, 9, 7, 6, 7, 7, 7,\n",
       "       0, 6, 6, 0, 8, 6, 8, 7, 0, 6, 7, 6, 0, 8, 2, 1, 2, 6, 6, 9, 9, 7,\n",
       "       2, 4, 9, 8, 8, 1, 7, 4, 2, 5, 6, 2, 9, 8, 7, 9, 7, 2, 3, 0, 0, 0,\n",
       "       0, 6])"
      ]
     },
     "execution_count": 201,
     "metadata": {},
     "output_type": "execute_result"
    }
   ],
   "source": [
    "model.predict(X_test)"
   ]
  },
  {
   "cell_type": "code",
   "execution_count": 202,
   "id": "72a033e5",
   "metadata": {},
   "outputs": [
    {
     "name": "stderr",
     "output_type": "stream",
     "text": [
      "/home/trupti/Desktop/anaconda3/lib/python3.11/site-packages/sklearn/metrics/_classification.py:226: FutureWarning: elementwise comparison failed; returning scalar instead, but in the future will perform elementwise comparison\n",
      "  score = y_true == y_pred\n"
     ]
    },
    {
     "data": {
      "text/plain": [
       "0.0"
      ]
     },
     "execution_count": 202,
     "metadata": {},
     "output_type": "execute_result"
    }
   ],
   "source": [
    "model.score(X_test, y_test)"
   ]
  },
  {
   "cell_type": "code",
   "execution_count": null,
   "id": "83cad304",
   "metadata": {},
   "outputs": [],
   "source": []
  }
 ],
 "metadata": {
  "kernelspec": {
   "display_name": "Python 3 (ipykernel)",
   "language": "python",
   "name": "python3"
  },
  "language_info": {
   "codemirror_mode": {
    "name": "ipython",
    "version": 3
   },
   "file_extension": ".py",
   "mimetype": "text/x-python",
   "name": "python",
   "nbconvert_exporter": "python",
   "pygments_lexer": "ipython3",
   "version": "3.11.3"
  }
 },
 "nbformat": 4,
 "nbformat_minor": 5
}
